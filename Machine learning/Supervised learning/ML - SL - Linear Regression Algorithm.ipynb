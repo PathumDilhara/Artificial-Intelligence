{
 "cells": [
  {
   "cell_type": "markdown",
   "id": "511f88c2",
   "metadata": {},
   "source": [
    "# Machine Learning - Supervised Learning  Algorithm\n",
    "# 01) Linear Regression\n",
    "# a) Simple Linear Regression\n",
    "##### Genarely we don't import entire library/package just essential module we need, libry.module---> class"
   ]
  },
  {
   "cell_type": "code",
   "execution_count": 3,
   "id": "2398a2ff",
   "metadata": {},
   "outputs": [],
   "source": [
    "import numpy as np\n",
    "import pandas as pd\n",
    "from sklearn.linear_model import LinearRegression\n",
    "from sklearn.model_selection import train_test_split\n",
    "from sklearn.metrics import mean_squared_error"
   ]
  },
  {
   "cell_type": "markdown",
   "id": "3b745178",
   "metadata": {},
   "source": [
    "##### Importing CSV file"
   ]
  },
  {
   "cell_type": "code",
   "execution_count": 4,
   "id": "09110972",
   "metadata": {
    "scrolled": true
   },
   "outputs": [
    {
     "data": {
      "text/html": [
       "<div>\n",
       "<style scoped>\n",
       "    .dataframe tbody tr th:only-of-type {\n",
       "        vertical-align: middle;\n",
       "    }\n",
       "\n",
       "    .dataframe tbody tr th {\n",
       "        vertical-align: top;\n",
       "    }\n",
       "\n",
       "    .dataframe thead th {\n",
       "        text-align: right;\n",
       "    }\n",
       "</style>\n",
       "<table border=\"1\" class=\"dataframe\">\n",
       "  <thead>\n",
       "    <tr style=\"text-align: right;\">\n",
       "      <th></th>\n",
       "      <th>crim</th>\n",
       "      <th>zn</th>\n",
       "      <th>indus</th>\n",
       "      <th>nox</th>\n",
       "      <th>rm</th>\n",
       "      <th>age</th>\n",
       "      <th>dis</th>\n",
       "      <th>rad</th>\n",
       "      <th>tax</th>\n",
       "      <th>ptratio</th>\n",
       "      <th>black</th>\n",
       "      <th>lstat</th>\n",
       "      <th>medv</th>\n",
       "    </tr>\n",
       "  </thead>\n",
       "  <tbody>\n",
       "    <tr>\n",
       "      <th>0</th>\n",
       "      <td>0.00632</td>\n",
       "      <td>18.0</td>\n",
       "      <td>2.31</td>\n",
       "      <td>0.538</td>\n",
       "      <td>6.575</td>\n",
       "      <td>65.2</td>\n",
       "      <td>4.0900</td>\n",
       "      <td>1</td>\n",
       "      <td>296</td>\n",
       "      <td>15.3</td>\n",
       "      <td>396.90</td>\n",
       "      <td>4.98</td>\n",
       "      <td>24.0</td>\n",
       "    </tr>\n",
       "    <tr>\n",
       "      <th>1</th>\n",
       "      <td>0.02731</td>\n",
       "      <td>0.0</td>\n",
       "      <td>7.07</td>\n",
       "      <td>0.469</td>\n",
       "      <td>6.421</td>\n",
       "      <td>78.9</td>\n",
       "      <td>4.9671</td>\n",
       "      <td>2</td>\n",
       "      <td>242</td>\n",
       "      <td>17.8</td>\n",
       "      <td>396.90</td>\n",
       "      <td>9.14</td>\n",
       "      <td>21.6</td>\n",
       "    </tr>\n",
       "    <tr>\n",
       "      <th>2</th>\n",
       "      <td>0.02729</td>\n",
       "      <td>0.0</td>\n",
       "      <td>7.07</td>\n",
       "      <td>0.469</td>\n",
       "      <td>7.185</td>\n",
       "      <td>61.1</td>\n",
       "      <td>4.9671</td>\n",
       "      <td>2</td>\n",
       "      <td>242</td>\n",
       "      <td>17.8</td>\n",
       "      <td>392.83</td>\n",
       "      <td>4.03</td>\n",
       "      <td>34.7</td>\n",
       "    </tr>\n",
       "    <tr>\n",
       "      <th>3</th>\n",
       "      <td>0.03237</td>\n",
       "      <td>0.0</td>\n",
       "      <td>2.18</td>\n",
       "      <td>0.458</td>\n",
       "      <td>6.998</td>\n",
       "      <td>45.8</td>\n",
       "      <td>6.0622</td>\n",
       "      <td>3</td>\n",
       "      <td>222</td>\n",
       "      <td>18.7</td>\n",
       "      <td>394.63</td>\n",
       "      <td>2.94</td>\n",
       "      <td>33.4</td>\n",
       "    </tr>\n",
       "    <tr>\n",
       "      <th>4</th>\n",
       "      <td>0.06905</td>\n",
       "      <td>0.0</td>\n",
       "      <td>2.18</td>\n",
       "      <td>0.458</td>\n",
       "      <td>7.147</td>\n",
       "      <td>54.2</td>\n",
       "      <td>6.0622</td>\n",
       "      <td>3</td>\n",
       "      <td>222</td>\n",
       "      <td>18.7</td>\n",
       "      <td>396.90</td>\n",
       "      <td>5.33</td>\n",
       "      <td>36.2</td>\n",
       "    </tr>\n",
       "  </tbody>\n",
       "</table>\n",
       "</div>"
      ],
      "text/plain": [
       "      crim    zn  indus    nox     rm   age     dis  rad  tax  ptratio  \\\n",
       "0  0.00632  18.0   2.31  0.538  6.575  65.2  4.0900    1  296     15.3   \n",
       "1  0.02731   0.0   7.07  0.469  6.421  78.9  4.9671    2  242     17.8   \n",
       "2  0.02729   0.0   7.07  0.469  7.185  61.1  4.9671    2  242     17.8   \n",
       "3  0.03237   0.0   2.18  0.458  6.998  45.8  6.0622    3  222     18.7   \n",
       "4  0.06905   0.0   2.18  0.458  7.147  54.2  6.0622    3  222     18.7   \n",
       "\n",
       "    black  lstat  medv  \n",
       "0  396.90   4.98  24.0  \n",
       "1  396.90   9.14  21.6  \n",
       "2  392.83   4.03  34.7  \n",
       "3  394.63   2.94  33.4  \n",
       "4  396.90   5.33  36.2  "
      ]
     },
     "execution_count": 4,
     "metadata": {},
     "output_type": "execute_result"
    }
   ],
   "source": [
    "data1 = pd.read_csv(\"Boston.csv\")\n",
    "data1.head()"
   ]
  },
  {
   "cell_type": "markdown",
   "id": "a5e4c2de",
   "metadata": {},
   "source": [
    "##### Let take \" medv \" as responce variable (y) others are x variables.\n",
    "\n",
    "##### before going to multiple linear regression let we do simple linear regression"
   ]
  },
  {
   "cell_type": "markdown",
   "id": "49bb5125",
   "metadata": {},
   "source": [
    "## Model Fitting"
   ]
  },
  {
   "cell_type": "markdown",
   "id": "5fc390c7",
   "metadata": {},
   "source": [
    "### Creating x and y variables"
   ]
  },
  {
   "cell_type": "code",
   "execution_count": 6,
   "id": "9d958ac7",
   "metadata": {},
   "outputs": [],
   "source": [
    "x = data1.iloc[:,5].values.reshape(506,1)   # Called as data series, value are in  array type,  \n",
    "y = data1.iloc[:,12].values                 # Check by using print(x) and print(y)"
   ]
  },
  {
   "cell_type": "markdown",
   "id": "0554afb1",
   "metadata": {},
   "source": [
    "##### To fit the model we must have x as two dimentional array, that is one column and 506 rows(chek using \"data.shape\")  ,  Then we \" Reshape \" it as an array.\n",
    "##### y is ok in one diamentional form"
   ]
  },
  {
   "cell_type": "code",
   "execution_count": 7,
   "id": "05db20f0",
   "metadata": {},
   "outputs": [
    {
     "name": "stdout",
     "output_type": "stream",
     "text": [
      "Shape of data set   : (506, 13)\n",
      "Shape of single x   : (506,)\n",
      "Shape of reshaped x : (506, 1)\n",
      "Shape of multiple x : (506, 12)\n",
      "Shape of y          : (506,)\n"
     ]
    }
   ],
   "source": [
    "print(\"Shape of data set   :\",data1.shape)   # How many columns and rows in this data set\n",
    "print(\"Shape of single x   :\",data1.iloc[:,5].values.shape)   #x single ---> One diamentional array\n",
    "print(\"Shape of reshaped x :\",data1.iloc[:,5].values.reshape(506,1).shape)   #x new --- >Now two diamentional array\n",
    "print(\"Shape of multiple x :\",data1.iloc[:,:12].values.shape)  #x multiple ---> Already Two diamentional array\n",
    "print(\"Shape of y          :\",data1.iloc[:,12].values.shape)   #y ---> OK"
   ]
  },
  {
   "cell_type": "markdown",
   "id": "13c54c03",
   "metadata": {},
   "source": [
    "### Reshaping a array"
   ]
  },
  {
   "cell_type": "code",
   "execution_count": 22,
   "id": "945b0bb7",
   "metadata": {},
   "outputs": [
    {
     "data": {
      "text/plain": [
       "array([1, 2, 3, 4, 5, 6, 7, 8, 9, 0])"
      ]
     },
     "execution_count": 22,
     "metadata": {},
     "output_type": "execute_result"
    }
   ],
   "source": [
    "a = np.array([1,2,3,4,5,6,7,8,9,0])\n",
    "a"
   ]
  },
  {
   "cell_type": "code",
   "execution_count": 23,
   "id": "432bf17f",
   "metadata": {},
   "outputs": [
    {
     "data": {
      "text/plain": [
       "array([[1, 2],\n",
       "       [3, 4],\n",
       "       [5, 6],\n",
       "       [7, 8],\n",
       "       [9, 0]])"
      ]
     },
     "execution_count": 23,
     "metadata": {},
     "output_type": "execute_result"
    }
   ],
   "source": [
    "a = np.array([1,2,3,4,5,6,7,8,9,0]).reshape(5,2)\n",
    "a"
   ]
  },
  {
   "cell_type": "code",
   "execution_count": 24,
   "id": "f140f0b6",
   "metadata": {},
   "outputs": [
    {
     "data": {
      "text/plain": [
       "array([[1, 2],\n",
       "       [3, 4],\n",
       "       [5, 6]])"
      ]
     },
     "execution_count": 24,
     "metadata": {},
     "output_type": "execute_result"
    }
   ],
   "source": [
    "a = np.array([1,2,3,4,5,6]).reshape(3,2)\n",
    "a"
   ]
  },
  {
   "cell_type": "markdown",
   "id": "a666fc16",
   "metadata": {},
   "source": [
    "### Now x is in two diamentional array---> column metix"
   ]
  },
  {
   "cell_type": "code",
   "execution_count": 9,
   "id": "92f1cffa",
   "metadata": {},
   "outputs": [
    {
     "name": "stdout",
     "output_type": "stream",
     "text": [
      "[[ 65.2]\n",
      " [ 78.9]\n",
      " [ 61.1]\n",
      " [ 45.8]\n",
      " [ 54.2]\n",
      " [ 58.7]\n",
      " [ 66.6]\n",
      " [ 96.1]\n",
      " [100. ]\n",
      " [ 85.9]\n",
      " [ 94.3]\n",
      " [ 82.9]\n",
      " [ 39. ]\n",
      " [ 61.8]\n",
      " [ 84.5]\n",
      " [ 56.5]\n",
      " [ 29.3]\n",
      " [ 81.7]\n",
      " [ 36.6]\n",
      " [ 69.5]\n",
      " [ 98.1]\n",
      " [ 89.2]\n",
      " [ 91.7]\n",
      " [100. ]\n",
      " [ 94.1]\n",
      " [ 85.7]\n",
      " [ 90.3]\n",
      " [ 88.8]\n",
      " [ 94.4]\n",
      " [ 87.3]\n",
      " [ 94.1]\n",
      " [100. ]\n",
      " [ 82. ]\n",
      " [ 95. ]\n",
      " [ 96.9]\n",
      " [ 68.2]\n",
      " [ 61.4]\n",
      " [ 41.5]\n",
      " [ 30.2]\n",
      " [ 21.8]\n",
      " [ 15.8]\n",
      " [  2.9]\n",
      " [  6.6]\n",
      " [  6.5]\n",
      " [ 40. ]\n",
      " [ 33.8]\n",
      " [ 33.3]\n",
      " [ 85.5]\n",
      " [ 95.3]\n",
      " [ 62. ]\n",
      " [ 45.7]\n",
      " [ 63. ]\n",
      " [ 21.1]\n",
      " [ 21.4]\n",
      " [ 47.6]\n",
      " [ 21.9]\n",
      " [ 35.7]\n",
      " [ 40.5]\n",
      " [ 29.2]\n",
      " [ 47.2]\n",
      " [ 66.2]\n",
      " [ 93.4]\n",
      " [ 67.8]\n",
      " [ 43.4]\n",
      " [ 59.5]\n",
      " [ 17.8]\n",
      " [ 31.1]\n",
      " [ 21.4]\n",
      " [ 36.8]\n",
      " [ 33. ]\n",
      " [  6.6]\n",
      " [ 17.5]\n",
      " [  7.8]\n",
      " [  6.2]\n",
      " [  6. ]\n",
      " [ 45. ]\n",
      " [ 74.5]\n",
      " [ 45.8]\n",
      " [ 53.7]\n",
      " [ 36.6]\n",
      " [ 33.5]\n",
      " [ 70.4]\n",
      " [ 32.2]\n",
      " [ 46.7]\n",
      " [ 48. ]\n",
      " [ 56.1]\n",
      " [ 45.1]\n",
      " [ 56.8]\n",
      " [ 86.3]\n",
      " [ 63.1]\n",
      " [ 66.1]\n",
      " [ 73.9]\n",
      " [ 53.6]\n",
      " [ 28.9]\n",
      " [ 77.3]\n",
      " [ 57.8]\n",
      " [ 69.6]\n",
      " [ 76. ]\n",
      " [ 36.9]\n",
      " [ 62.5]\n",
      " [ 79.9]\n",
      " [ 71.3]\n",
      " [ 85.4]\n",
      " [ 87.4]\n",
      " [ 90. ]\n",
      " [ 96.7]\n",
      " [ 91.9]\n",
      " [ 85.2]\n",
      " [ 97.1]\n",
      " [ 91.2]\n",
      " [ 54.4]\n",
      " [ 81.6]\n",
      " [ 92.9]\n",
      " [ 95.4]\n",
      " [ 84.2]\n",
      " [ 88.2]\n",
      " [ 72.5]\n",
      " [ 82.6]\n",
      " [ 73.1]\n",
      " [ 65.2]\n",
      " [ 69.7]\n",
      " [ 84.1]\n",
      " [ 92.9]\n",
      " [ 97. ]\n",
      " [ 95.8]\n",
      " [ 88.4]\n",
      " [ 95.6]\n",
      " [ 96. ]\n",
      " [ 98.8]\n",
      " [ 94.7]\n",
      " [ 98.9]\n",
      " [ 97.7]\n",
      " [ 97.9]\n",
      " [ 95.4]\n",
      " [ 98.4]\n",
      " [ 98.2]\n",
      " [ 93.5]\n",
      " [ 98.4]\n",
      " [ 98.2]\n",
      " [ 97.9]\n",
      " [ 93.6]\n",
      " [100. ]\n",
      " [100. ]\n",
      " [100. ]\n",
      " [ 97.8]\n",
      " [100. ]\n",
      " [100. ]\n",
      " [ 95.7]\n",
      " [ 93.8]\n",
      " [ 94.9]\n",
      " [ 97.3]\n",
      " [100. ]\n",
      " [ 88. ]\n",
      " [ 98.5]\n",
      " [ 96. ]\n",
      " [ 82.6]\n",
      " [ 94. ]\n",
      " [ 97.4]\n",
      " [100. ]\n",
      " [100. ]\n",
      " [ 92.6]\n",
      " [ 90.8]\n",
      " [ 98.2]\n",
      " [ 93.9]\n",
      " [ 91.8]\n",
      " [ 93. ]\n",
      " [ 96.2]\n",
      " [ 79.2]\n",
      " [ 96.1]\n",
      " [ 95.2]\n",
      " [ 94.6]\n",
      " [ 97.3]\n",
      " [ 88.5]\n",
      " [ 84.1]\n",
      " [ 68.7]\n",
      " [ 33.1]\n",
      " [ 47.2]\n",
      " [ 73.4]\n",
      " [ 74.4]\n",
      " [ 58.4]\n",
      " [ 83.3]\n",
      " [ 62.2]\n",
      " [ 92.2]\n",
      " [ 95.6]\n",
      " [ 89.8]\n",
      " [ 68.8]\n",
      " [ 53.6]\n",
      " [ 41.1]\n",
      " [ 29.1]\n",
      " [ 38.9]\n",
      " [ 21.5]\n",
      " [ 30.8]\n",
      " [ 26.3]\n",
      " [  9.9]\n",
      " [ 18.8]\n",
      " [ 32. ]\n",
      " [ 34.1]\n",
      " [ 36.6]\n",
      " [ 38.3]\n",
      " [ 15.3]\n",
      " [ 13.9]\n",
      " [ 38.4]\n",
      " [ 15.7]\n",
      " [ 33.2]\n",
      " [ 31.9]\n",
      " [ 22.3]\n",
      " [ 52.5]\n",
      " [ 72.7]\n",
      " [ 59.1]\n",
      " [100. ]\n",
      " [ 92.1]\n",
      " [ 88.6]\n",
      " [ 53.8]\n",
      " [ 32.3]\n",
      " [  9.8]\n",
      " [ 42.4]\n",
      " [ 56. ]\n",
      " [ 85.1]\n",
      " [ 93.8]\n",
      " [ 92.4]\n",
      " [ 88.5]\n",
      " [ 91.3]\n",
      " [ 77.7]\n",
      " [ 80.8]\n",
      " [ 78.3]\n",
      " [ 83. ]\n",
      " [ 86.5]\n",
      " [ 79.9]\n",
      " [ 17. ]\n",
      " [ 21.4]\n",
      " [ 68.1]\n",
      " [ 76.9]\n",
      " [ 73.3]\n",
      " [ 70.4]\n",
      " [ 66.5]\n",
      " [ 61.5]\n",
      " [ 76.5]\n",
      " [ 71.6]\n",
      " [ 18.5]\n",
      " [ 42.2]\n",
      " [ 54.3]\n",
      " [ 65.1]\n",
      " [ 52.9]\n",
      " [  7.8]\n",
      " [ 76.5]\n",
      " [ 70.2]\n",
      " [ 34.9]\n",
      " [ 79.2]\n",
      " [ 49.1]\n",
      " [ 17.5]\n",
      " [ 13. ]\n",
      " [  8.9]\n",
      " [  6.8]\n",
      " [  8.4]\n",
      " [ 32. ]\n",
      " [ 19.1]\n",
      " [ 34.2]\n",
      " [ 86.9]\n",
      " [100. ]\n",
      " [100. ]\n",
      " [ 81.8]\n",
      " [ 89.4]\n",
      " [ 91.5]\n",
      " [ 94.5]\n",
      " [ 91.6]\n",
      " [ 62.8]\n",
      " [ 84.6]\n",
      " [ 67. ]\n",
      " [ 52.6]\n",
      " [ 61.5]\n",
      " [ 42.1]\n",
      " [ 16.3]\n",
      " [ 58.7]\n",
      " [ 51.8]\n",
      " [ 32.9]\n",
      " [ 42.8]\n",
      " [ 49. ]\n",
      " [ 27.6]\n",
      " [ 32.1]\n",
      " [ 32.2]\n",
      " [ 64.5]\n",
      " [ 37.2]\n",
      " [ 49.7]\n",
      " [ 24.8]\n",
      " [ 20.8]\n",
      " [ 31.9]\n",
      " [ 31.5]\n",
      " [ 31.3]\n",
      " [ 45.6]\n",
      " [ 22.9]\n",
      " [ 27.9]\n",
      " [ 27.7]\n",
      " [ 23.4]\n",
      " [ 18.4]\n",
      " [ 42.3]\n",
      " [ 31.1]\n",
      " [ 51. ]\n",
      " [ 58. ]\n",
      " [ 20.1]\n",
      " [ 10. ]\n",
      " [ 47.4]\n",
      " [ 40.4]\n",
      " [ 18.4]\n",
      " [ 17.7]\n",
      " [ 41.1]\n",
      " [ 58.1]\n",
      " [ 71.9]\n",
      " [ 70.3]\n",
      " [ 82.5]\n",
      " [ 76.7]\n",
      " [ 37.8]\n",
      " [ 52.8]\n",
      " [ 90.4]\n",
      " [ 82.8]\n",
      " [ 87.3]\n",
      " [ 77.7]\n",
      " [ 83.2]\n",
      " [ 71.7]\n",
      " [ 67.2]\n",
      " [ 58.8]\n",
      " [ 52.3]\n",
      " [ 54.3]\n",
      " [ 49.9]\n",
      " [ 74.3]\n",
      " [ 40.1]\n",
      " [ 14.7]\n",
      " [ 28.9]\n",
      " [ 43.7]\n",
      " [ 25.8]\n",
      " [ 17.2]\n",
      " [ 32.2]\n",
      " [ 28.4]\n",
      " [ 23.3]\n",
      " [ 38.1]\n",
      " [ 38.5]\n",
      " [ 34.5]\n",
      " [ 46.3]\n",
      " [ 59.6]\n",
      " [ 37.3]\n",
      " [ 45.4]\n",
      " [ 58.5]\n",
      " [ 49.3]\n",
      " [ 59.7]\n",
      " [ 56.4]\n",
      " [ 28.1]\n",
      " [ 48.5]\n",
      " [ 52.3]\n",
      " [ 27.7]\n",
      " [ 29.7]\n",
      " [ 34.5]\n",
      " [ 44.4]\n",
      " [ 35.9]\n",
      " [ 18.5]\n",
      " [ 36.1]\n",
      " [ 21.9]\n",
      " [ 19.5]\n",
      " [ 97.4]\n",
      " [ 91. ]\n",
      " [ 83.4]\n",
      " [ 81.3]\n",
      " [ 88. ]\n",
      " [ 91.1]\n",
      " [ 96.2]\n",
      " [ 89. ]\n",
      " [ 82.9]\n",
      " [ 87.9]\n",
      " [ 91.4]\n",
      " [100. ]\n",
      " [100. ]\n",
      " [ 96.8]\n",
      " [ 97.5]\n",
      " [100. ]\n",
      " [ 89.6]\n",
      " [100. ]\n",
      " [100. ]\n",
      " [ 97.9]\n",
      " [ 93.3]\n",
      " [ 98.8]\n",
      " [ 96.2]\n",
      " [100. ]\n",
      " [ 91.9]\n",
      " [ 99.1]\n",
      " [100. ]\n",
      " [100. ]\n",
      " [ 91.2]\n",
      " [ 98.1]\n",
      " [100. ]\n",
      " [ 89.5]\n",
      " [100. ]\n",
      " [ 98.9]\n",
      " [ 97. ]\n",
      " [ 82.5]\n",
      " [ 97. ]\n",
      " [ 92.6]\n",
      " [ 94.7]\n",
      " [ 98.8]\n",
      " [ 96. ]\n",
      " [ 98.9]\n",
      " [100. ]\n",
      " [ 77.8]\n",
      " [100. ]\n",
      " [100. ]\n",
      " [100. ]\n",
      " [ 96. ]\n",
      " [ 85.4]\n",
      " [100. ]\n",
      " [100. ]\n",
      " [100. ]\n",
      " [ 97.9]\n",
      " [100. ]\n",
      " [100. ]\n",
      " [100. ]\n",
      " [100. ]\n",
      " [100. ]\n",
      " [100. ]\n",
      " [100. ]\n",
      " [ 90.8]\n",
      " [ 89.1]\n",
      " [100. ]\n",
      " [ 76.5]\n",
      " [100. ]\n",
      " [ 95.3]\n",
      " [ 87.6]\n",
      " [ 85.1]\n",
      " [ 70.6]\n",
      " [ 95.4]\n",
      " [ 59.7]\n",
      " [ 78.7]\n",
      " [ 78.1]\n",
      " [ 95.6]\n",
      " [ 86.1]\n",
      " [ 94.3]\n",
      " [ 74.8]\n",
      " [ 87.9]\n",
      " [ 95. ]\n",
      " [ 94.6]\n",
      " [ 93.3]\n",
      " [100. ]\n",
      " [ 87.9]\n",
      " [ 93.9]\n",
      " [ 92.4]\n",
      " [ 97.2]\n",
      " [100. ]\n",
      " [100. ]\n",
      " [ 96.6]\n",
      " [ 94.8]\n",
      " [ 96.4]\n",
      " [ 96.6]\n",
      " [ 98.7]\n",
      " [ 98.3]\n",
      " [ 92.6]\n",
      " [ 98.2]\n",
      " [ 91.8]\n",
      " [ 99.3]\n",
      " [ 94.1]\n",
      " [ 86.5]\n",
      " [ 87.9]\n",
      " [ 80.3]\n",
      " [ 83.7]\n",
      " [ 84.4]\n",
      " [ 90. ]\n",
      " [ 88.4]\n",
      " [ 83. ]\n",
      " [ 89.9]\n",
      " [ 65.4]\n",
      " [ 48.2]\n",
      " [ 84.7]\n",
      " [ 94.5]\n",
      " [ 71. ]\n",
      " [ 56.7]\n",
      " [ 84. ]\n",
      " [ 90.7]\n",
      " [ 75. ]\n",
      " [ 67.6]\n",
      " [ 95.4]\n",
      " [ 97.4]\n",
      " [ 93.6]\n",
      " [ 97.3]\n",
      " [ 96.7]\n",
      " [ 88. ]\n",
      " [ 64.7]\n",
      " [ 74.9]\n",
      " [ 77. ]\n",
      " [ 40.3]\n",
      " [ 41.9]\n",
      " [ 51.9]\n",
      " [ 79.8]\n",
      " [ 53.2]\n",
      " [ 92.7]\n",
      " [ 98.3]\n",
      " [ 98. ]\n",
      " [ 98.8]\n",
      " [ 83.5]\n",
      " [ 54. ]\n",
      " [ 42.6]\n",
      " [ 28.8]\n",
      " [ 72.9]\n",
      " [ 70.6]\n",
      " [ 65.3]\n",
      " [ 73.5]\n",
      " [ 79.7]\n",
      " [ 69.1]\n",
      " [ 76.7]\n",
      " [ 91. ]\n",
      " [ 89.3]\n",
      " [ 80.8]]\n"
     ]
    }
   ],
   "source": [
    "print(x)"
   ]
  },
  {
   "cell_type": "markdown",
   "id": "b8ae8232",
   "metadata": {},
   "source": [
    "### Creating a model and getting details"
   ]
  },
  {
   "cell_type": "code",
   "execution_count": 26,
   "id": "6d583016",
   "metadata": {},
   "outputs": [],
   "source": [
    "model = LinearRegression()   # obj from LinearRegression"
   ]
  },
  {
   "cell_type": "code",
   "execution_count": 27,
   "id": "7fc00ad0",
   "metadata": {},
   "outputs": [
    {
     "data": {
      "text/html": [
       "<style>#sk-container-id-1 {color: black;background-color: white;}#sk-container-id-1 pre{padding: 0;}#sk-container-id-1 div.sk-toggleable {background-color: white;}#sk-container-id-1 label.sk-toggleable__label {cursor: pointer;display: block;width: 100%;margin-bottom: 0;padding: 0.3em;box-sizing: border-box;text-align: center;}#sk-container-id-1 label.sk-toggleable__label-arrow:before {content: \"▸\";float: left;margin-right: 0.25em;color: #696969;}#sk-container-id-1 label.sk-toggleable__label-arrow:hover:before {color: black;}#sk-container-id-1 div.sk-estimator:hover label.sk-toggleable__label-arrow:before {color: black;}#sk-container-id-1 div.sk-toggleable__content {max-height: 0;max-width: 0;overflow: hidden;text-align: left;background-color: #f0f8ff;}#sk-container-id-1 div.sk-toggleable__content pre {margin: 0.2em;color: black;border-radius: 0.25em;background-color: #f0f8ff;}#sk-container-id-1 input.sk-toggleable__control:checked~div.sk-toggleable__content {max-height: 200px;max-width: 100%;overflow: auto;}#sk-container-id-1 input.sk-toggleable__control:checked~label.sk-toggleable__label-arrow:before {content: \"▾\";}#sk-container-id-1 div.sk-estimator input.sk-toggleable__control:checked~label.sk-toggleable__label {background-color: #d4ebff;}#sk-container-id-1 div.sk-label input.sk-toggleable__control:checked~label.sk-toggleable__label {background-color: #d4ebff;}#sk-container-id-1 input.sk-hidden--visually {border: 0;clip: rect(1px 1px 1px 1px);clip: rect(1px, 1px, 1px, 1px);height: 1px;margin: -1px;overflow: hidden;padding: 0;position: absolute;width: 1px;}#sk-container-id-1 div.sk-estimator {font-family: monospace;background-color: #f0f8ff;border: 1px dotted black;border-radius: 0.25em;box-sizing: border-box;margin-bottom: 0.5em;}#sk-container-id-1 div.sk-estimator:hover {background-color: #d4ebff;}#sk-container-id-1 div.sk-parallel-item::after {content: \"\";width: 100%;border-bottom: 1px solid gray;flex-grow: 1;}#sk-container-id-1 div.sk-label:hover label.sk-toggleable__label {background-color: #d4ebff;}#sk-container-id-1 div.sk-serial::before {content: \"\";position: absolute;border-left: 1px solid gray;box-sizing: border-box;top: 0;bottom: 0;left: 50%;z-index: 0;}#sk-container-id-1 div.sk-serial {display: flex;flex-direction: column;align-items: center;background-color: white;padding-right: 0.2em;padding-left: 0.2em;position: relative;}#sk-container-id-1 div.sk-item {position: relative;z-index: 1;}#sk-container-id-1 div.sk-parallel {display: flex;align-items: stretch;justify-content: center;background-color: white;position: relative;}#sk-container-id-1 div.sk-item::before, #sk-container-id-1 div.sk-parallel-item::before {content: \"\";position: absolute;border-left: 1px solid gray;box-sizing: border-box;top: 0;bottom: 0;left: 50%;z-index: -1;}#sk-container-id-1 div.sk-parallel-item {display: flex;flex-direction: column;z-index: 1;position: relative;background-color: white;}#sk-container-id-1 div.sk-parallel-item:first-child::after {align-self: flex-end;width: 50%;}#sk-container-id-1 div.sk-parallel-item:last-child::after {align-self: flex-start;width: 50%;}#sk-container-id-1 div.sk-parallel-item:only-child::after {width: 0;}#sk-container-id-1 div.sk-dashed-wrapped {border: 1px dashed gray;margin: 0 0.4em 0.5em 0.4em;box-sizing: border-box;padding-bottom: 0.4em;background-color: white;}#sk-container-id-1 div.sk-label label {font-family: monospace;font-weight: bold;display: inline-block;line-height: 1.2em;}#sk-container-id-1 div.sk-label-container {text-align: center;}#sk-container-id-1 div.sk-container {/* jupyter's `normalize.less` sets `[hidden] { display: none; }` but bootstrap.min.css set `[hidden] { display: none !important; }` so we also need the `!important` here to be able to override the default hidden behavior on the sphinx rendered scikit-learn.org. See: https://github.com/scikit-learn/scikit-learn/issues/21755 */display: inline-block !important;position: relative;}#sk-container-id-1 div.sk-text-repr-fallback {display: none;}</style><div id=\"sk-container-id-1\" class=\"sk-top-container\"><div class=\"sk-text-repr-fallback\"><pre>LinearRegression()</pre><b>In a Jupyter environment, please rerun this cell to show the HTML representation or trust the notebook. <br />On GitHub, the HTML representation is unable to render, please try loading this page with nbviewer.org.</b></div><div class=\"sk-container\" hidden><div class=\"sk-item\"><div class=\"sk-estimator sk-toggleable\"><input class=\"sk-toggleable__control sk-hidden--visually\" id=\"sk-estimator-id-1\" type=\"checkbox\" checked><label for=\"sk-estimator-id-1\" class=\"sk-toggleable__label sk-toggleable__label-arrow\">LinearRegression</label><div class=\"sk-toggleable__content\"><pre>LinearRegression()</pre></div></div></div></div></div>"
      ],
      "text/plain": [
       "LinearRegression()"
      ]
     },
     "execution_count": 27,
     "metadata": {},
     "output_type": "execute_result"
    }
   ],
   "source": [
    "model.fit(x,y)   # Model fitting"
   ]
  },
  {
   "cell_type": "code",
   "execution_count": 28,
   "id": "e509056a",
   "metadata": {},
   "outputs": [
    {
     "data": {
      "text/plain": [
       "30.97867776261804"
      ]
     },
     "execution_count": 28,
     "metadata": {},
     "output_type": "execute_result"
    }
   ],
   "source": [
    "model.intercept_   # c of y= mx+c , beta note"
   ]
  },
  {
   "cell_type": "code",
   "execution_count": 29,
   "id": "bf2b169e",
   "metadata": {},
   "outputs": [
    {
     "data": {
      "text/plain": [
       "array([-0.12316272])"
      ]
     },
     "execution_count": 29,
     "metadata": {},
     "output_type": "execute_result"
    }
   ],
   "source": [
    "model.coef_    # m, beta 1"
   ]
  },
  {
   "cell_type": "code",
   "execution_count": 30,
   "id": "705410b5",
   "metadata": {},
   "outputs": [
    {
     "data": {
      "text/plain": [
       "0.14209474407780442"
      ]
     },
     "execution_count": 30,
     "metadata": {},
     "output_type": "execute_result"
    }
   ],
   "source": [
    "model.score(x,y)   # R square value, not good r---->0"
   ]
  },
  {
   "cell_type": "markdown",
   "id": "b7f33d46",
   "metadata": {},
   "source": [
    "# b) Multiple Linear Regression"
   ]
  },
  {
   "cell_type": "code",
   "execution_count": 33,
   "id": "1cfc163e",
   "metadata": {},
   "outputs": [],
   "source": [
    "x = data1.iloc[:,:12].values   #Already two diamentional\n",
    "y = data1.iloc[:,12].values"
   ]
  },
  {
   "cell_type": "code",
   "execution_count": 34,
   "id": "bf74afd5",
   "metadata": {},
   "outputs": [],
   "source": [
    "model = LinearRegression()"
   ]
  },
  {
   "cell_type": "code",
   "execution_count": 35,
   "id": "abd53d11",
   "metadata": {},
   "outputs": [
    {
     "data": {
      "text/html": [
       "<style>#sk-container-id-3 {color: black;background-color: white;}#sk-container-id-3 pre{padding: 0;}#sk-container-id-3 div.sk-toggleable {background-color: white;}#sk-container-id-3 label.sk-toggleable__label {cursor: pointer;display: block;width: 100%;margin-bottom: 0;padding: 0.3em;box-sizing: border-box;text-align: center;}#sk-container-id-3 label.sk-toggleable__label-arrow:before {content: \"▸\";float: left;margin-right: 0.25em;color: #696969;}#sk-container-id-3 label.sk-toggleable__label-arrow:hover:before {color: black;}#sk-container-id-3 div.sk-estimator:hover label.sk-toggleable__label-arrow:before {color: black;}#sk-container-id-3 div.sk-toggleable__content {max-height: 0;max-width: 0;overflow: hidden;text-align: left;background-color: #f0f8ff;}#sk-container-id-3 div.sk-toggleable__content pre {margin: 0.2em;color: black;border-radius: 0.25em;background-color: #f0f8ff;}#sk-container-id-3 input.sk-toggleable__control:checked~div.sk-toggleable__content {max-height: 200px;max-width: 100%;overflow: auto;}#sk-container-id-3 input.sk-toggleable__control:checked~label.sk-toggleable__label-arrow:before {content: \"▾\";}#sk-container-id-3 div.sk-estimator input.sk-toggleable__control:checked~label.sk-toggleable__label {background-color: #d4ebff;}#sk-container-id-3 div.sk-label input.sk-toggleable__control:checked~label.sk-toggleable__label {background-color: #d4ebff;}#sk-container-id-3 input.sk-hidden--visually {border: 0;clip: rect(1px 1px 1px 1px);clip: rect(1px, 1px, 1px, 1px);height: 1px;margin: -1px;overflow: hidden;padding: 0;position: absolute;width: 1px;}#sk-container-id-3 div.sk-estimator {font-family: monospace;background-color: #f0f8ff;border: 1px dotted black;border-radius: 0.25em;box-sizing: border-box;margin-bottom: 0.5em;}#sk-container-id-3 div.sk-estimator:hover {background-color: #d4ebff;}#sk-container-id-3 div.sk-parallel-item::after {content: \"\";width: 100%;border-bottom: 1px solid gray;flex-grow: 1;}#sk-container-id-3 div.sk-label:hover label.sk-toggleable__label {background-color: #d4ebff;}#sk-container-id-3 div.sk-serial::before {content: \"\";position: absolute;border-left: 1px solid gray;box-sizing: border-box;top: 0;bottom: 0;left: 50%;z-index: 0;}#sk-container-id-3 div.sk-serial {display: flex;flex-direction: column;align-items: center;background-color: white;padding-right: 0.2em;padding-left: 0.2em;position: relative;}#sk-container-id-3 div.sk-item {position: relative;z-index: 1;}#sk-container-id-3 div.sk-parallel {display: flex;align-items: stretch;justify-content: center;background-color: white;position: relative;}#sk-container-id-3 div.sk-item::before, #sk-container-id-3 div.sk-parallel-item::before {content: \"\";position: absolute;border-left: 1px solid gray;box-sizing: border-box;top: 0;bottom: 0;left: 50%;z-index: -1;}#sk-container-id-3 div.sk-parallel-item {display: flex;flex-direction: column;z-index: 1;position: relative;background-color: white;}#sk-container-id-3 div.sk-parallel-item:first-child::after {align-self: flex-end;width: 50%;}#sk-container-id-3 div.sk-parallel-item:last-child::after {align-self: flex-start;width: 50%;}#sk-container-id-3 div.sk-parallel-item:only-child::after {width: 0;}#sk-container-id-3 div.sk-dashed-wrapped {border: 1px dashed gray;margin: 0 0.4em 0.5em 0.4em;box-sizing: border-box;padding-bottom: 0.4em;background-color: white;}#sk-container-id-3 div.sk-label label {font-family: monospace;font-weight: bold;display: inline-block;line-height: 1.2em;}#sk-container-id-3 div.sk-label-container {text-align: center;}#sk-container-id-3 div.sk-container {/* jupyter's `normalize.less` sets `[hidden] { display: none; }` but bootstrap.min.css set `[hidden] { display: none !important; }` so we also need the `!important` here to be able to override the default hidden behavior on the sphinx rendered scikit-learn.org. See: https://github.com/scikit-learn/scikit-learn/issues/21755 */display: inline-block !important;position: relative;}#sk-container-id-3 div.sk-text-repr-fallback {display: none;}</style><div id=\"sk-container-id-3\" class=\"sk-top-container\"><div class=\"sk-text-repr-fallback\"><pre>LinearRegression()</pre><b>In a Jupyter environment, please rerun this cell to show the HTML representation or trust the notebook. <br />On GitHub, the HTML representation is unable to render, please try loading this page with nbviewer.org.</b></div><div class=\"sk-container\" hidden><div class=\"sk-item\"><div class=\"sk-estimator sk-toggleable\"><input class=\"sk-toggleable__control sk-hidden--visually\" id=\"sk-estimator-id-3\" type=\"checkbox\" checked><label for=\"sk-estimator-id-3\" class=\"sk-toggleable__label sk-toggleable__label-arrow\">LinearRegression</label><div class=\"sk-toggleable__content\"><pre>LinearRegression()</pre></div></div></div></div></div>"
      ],
      "text/plain": [
       "LinearRegression()"
      ]
     },
     "execution_count": 35,
     "metadata": {},
     "output_type": "execute_result"
    }
   ],
   "source": [
    "model.fit(x,y)"
   ]
  },
  {
   "cell_type": "code",
   "execution_count": 26,
   "id": "614d2608",
   "metadata": {},
   "outputs": [
    {
     "data": {
      "text/plain": [
       "36.891959796933406"
      ]
     },
     "execution_count": 26,
     "metadata": {},
     "output_type": "execute_result"
    }
   ],
   "source": [
    "model.intercept_   # c of y= mx+c , beta note"
   ]
  },
  {
   "cell_type": "code",
   "execution_count": 27,
   "id": "55288500",
   "metadata": {},
   "outputs": [
    {
     "data": {
      "text/plain": [
       "array([-1.13139078e-01,  4.70524578e-02,  4.03114536e-02, -1.73669994e+01,\n",
       "        3.85049169e+00,  2.78375651e-03, -1.48537390e+00,  3.28311011e-01,\n",
       "       -1.37558288e-02, -9.90958031e-01,  9.74145094e-03, -5.34157620e-01])"
      ]
     },
     "execution_count": 27,
     "metadata": {},
     "output_type": "execute_result"
    }
   ],
   "source": [
    "model.coef_    # 12 coefficients must be for 12 x variables, b1 hat(^), b2^, b3^,....b12^"
   ]
  },
  {
   "cell_type": "code",
   "execution_count": 28,
   "id": "dd13e3e2",
   "metadata": {},
   "outputs": [
    {
     "data": {
      "text/plain": [
       "0.7355165089722999"
      ]
     },
     "execution_count": 28,
     "metadata": {},
     "output_type": "execute_result"
    }
   ],
   "source": [
    "model.score(x,y)   # R square value good --->1"
   ]
  },
  {
   "cell_type": "markdown",
   "id": "9c8c8380",
   "metadata": {},
   "source": []
  },
  {
   "cell_type": "code",
   "execution_count": 29,
   "id": "c4443c76",
   "metadata": {},
   "outputs": [],
   "source": [
    "x = data1.iloc[:,:12].values   # All rows, 0 to 11th indexes columns\n",
    "y = data1.iloc[:,12].values   # All rows, 12th index column"
   ]
  },
  {
   "cell_type": "markdown",
   "id": "8b514d57",
   "metadata": {},
   "source": [
    "## Validation set approach"
   ]
  },
  {
   "cell_type": "markdown",
   "id": "db993045",
   "metadata": {},
   "source": [
    "###### Let split the data by size (0.2-->20%) for testing, then  unpack the arrays ---> [[trx] , [tsx] , [try] , [tsy]] \n",
    "Generaly we don't use the entire data set to train a model. For checking the model accuracy (How the model is good for the prediction) we devide  the data set into four part as trainning and testing, 80% for trainning and 20% for testing both x and y.\n",
    "\n",
    "##### To hold randomly choosing of data set we use \" random_state = 0 or 1 or... \" and  we can see the data set by using \"  x_train \", \"y_train\", ..."
   ]
  },
  {
   "cell_type": "code",
   "execution_count": 36,
   "id": "bfc5a0a7",
   "metadata": {},
   "outputs": [],
   "source": [
    "x_train, x_test, y_train, y_test = train_test_split(x,y, test_size = 0.2, random_state=0)"
   ]
  },
  {
   "cell_type": "code",
   "execution_count": 37,
   "id": "a42a238c",
   "metadata": {},
   "outputs": [
    {
     "data": {
      "text/html": [
       "<style>#sk-container-id-4 {color: black;background-color: white;}#sk-container-id-4 pre{padding: 0;}#sk-container-id-4 div.sk-toggleable {background-color: white;}#sk-container-id-4 label.sk-toggleable__label {cursor: pointer;display: block;width: 100%;margin-bottom: 0;padding: 0.3em;box-sizing: border-box;text-align: center;}#sk-container-id-4 label.sk-toggleable__label-arrow:before {content: \"▸\";float: left;margin-right: 0.25em;color: #696969;}#sk-container-id-4 label.sk-toggleable__label-arrow:hover:before {color: black;}#sk-container-id-4 div.sk-estimator:hover label.sk-toggleable__label-arrow:before {color: black;}#sk-container-id-4 div.sk-toggleable__content {max-height: 0;max-width: 0;overflow: hidden;text-align: left;background-color: #f0f8ff;}#sk-container-id-4 div.sk-toggleable__content pre {margin: 0.2em;color: black;border-radius: 0.25em;background-color: #f0f8ff;}#sk-container-id-4 input.sk-toggleable__control:checked~div.sk-toggleable__content {max-height: 200px;max-width: 100%;overflow: auto;}#sk-container-id-4 input.sk-toggleable__control:checked~label.sk-toggleable__label-arrow:before {content: \"▾\";}#sk-container-id-4 div.sk-estimator input.sk-toggleable__control:checked~label.sk-toggleable__label {background-color: #d4ebff;}#sk-container-id-4 div.sk-label input.sk-toggleable__control:checked~label.sk-toggleable__label {background-color: #d4ebff;}#sk-container-id-4 input.sk-hidden--visually {border: 0;clip: rect(1px 1px 1px 1px);clip: rect(1px, 1px, 1px, 1px);height: 1px;margin: -1px;overflow: hidden;padding: 0;position: absolute;width: 1px;}#sk-container-id-4 div.sk-estimator {font-family: monospace;background-color: #f0f8ff;border: 1px dotted black;border-radius: 0.25em;box-sizing: border-box;margin-bottom: 0.5em;}#sk-container-id-4 div.sk-estimator:hover {background-color: #d4ebff;}#sk-container-id-4 div.sk-parallel-item::after {content: \"\";width: 100%;border-bottom: 1px solid gray;flex-grow: 1;}#sk-container-id-4 div.sk-label:hover label.sk-toggleable__label {background-color: #d4ebff;}#sk-container-id-4 div.sk-serial::before {content: \"\";position: absolute;border-left: 1px solid gray;box-sizing: border-box;top: 0;bottom: 0;left: 50%;z-index: 0;}#sk-container-id-4 div.sk-serial {display: flex;flex-direction: column;align-items: center;background-color: white;padding-right: 0.2em;padding-left: 0.2em;position: relative;}#sk-container-id-4 div.sk-item {position: relative;z-index: 1;}#sk-container-id-4 div.sk-parallel {display: flex;align-items: stretch;justify-content: center;background-color: white;position: relative;}#sk-container-id-4 div.sk-item::before, #sk-container-id-4 div.sk-parallel-item::before {content: \"\";position: absolute;border-left: 1px solid gray;box-sizing: border-box;top: 0;bottom: 0;left: 50%;z-index: -1;}#sk-container-id-4 div.sk-parallel-item {display: flex;flex-direction: column;z-index: 1;position: relative;background-color: white;}#sk-container-id-4 div.sk-parallel-item:first-child::after {align-self: flex-end;width: 50%;}#sk-container-id-4 div.sk-parallel-item:last-child::after {align-self: flex-start;width: 50%;}#sk-container-id-4 div.sk-parallel-item:only-child::after {width: 0;}#sk-container-id-4 div.sk-dashed-wrapped {border: 1px dashed gray;margin: 0 0.4em 0.5em 0.4em;box-sizing: border-box;padding-bottom: 0.4em;background-color: white;}#sk-container-id-4 div.sk-label label {font-family: monospace;font-weight: bold;display: inline-block;line-height: 1.2em;}#sk-container-id-4 div.sk-label-container {text-align: center;}#sk-container-id-4 div.sk-container {/* jupyter's `normalize.less` sets `[hidden] { display: none; }` but bootstrap.min.css set `[hidden] { display: none !important; }` so we also need the `!important` here to be able to override the default hidden behavior on the sphinx rendered scikit-learn.org. See: https://github.com/scikit-learn/scikit-learn/issues/21755 */display: inline-block !important;position: relative;}#sk-container-id-4 div.sk-text-repr-fallback {display: none;}</style><div id=\"sk-container-id-4\" class=\"sk-top-container\"><div class=\"sk-text-repr-fallback\"><pre>LinearRegression()</pre><b>In a Jupyter environment, please rerun this cell to show the HTML representation or trust the notebook. <br />On GitHub, the HTML representation is unable to render, please try loading this page with nbviewer.org.</b></div><div class=\"sk-container\" hidden><div class=\"sk-item\"><div class=\"sk-estimator sk-toggleable\"><input class=\"sk-toggleable__control sk-hidden--visually\" id=\"sk-estimator-id-4\" type=\"checkbox\" checked><label for=\"sk-estimator-id-4\" class=\"sk-toggleable__label sk-toggleable__label-arrow\">LinearRegression</label><div class=\"sk-toggleable__content\"><pre>LinearRegression()</pre></div></div></div></div></div>"
      ],
      "text/plain": [
       "LinearRegression()"
      ]
     },
     "execution_count": 37,
     "metadata": {},
     "output_type": "execute_result"
    }
   ],
   "source": [
    "model = LinearRegression()\n",
    "model.fit(x_train, y_train)"
   ]
  },
  {
   "cell_type": "code",
   "execution_count": 38,
   "id": "faefc450",
   "metadata": {},
   "outputs": [
    {
     "data": {
      "text/plain": [
       "38.42706211257681"
      ]
     },
     "execution_count": 38,
     "metadata": {},
     "output_type": "execute_result"
    }
   ],
   "source": [
    "model.intercept_   # c of y= mx+c , beta note"
   ]
  },
  {
   "cell_type": "code",
   "execution_count": 39,
   "id": "d5ece52c",
   "metadata": {},
   "outputs": [
    {
     "data": {
      "text/plain": [
       "array([-1.25156811e-01,  4.48575121e-02,  2.01265385e-02, -1.62895522e+01,\n",
       "        3.77366409e+00, -2.13185120e-03, -1.40611846e+00,  2.66835482e-01,\n",
       "       -1.21692284e-02, -1.07660161e+00,  8.72533635e-03, -4.94425348e-01])"
      ]
     },
     "execution_count": 39,
     "metadata": {},
     "output_type": "execute_result"
    }
   ],
   "source": [
    "model.coef_   # 12 coefficients must be for 12 x variables, b1 hat(^), b2^, b3^,....b12^"
   ]
  },
  {
   "cell_type": "code",
   "execution_count": 42,
   "id": "9c9b1b4b",
   "metadata": {},
   "outputs": [
    {
     "data": {
      "text/plain": [
       "0.7690953567794605"
      ]
     },
     "execution_count": 42,
     "metadata": {},
     "output_type": "execute_result"
    }
   ],
   "source": [
    "model.score(x_train, y_train)   # R square value"
   ]
  },
  {
   "cell_type": "markdown",
   "id": "e14462b7",
   "metadata": {},
   "source": [
    "### Accuracy checking by test data"
   ]
  },
  {
   "cell_type": "markdown",
   "id": "3acdeecd",
   "metadata": {},
   "source": [
    "In Machine Learning , Blackbox Machine Learning means we focus about this particular error not the internal activities, \n",
    "we try to minimize these errors. Ther are so many techniques. Data set is realy importsnt specisly in the supervised learning"
   ]
  },
  {
   "cell_type": "code",
   "execution_count": 43,
   "id": "44f2bdf8",
   "metadata": {},
   "outputs": [
    {
     "data": {
      "text/plain": [
       "array([24.80502192, 23.99207878, 27.41969853, 12.22521383, 21.54089609,\n",
       "       19.30502294, 20.70506397, 21.495484  , 18.94490741, 19.79344825,\n",
       "        4.75978975, 16.4343098 , 17.29081528,  5.64718895, 38.15388163,\n",
       "       32.57410093, 22.70379646, 37.01957565, 31.05648795, 23.25919894,\n",
       "       24.92104056, 24.99282993, 20.64411415, 30.56600209, 22.55400948,\n",
       "       10.168633  , 17.70825917, 18.49796497, 35.77195417, 21.08709139,\n",
       "       18.5413341 , 18.01931143, 20.03791552, 24.23016879, 29.34270932,\n",
       "       17.14453905, 11.29301586, 22.46300599, 17.65919302, 15.69991479,\n",
       "       26.46863641, 20.99738044, 22.2127374 , 15.78922293, 22.90368303,\n",
       "       25.37354909, 20.366435  , 20.84948352, 10.27162372, 24.36650689,\n",
       "       18.72120276, 17.3722084 , 24.74428345, 30.0915379 , 13.45683478,\n",
       "       21.89909332, 20.77900494, 15.37903094, 13.76748828, 20.0599973 ,\n",
       "       17.4889214 , 21.74283257, 33.13151667, 31.34567345, 17.8919454 ,\n",
       "       32.84969957, 18.97445875, 20.02078883, 19.17996866, 23.05331047,\n",
       "       23.09259692, 24.13099896, 30.78475572, 28.86073036, 26.19349382,\n",
       "        5.30136643, 37.10722814, 23.97583859, 27.40127291, 19.36951504,\n",
       "       28.80698404, 19.35352057, 19.155366  , 38.23739329, 39.66412153,\n",
       "       23.81181303, 25.02422874, 15.84571573, 26.45375093, 16.91465087,\n",
       "       15.53939105, 13.17184322, 24.67085986, 31.36491737, 22.29095528,\n",
       "       20.28111902,  0.63998447, 25.37563907, 15.62819543, 18.03294772,\n",
       "       25.49786202, 22.45773145])"
      ]
     },
     "execution_count": 43,
     "metadata": {},
     "output_type": "execute_result"
    }
   ],
   "source": [
    "y_predict = model.predict(x_test)\n",
    "y_predict"
   ]
  },
  {
   "cell_type": "code",
   "execution_count": 44,
   "id": "b2a43d9b",
   "metadata": {},
   "outputs": [
    {
     "name": "stdout",
     "output_type": "stream",
     "text": [
      "MSE =  34.212252547533325\n",
      "RMSE =  5.849124083786676\n"
     ]
    }
   ],
   "source": [
    "MSE = mean_squared_error(y_predict, y_test)\n",
    "print(\"MSE = \" ,MSE)\n",
    "RMSE = np.sqrt(MSE)\n",
    "print(\"RMSE = \", RMSE)  #It is good and more acurare if RMSE---> 0"
   ]
  },
  {
   "cell_type": "markdown",
   "id": "5653b2b0",
   "metadata": {},
   "source": [
    "### Prediction\n",
    "let create set of x , one row"
   ]
  },
  {
   "cell_type": "code",
   "execution_count": 51,
   "id": "5ff9cb06",
   "metadata": {},
   "outputs": [
    {
     "name": "stdout",
     "output_type": "stream",
     "text": [
      "predicted \"medv\" value for x1 =  [30.71541424]\n"
     ]
    }
   ],
   "source": [
    "x1 = np.array([0.00632,18.0,2.31,0.538,6.575,65.4,4.186,1,296,15.3,396.5,4.53]).reshape(1,12)   #row metrix\n",
    "x1_predict = model.predict(x1)\n",
    "print(\"predicted \\\"medv\\\" value for x1 = \", x1_predict)"
   ]
  },
  {
   "cell_type": "markdown",
   "id": "ec397528",
   "metadata": {},
   "source": [
    "# Full code Simple Linear Regerssion"
   ]
  },
  {
   "cell_type": "code",
   "execution_count": 2,
   "id": "c6d96ba6",
   "metadata": {},
   "outputs": [
    {
     "name": "stdout",
     "output_type": "stream",
     "text": [
      "Boston Data set : \n",
      "       crim    zn  indus    nox     rm   age     dis  rad  tax  ptratio  \\\n",
      "0  0.00632  18.0   2.31  0.538  6.575  65.2  4.0900    1  296     15.3   \n",
      "1  0.02731   0.0   7.07  0.469  6.421  78.9  4.9671    2  242     17.8   \n",
      "2  0.02729   0.0   7.07  0.469  7.185  61.1  4.9671    2  242     17.8   \n",
      "3  0.03237   0.0   2.18  0.458  6.998  45.8  6.0622    3  222     18.7   \n",
      "4  0.06905   0.0   2.18  0.458  7.147  54.2  6.0622    3  222     18.7   \n",
      "\n",
      "    black  lstat  medv  \n",
      "0  396.90   4.98  24.0  \n",
      "1  396.90   9.14  21.6  \n",
      "2  392.83   4.03  34.7  \n",
      "3  394.63   2.94  33.4  \n",
      "4  396.90   5.33  36.2  \n",
      "\n",
      "Intercept =  31.99027826324518\n",
      "\n",
      "Coef =  [-0.13586519]\n",
      "\n",
      "R Score value =  0.17085002205933963\n",
      "\n",
      "y predict : \n",
      " [29.65339708 18.40375975 19.43633516 18.94722049 24.69431782 24.3138953\n",
      " 24.76225041 24.04216493 26.85457426 20.38739145 18.40375975 18.40375975\n",
      " 18.89287441 18.40375975 18.64831708 30.63162641 23.19980078 27.35727545\n",
      " 27.49314063 26.35187308 24.88452908 18.77059575 20.41456449 27.62900582\n",
      " 27.39803501 18.40375975 19.87110375 18.60755753 21.66452419 19.0287396\n",
      " 18.85211486 20.52325664 21.2297556  23.14545471 20.56401619 19.89827678\n",
      " 18.40375975 19.81675767 20.29228582 18.75700923 29.49035886 27.4659676\n",
      " 27.6154193  19.0287396  23.87912671 21.27051515 24.11009752 18.94722049\n",
      " 18.70266316 21.13464997 20.76781397 28.07736093 22.73785915 30.84901071\n",
      " 18.62114404 26.69153604 28.131707   24.88452908 18.40375975 19.47709471\n",
      " 29.47677234 24.00140538 29.58546449 29.0827633  24.28672227 28.03660138\n",
      " 18.64831708 19.1781913  18.40375975 28.96048463 21.86832197 25.87634493\n",
      " 29.57187797 28.17246656 21.8139759  19.83034419 22.42536923 24.85735604\n",
      " 23.00958952 22.39819619 26.25676745 18.62114404 18.40375975 21.35203427\n",
      " 20.7134679  28.06377441 22.53406138 23.87912671 18.40375975 20.78140049\n",
      " 25.52309545 19.13743175 27.64259234 25.55026849 21.0123713  27.2485833\n",
      " 18.40375975 27.13989115 20.23793975 22.99600301 27.60183278 18.79776878]\n",
      "\n",
      "Mean Squared Error =  80.3915476111525\n",
      "\n",
      "Root Mean Squared Error =  8.966133370140804\n",
      "\n",
      "Predicted \"medv\" for x_check([[7.147]]) =  [31.01924978]\n"
     ]
    }
   ],
   "source": [
    "import numpy as np\n",
    "import pandas as pd\n",
    "from sklearn.linear_model import LinearRegression\n",
    "from sklearn.model_selection import train_test_split\n",
    "from sklearn.metrics import mean_squared_error\n",
    "\n",
    "data1 = pd.read_csv(\"Boston.csv\")\n",
    "print(\"Boston Data set : \\n\",data1.head())\n",
    "\n",
    "x = data1.iloc[:,5].values.reshape(506,1)    \n",
    "y = data1.iloc[:,12].values                 \n",
    "x_train, x_test, y_train, y_test = train_test_split(x,y, test_size = 0.2, random_state=0)\n",
    "model = LinearRegression()\n",
    "model.fit(x_train, y_train)\n",
    "y_predict = model.predict(x_test)\n",
    "MSE = mean_squared_error(y_predict, y_test)\n",
    "RMSE = np.sqrt(MSE)\n",
    "print(\"\\nIntercept = \",model.intercept_)\n",
    "print(\"\\nCoef = \",model.coef_)\n",
    "print(\"\\nR Score value = \",model.score(x_train, y_train))\n",
    "print(\"\\ny predict : \\n\",y_predict)\n",
    "print(\"\\nMean Squared Error = \",MSE)\n",
    "print(\"\\nRoot Mean Squared Error = \",RMSE)\n",
    "\n",
    "x_check = np.array([7.147]).reshape(1,1)\n",
    "x_check_predict = model.predict(x_check)\n",
    "print(f\"\\nPredicted \\\"medv\\\" for x_check({x_check}) = \",x_check_predict)"
   ]
  },
  {
   "cell_type": "markdown",
   "id": "a6a521dd",
   "metadata": {},
   "source": [
    "# Full code Multiple Linear Regression"
   ]
  },
  {
   "cell_type": "code",
   "execution_count": 5,
   "id": "46873412",
   "metadata": {},
   "outputs": [
    {
     "name": "stdout",
     "output_type": "stream",
     "text": [
      "Boston Data set : \n",
      "       crim    zn  indus    nox     rm   age     dis  rad  tax  ptratio  \\\n",
      "0  0.00632  18.0   2.31  0.538  6.575  65.2  4.0900    1  296     15.3   \n",
      "1  0.02731   0.0   7.07  0.469  6.421  78.9  4.9671    2  242     17.8   \n",
      "2  0.02729   0.0   7.07  0.469  7.185  61.1  4.9671    2  242     17.8   \n",
      "3  0.03237   0.0   2.18  0.458  6.998  45.8  6.0622    3  222     18.7   \n",
      "4  0.06905   0.0   2.18  0.458  7.147  54.2  6.0622    3  222     18.7   \n",
      "\n",
      "    black  lstat  medv  \n",
      "0  396.90   4.98  24.0  \n",
      "1  396.90   9.14  21.6  \n",
      "2  392.83   4.03  34.7  \n",
      "3  394.63   2.94  33.4  \n",
      "4  396.90   5.33  36.2  \n",
      "\n",
      "Intercept =  38.42706211257681\n",
      "\n",
      "Coef =  [-1.25156811e-01  4.48575121e-02  2.01265385e-02 -1.62895522e+01\n",
      "  3.77366409e+00 -2.13185120e-03 -1.40611846e+00  2.66835482e-01\n",
      " -1.21692284e-02 -1.07660161e+00  8.72533635e-03 -4.94425348e-01]\n",
      "\n",
      "R Score value =  0.7690953567794605\n",
      "\n",
      "y predict : \n",
      " [24.80502192 23.99207878 27.41969853 12.22521383 21.54089609 19.30502294\n",
      " 20.70506397 21.495484   18.94490741 19.79344825  4.75978975 16.4343098\n",
      " 17.29081528  5.64718895 38.15388163 32.57410093 22.70379646 37.01957565\n",
      " 31.05648795 23.25919894 24.92104056 24.99282993 20.64411415 30.56600209\n",
      " 22.55400948 10.168633   17.70825917 18.49796497 35.77195417 21.08709139\n",
      " 18.5413341  18.01931143 20.03791552 24.23016879 29.34270932 17.14453905\n",
      " 11.29301586 22.46300599 17.65919302 15.69991479 26.46863641 20.99738044\n",
      " 22.2127374  15.78922293 22.90368303 25.37354909 20.366435   20.84948352\n",
      " 10.27162372 24.36650689 18.72120276 17.3722084  24.74428345 30.0915379\n",
      " 13.45683478 21.89909332 20.77900494 15.37903094 13.76748828 20.0599973\n",
      " 17.4889214  21.74283257 33.13151667 31.34567345 17.8919454  32.84969957\n",
      " 18.97445875 20.02078883 19.17996866 23.05331047 23.09259692 24.13099896\n",
      " 30.78475572 28.86073036 26.19349382  5.30136643 37.10722814 23.97583859\n",
      " 27.40127291 19.36951504 28.80698404 19.35352057 19.155366   38.23739329\n",
      " 39.66412153 23.81181303 25.02422874 15.84571573 26.45375093 16.91465087\n",
      " 15.53939105 13.17184322 24.67085986 31.36491737 22.29095528 20.28111902\n",
      "  0.63998447 25.37563907 15.62819543 18.03294772 25.49786202 22.45773145]\n",
      "\n",
      "Mean Squared Error =  34.212252547533325\n",
      "\n",
      "Root Mean Squared Error =  5.849124083786676\n",
      "\n",
      "x1 :  [[6.320e-03 1.800e+01 2.310e+00 5.380e-01 6.575e+00 6.540e+01 4.186e+00\n",
      "  1.000e+00 2.960e+02 1.530e+01 3.965e+02 4.530e+00]]\n",
      "\n",
      "Predicted \"medv\" value for x1 =  [30.71541424]\n"
     ]
    }
   ],
   "source": [
    "import numpy as np\n",
    "import pandas as pd\n",
    "from sklearn.linear_model import LinearRegression\n",
    "from sklearn.model_selection import train_test_split\n",
    "from sklearn.metrics import mean_squared_error\n",
    "\n",
    "data1 = pd.read_csv(\"C:\\\\Users\\\\Pathum\\\\Desktop\\\\Folder\\\\Course\\\\Artificial intelligence\\\\Python\\\\Boston.csv\")\n",
    "print(\"Boston Data set : \\n\",data1.head())\n",
    "\n",
    "x = data1.iloc[:,:12].values   \n",
    "y = data1.iloc[:,12].values                 \n",
    "x_train, x_test, y_train, y_test = train_test_split(x,y, test_size = 0.2, random_state=0)\n",
    "model = LinearRegression()\n",
    "model.fit(x_train, y_train)\n",
    "y_predict = model.predict(x_test)\n",
    "MSE = mean_squared_error(y_predict, y_test)\n",
    "RMSE = np.sqrt(MSE)\n",
    "print(\"\\nIntercept = \",model.intercept_)\n",
    "print(\"\\nCoef = \",model.coef_)\n",
    "print(\"\\nR Score value = \",model.score(x_train, y_train))\n",
    "print(\"\\ny predict : \\n\",y_predict)\n",
    "print(\"\\nMean Squared Error = \",MSE)\n",
    "print(\"\\nRoot Mean Squared Error = \",RMSE)\n",
    "\n",
    "x1 = np.array([0.00632,18.0,2.31,0.538,6.575,65.4,4.186,1,296,15.3,396.5,4.53]).reshape(1,12)\n",
    "x1_predict = model.predict(x1)\n",
    "print(\"\\nx1 : \",x1)\n",
    "print(\"\\nPredicted \\\"medv\\\" value for x1 = \", x1_predict)"
   ]
  },
  {
   "cell_type": "code",
   "execution_count": null,
   "id": "71ff6fd6",
   "metadata": {},
   "outputs": [],
   "source": []
  }
 ],
 "metadata": {
  "kernelspec": {
   "display_name": "Python 3 (ipykernel)",
   "language": "python",
   "name": "python3"
  },
  "language_info": {
   "codemirror_mode": {
    "name": "ipython",
    "version": 3
   },
   "file_extension": ".py",
   "mimetype": "text/x-python",
   "name": "python",
   "nbconvert_exporter": "python",
   "pygments_lexer": "ipython3",
   "version": "3.9.13"
  }
 },
 "nbformat": 4,
 "nbformat_minor": 5
}
