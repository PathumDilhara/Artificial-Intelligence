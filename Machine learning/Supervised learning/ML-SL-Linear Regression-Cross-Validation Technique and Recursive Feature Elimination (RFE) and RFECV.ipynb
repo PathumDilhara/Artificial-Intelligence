{
 "cells": [
  {
   "cell_type": "markdown",
   "id": "05c279d1",
   "metadata": {},
   "source": [
    "# ML - SL - Linear Regression Algorithm continue ...\n",
    "# Cross-Validation Technique\n",
    "##### Normaly we don't use this technique for model accuracy checking or model selcting, but this is use for difference approaches.\n",
    "### * Randomly choose testing data set"
   ]
  },
  {
   "cell_type": "code",
   "execution_count": 5,
   "id": "e8fba106",
   "metadata": {},
   "outputs": [],
   "source": [
    "import numpy as np\n",
    "import pandas as pd\n",
    "from sklearn.linear_model import LinearRegression\n",
    "from sklearn.model_selection import cross_val_score\n",
    "from sklearn.model_selection import train_test_split\n",
    "from sklearn.metrics import mean_squared_error\n",
    "\n",
    "from sklearn.feature_selection import RFE\n",
    "from sklearn.feature_selection import RFECV"
   ]
  },
  {
   "cell_type": "code",
   "execution_count": 6,
   "id": "307bcd06",
   "metadata": {},
   "outputs": [
    {
     "data": {
      "text/html": [
       "<div>\n",
       "<style scoped>\n",
       "    .dataframe tbody tr th:only-of-type {\n",
       "        vertical-align: middle;\n",
       "    }\n",
       "\n",
       "    .dataframe tbody tr th {\n",
       "        vertical-align: top;\n",
       "    }\n",
       "\n",
       "    .dataframe thead th {\n",
       "        text-align: right;\n",
       "    }\n",
       "</style>\n",
       "<table border=\"1\" class=\"dataframe\">\n",
       "  <thead>\n",
       "    <tr style=\"text-align: right;\">\n",
       "      <th></th>\n",
       "      <th>crim</th>\n",
       "      <th>zn</th>\n",
       "      <th>indus</th>\n",
       "      <th>nox</th>\n",
       "      <th>rm</th>\n",
       "      <th>age</th>\n",
       "      <th>dis</th>\n",
       "      <th>rad</th>\n",
       "      <th>tax</th>\n",
       "      <th>ptratio</th>\n",
       "      <th>black</th>\n",
       "      <th>lstat</th>\n",
       "      <th>medv</th>\n",
       "    </tr>\n",
       "  </thead>\n",
       "  <tbody>\n",
       "    <tr>\n",
       "      <th>0</th>\n",
       "      <td>0.00632</td>\n",
       "      <td>18.0</td>\n",
       "      <td>2.31</td>\n",
       "      <td>0.538</td>\n",
       "      <td>6.575</td>\n",
       "      <td>65.2</td>\n",
       "      <td>4.0900</td>\n",
       "      <td>1</td>\n",
       "      <td>296</td>\n",
       "      <td>15.3</td>\n",
       "      <td>396.90</td>\n",
       "      <td>4.98</td>\n",
       "      <td>24.0</td>\n",
       "    </tr>\n",
       "    <tr>\n",
       "      <th>1</th>\n",
       "      <td>0.02731</td>\n",
       "      <td>0.0</td>\n",
       "      <td>7.07</td>\n",
       "      <td>0.469</td>\n",
       "      <td>6.421</td>\n",
       "      <td>78.9</td>\n",
       "      <td>4.9671</td>\n",
       "      <td>2</td>\n",
       "      <td>242</td>\n",
       "      <td>17.8</td>\n",
       "      <td>396.90</td>\n",
       "      <td>9.14</td>\n",
       "      <td>21.6</td>\n",
       "    </tr>\n",
       "    <tr>\n",
       "      <th>2</th>\n",
       "      <td>0.02729</td>\n",
       "      <td>0.0</td>\n",
       "      <td>7.07</td>\n",
       "      <td>0.469</td>\n",
       "      <td>7.185</td>\n",
       "      <td>61.1</td>\n",
       "      <td>4.9671</td>\n",
       "      <td>2</td>\n",
       "      <td>242</td>\n",
       "      <td>17.8</td>\n",
       "      <td>392.83</td>\n",
       "      <td>4.03</td>\n",
       "      <td>34.7</td>\n",
       "    </tr>\n",
       "    <tr>\n",
       "      <th>3</th>\n",
       "      <td>0.03237</td>\n",
       "      <td>0.0</td>\n",
       "      <td>2.18</td>\n",
       "      <td>0.458</td>\n",
       "      <td>6.998</td>\n",
       "      <td>45.8</td>\n",
       "      <td>6.0622</td>\n",
       "      <td>3</td>\n",
       "      <td>222</td>\n",
       "      <td>18.7</td>\n",
       "      <td>394.63</td>\n",
       "      <td>2.94</td>\n",
       "      <td>33.4</td>\n",
       "    </tr>\n",
       "    <tr>\n",
       "      <th>4</th>\n",
       "      <td>0.06905</td>\n",
       "      <td>0.0</td>\n",
       "      <td>2.18</td>\n",
       "      <td>0.458</td>\n",
       "      <td>7.147</td>\n",
       "      <td>54.2</td>\n",
       "      <td>6.0622</td>\n",
       "      <td>3</td>\n",
       "      <td>222</td>\n",
       "      <td>18.7</td>\n",
       "      <td>396.90</td>\n",
       "      <td>5.33</td>\n",
       "      <td>36.2</td>\n",
       "    </tr>\n",
       "  </tbody>\n",
       "</table>\n",
       "</div>"
      ],
      "text/plain": [
       "      crim    zn  indus    nox     rm   age     dis  rad  tax  ptratio  \\\n",
       "0  0.00632  18.0   2.31  0.538  6.575  65.2  4.0900    1  296     15.3   \n",
       "1  0.02731   0.0   7.07  0.469  6.421  78.9  4.9671    2  242     17.8   \n",
       "2  0.02729   0.0   7.07  0.469  7.185  61.1  4.9671    2  242     17.8   \n",
       "3  0.03237   0.0   2.18  0.458  6.998  45.8  6.0622    3  222     18.7   \n",
       "4  0.06905   0.0   2.18  0.458  7.147  54.2  6.0622    3  222     18.7   \n",
       "\n",
       "    black  lstat  medv  \n",
       "0  396.90   4.98  24.0  \n",
       "1  396.90   9.14  21.6  \n",
       "2  392.83   4.03  34.7  \n",
       "3  394.63   2.94  33.4  \n",
       "4  396.90   5.33  36.2  "
      ]
     },
     "execution_count": 6,
     "metadata": {},
     "output_type": "execute_result"
    }
   ],
   "source": [
    "data = pd.read_csv(\"Boston.csv\")\n",
    "data.head()"
   ]
  },
  {
   "cell_type": "code",
   "execution_count": 7,
   "id": "dcb7249c",
   "metadata": {},
   "outputs": [],
   "source": [
    "x = data.iloc[:,:12].values\n",
    "y = data.iloc[:,12].values"
   ]
  },
  {
   "cell_type": "code",
   "execution_count": 10,
   "id": "0c21d8ba-b193-4fe3-bb96-3b9baaad3372",
   "metadata": {},
   "outputs": [],
   "source": [
    "model = LinearRegression()"
   ]
  },
  {
   "cell_type": "markdown",
   "id": "a6107c1a-9386-49a8-9006-093ee97d4619",
   "metadata": {},
   "source": [
    "##### We can't get mean squared error directly, negative mean squared error is there. It give the minus value of mean_squared_error so put \" - \" \n",
    "##### Let creat 10 iterations then we may have 10 mean squared errror values"
   ]
  },
  {
   "cell_type": "code",
   "execution_count": 20,
   "id": "bc3062bf-0358-4e96-930a-8752c0e9e567",
   "metadata": {},
   "outputs": [
    {
     "name": "stdout",
     "output_type": "stream",
     "text": [
      "[  9.17006701  14.76188969  11.78968809  34.93168849  26.8851826\n",
      "  19.52818886  10.70555866 171.48795123  35.0922184   11.64765827]\n"
     ]
    }
   ],
   "source": [
    "cross_vals = -cross_val_score(model, x, y, cv = 10, scoring = \"neg_mean_squared_error\")   # return MSE for each iteration   \n",
    "# cv is an argument(how many iterations/parts)\n",
    "\n",
    "# scoring=\"neg_mean_squared_error\": This specifies that the scoring metric to be used is the negative mean squared error (neg-MSE). \n",
    "# In scikit-learn, MSE is multiplied by -1 because cross_val_score always tries to maximize the score. By negating the MSE, \n",
    "# lower errors correspond to higher scores.\n",
    "\n",
    "print(cross_vals) # MSE values"
   ]
  },
  {
   "cell_type": "code",
   "execution_count": 23,
   "id": "45d75ec2",
   "metadata": {},
   "outputs": [
    {
     "name": "stdout",
     "output_type": "stream",
     "text": [
      "[ 3.02821185  3.84212047  3.43361152  5.91030359  5.18509234  4.41907104\n",
      "  3.271935   13.09534082  5.92386853  3.41286658]\n"
     ]
    }
   ],
   "source": [
    "RMSE = np.sqrt(cross_vals)   # Square root of above MSE of return byh each iteration of \"cross_val_score\" function\n",
    "print(RMSE)"
   ]
  },
  {
   "cell_type": "markdown",
   "id": "3ee47b2d",
   "metadata": {},
   "source": [
    "##### Final Result, Avarage of RMSES"
   ]
  },
  {
   "cell_type": "code",
   "execution_count": 24,
   "id": "918afce2",
   "metadata": {},
   "outputs": [
    {
     "name": "stdout",
     "output_type": "stream",
     "text": [
      "5.152242174479882\n"
     ]
    }
   ],
   "source": [
    "avg_RMSE = np.mean(RMSE)\n",
    "print(avg_RMSE)"
   ]
  },
  {
   "cell_type": "markdown",
   "id": "ecdd1c35",
   "metadata": {},
   "source": [
    "# Feature Selection\n",
    "This is a technique in Machine Learning specialy in Linear Regression\n",
    "\n",
    "When we have very larger number of x variables, really we don't need entire x variables. There some x variables which is less impact to responce variable. We can select most needfull variables and then we can remove that unwanted variables. In Machine Learning we have defferent defferent ways to do that.\n",
    "\n",
    "* Best subset selection\n",
    "\n",
    "* Forword selction\n",
    "\n",
    "* Backword slection\n",
    "\n",
    "* Stepwise selection\n",
    "\n",
    "thing is these are not supported to python only in R - Language.\n",
    "\n",
    "* Regularization  (L1 Regularization/LASSO regression, L2 Regularization/Ridge regression  and hybrid version of these Elastic Net regression) this is available in python.\n",
    "\n",
    "But we have another algorithm in python( not a standard way like above things) called \n",
    "* Recursive Feature Elimination (RFE) "
   ]
  },
  {
   "cell_type": "markdown",
   "id": "52807593",
   "metadata": {},
   "source": [
    "## Recursive Feature Elimination (RFE)\n",
    "This is a feature selection technique commonly used in machine learning to select the most relevant features from a dataset. Its main purpose is to improve the performance of a model by removing irrelevant or redundant features.\n",
    "* Selcting most suitable variables"
   ]
  },
  {
   "cell_type": "code",
   "execution_count": 98,
   "id": "eded927a",
   "metadata": {
    "scrolled": true
   },
   "outputs": [
    {
     "data": {
      "text/html": [
       "<div>\n",
       "<style scoped>\n",
       "    .dataframe tbody tr th:only-of-type {\n",
       "        vertical-align: middle;\n",
       "    }\n",
       "\n",
       "    .dataframe tbody tr th {\n",
       "        vertical-align: top;\n",
       "    }\n",
       "\n",
       "    .dataframe thead th {\n",
       "        text-align: right;\n",
       "    }\n",
       "</style>\n",
       "<table border=\"1\" class=\"dataframe\">\n",
       "  <thead>\n",
       "    <tr style=\"text-align: right;\">\n",
       "      <th></th>\n",
       "      <th>crim</th>\n",
       "      <th>zn</th>\n",
       "      <th>indus</th>\n",
       "      <th>nox</th>\n",
       "      <th>rm</th>\n",
       "      <th>age</th>\n",
       "      <th>dis</th>\n",
       "      <th>rad</th>\n",
       "      <th>tax</th>\n",
       "      <th>ptratio</th>\n",
       "      <th>black</th>\n",
       "      <th>lstat</th>\n",
       "      <th>medv</th>\n",
       "    </tr>\n",
       "  </thead>\n",
       "  <tbody>\n",
       "    <tr>\n",
       "      <th>0</th>\n",
       "      <td>0.00632</td>\n",
       "      <td>18.0</td>\n",
       "      <td>2.31</td>\n",
       "      <td>0.538</td>\n",
       "      <td>6.575</td>\n",
       "      <td>65.2</td>\n",
       "      <td>4.0900</td>\n",
       "      <td>1</td>\n",
       "      <td>296</td>\n",
       "      <td>15.3</td>\n",
       "      <td>396.90</td>\n",
       "      <td>4.98</td>\n",
       "      <td>24.0</td>\n",
       "    </tr>\n",
       "    <tr>\n",
       "      <th>1</th>\n",
       "      <td>0.02731</td>\n",
       "      <td>0.0</td>\n",
       "      <td>7.07</td>\n",
       "      <td>0.469</td>\n",
       "      <td>6.421</td>\n",
       "      <td>78.9</td>\n",
       "      <td>4.9671</td>\n",
       "      <td>2</td>\n",
       "      <td>242</td>\n",
       "      <td>17.8</td>\n",
       "      <td>396.90</td>\n",
       "      <td>9.14</td>\n",
       "      <td>21.6</td>\n",
       "    </tr>\n",
       "    <tr>\n",
       "      <th>2</th>\n",
       "      <td>0.02729</td>\n",
       "      <td>0.0</td>\n",
       "      <td>7.07</td>\n",
       "      <td>0.469</td>\n",
       "      <td>7.185</td>\n",
       "      <td>61.1</td>\n",
       "      <td>4.9671</td>\n",
       "      <td>2</td>\n",
       "      <td>242</td>\n",
       "      <td>17.8</td>\n",
       "      <td>392.83</td>\n",
       "      <td>4.03</td>\n",
       "      <td>34.7</td>\n",
       "    </tr>\n",
       "    <tr>\n",
       "      <th>3</th>\n",
       "      <td>0.03237</td>\n",
       "      <td>0.0</td>\n",
       "      <td>2.18</td>\n",
       "      <td>0.458</td>\n",
       "      <td>6.998</td>\n",
       "      <td>45.8</td>\n",
       "      <td>6.0622</td>\n",
       "      <td>3</td>\n",
       "      <td>222</td>\n",
       "      <td>18.7</td>\n",
       "      <td>394.63</td>\n",
       "      <td>2.94</td>\n",
       "      <td>33.4</td>\n",
       "    </tr>\n",
       "    <tr>\n",
       "      <th>4</th>\n",
       "      <td>0.06905</td>\n",
       "      <td>0.0</td>\n",
       "      <td>2.18</td>\n",
       "      <td>0.458</td>\n",
       "      <td>7.147</td>\n",
       "      <td>54.2</td>\n",
       "      <td>6.0622</td>\n",
       "      <td>3</td>\n",
       "      <td>222</td>\n",
       "      <td>18.7</td>\n",
       "      <td>396.90</td>\n",
       "      <td>5.33</td>\n",
       "      <td>36.2</td>\n",
       "    </tr>\n",
       "  </tbody>\n",
       "</table>\n",
       "</div>"
      ],
      "text/plain": [
       "      crim    zn  indus    nox     rm   age     dis  rad  tax  ptratio  \\\n",
       "0  0.00632  18.0   2.31  0.538  6.575  65.2  4.0900    1  296     15.3   \n",
       "1  0.02731   0.0   7.07  0.469  6.421  78.9  4.9671    2  242     17.8   \n",
       "2  0.02729   0.0   7.07  0.469  7.185  61.1  4.9671    2  242     17.8   \n",
       "3  0.03237   0.0   2.18  0.458  6.998  45.8  6.0622    3  222     18.7   \n",
       "4  0.06905   0.0   2.18  0.458  7.147  54.2  6.0622    3  222     18.7   \n",
       "\n",
       "    black  lstat  medv  \n",
       "0  396.90   4.98  24.0  \n",
       "1  396.90   9.14  21.6  \n",
       "2  392.83   4.03  34.7  \n",
       "3  394.63   2.94  33.4  \n",
       "4  396.90   5.33  36.2  "
      ]
     },
     "execution_count": 98,
     "metadata": {},
     "output_type": "execute_result"
    }
   ],
   "source": [
    "data1 = pd.read_csv(\"Boston.csv\")\n",
    "data1.head()"
   ]
  },
  {
   "cell_type": "markdown",
   "id": "75e3161d",
   "metadata": {},
   "source": [
    "For RFE not need to convert into arrays"
   ]
  },
  {
   "cell_type": "code",
   "execution_count": 99,
   "id": "85e11df3",
   "metadata": {},
   "outputs": [],
   "source": [
    "dfx = data.iloc[:,:12]   # data frames 12 columns\n",
    "dfy = data.iloc[:,12]"
   ]
  },
  {
   "cell_type": "code",
   "execution_count": 100,
   "id": "66ccb407",
   "metadata": {},
   "outputs": [],
   "source": [
    "model = LinearRegression()"
   ]
  },
  {
   "cell_type": "code",
   "execution_count": 101,
   "id": "abe316d9",
   "metadata": {},
   "outputs": [
    {
     "data": {
      "text/html": [
       "<style>#sk-container-id-9 {color: black;background-color: white;}#sk-container-id-9 pre{padding: 0;}#sk-container-id-9 div.sk-toggleable {background-color: white;}#sk-container-id-9 label.sk-toggleable__label {cursor: pointer;display: block;width: 100%;margin-bottom: 0;padding: 0.3em;box-sizing: border-box;text-align: center;}#sk-container-id-9 label.sk-toggleable__label-arrow:before {content: \"▸\";float: left;margin-right: 0.25em;color: #696969;}#sk-container-id-9 label.sk-toggleable__label-arrow:hover:before {color: black;}#sk-container-id-9 div.sk-estimator:hover label.sk-toggleable__label-arrow:before {color: black;}#sk-container-id-9 div.sk-toggleable__content {max-height: 0;max-width: 0;overflow: hidden;text-align: left;background-color: #f0f8ff;}#sk-container-id-9 div.sk-toggleable__content pre {margin: 0.2em;color: black;border-radius: 0.25em;background-color: #f0f8ff;}#sk-container-id-9 input.sk-toggleable__control:checked~div.sk-toggleable__content {max-height: 200px;max-width: 100%;overflow: auto;}#sk-container-id-9 input.sk-toggleable__control:checked~label.sk-toggleable__label-arrow:before {content: \"▾\";}#sk-container-id-9 div.sk-estimator input.sk-toggleable__control:checked~label.sk-toggleable__label {background-color: #d4ebff;}#sk-container-id-9 div.sk-label input.sk-toggleable__control:checked~label.sk-toggleable__label {background-color: #d4ebff;}#sk-container-id-9 input.sk-hidden--visually {border: 0;clip: rect(1px 1px 1px 1px);clip: rect(1px, 1px, 1px, 1px);height: 1px;margin: -1px;overflow: hidden;padding: 0;position: absolute;width: 1px;}#sk-container-id-9 div.sk-estimator {font-family: monospace;background-color: #f0f8ff;border: 1px dotted black;border-radius: 0.25em;box-sizing: border-box;margin-bottom: 0.5em;}#sk-container-id-9 div.sk-estimator:hover {background-color: #d4ebff;}#sk-container-id-9 div.sk-parallel-item::after {content: \"\";width: 100%;border-bottom: 1px solid gray;flex-grow: 1;}#sk-container-id-9 div.sk-label:hover label.sk-toggleable__label {background-color: #d4ebff;}#sk-container-id-9 div.sk-serial::before {content: \"\";position: absolute;border-left: 1px solid gray;box-sizing: border-box;top: 0;bottom: 0;left: 50%;z-index: 0;}#sk-container-id-9 div.sk-serial {display: flex;flex-direction: column;align-items: center;background-color: white;padding-right: 0.2em;padding-left: 0.2em;position: relative;}#sk-container-id-9 div.sk-item {position: relative;z-index: 1;}#sk-container-id-9 div.sk-parallel {display: flex;align-items: stretch;justify-content: center;background-color: white;position: relative;}#sk-container-id-9 div.sk-item::before, #sk-container-id-9 div.sk-parallel-item::before {content: \"\";position: absolute;border-left: 1px solid gray;box-sizing: border-box;top: 0;bottom: 0;left: 50%;z-index: -1;}#sk-container-id-9 div.sk-parallel-item {display: flex;flex-direction: column;z-index: 1;position: relative;background-color: white;}#sk-container-id-9 div.sk-parallel-item:first-child::after {align-self: flex-end;width: 50%;}#sk-container-id-9 div.sk-parallel-item:last-child::after {align-self: flex-start;width: 50%;}#sk-container-id-9 div.sk-parallel-item:only-child::after {width: 0;}#sk-container-id-9 div.sk-dashed-wrapped {border: 1px dashed gray;margin: 0 0.4em 0.5em 0.4em;box-sizing: border-box;padding-bottom: 0.4em;background-color: white;}#sk-container-id-9 div.sk-label label {font-family: monospace;font-weight: bold;display: inline-block;line-height: 1.2em;}#sk-container-id-9 div.sk-label-container {text-align: center;}#sk-container-id-9 div.sk-container {/* jupyter's `normalize.less` sets `[hidden] { display: none; }` but bootstrap.min.css set `[hidden] { display: none !important; }` so we also need the `!important` here to be able to override the default hidden behavior on the sphinx rendered scikit-learn.org. See: https://github.com/scikit-learn/scikit-learn/issues/21755 */display: inline-block !important;position: relative;}#sk-container-id-9 div.sk-text-repr-fallback {display: none;}</style><div id=\"sk-container-id-9\" class=\"sk-top-container\"><div class=\"sk-text-repr-fallback\"><pre>RFE(estimator=LinearRegression(), n_features_to_select=5)</pre><b>In a Jupyter environment, please rerun this cell to show the HTML representation or trust the notebook. <br />On GitHub, the HTML representation is unable to render, please try loading this page with nbviewer.org.</b></div><div class=\"sk-container\" hidden><div class=\"sk-item sk-dashed-wrapped\"><div class=\"sk-label-container\"><div class=\"sk-label sk-toggleable\"><input class=\"sk-toggleable__control sk-hidden--visually\" id=\"sk-estimator-id-25\" type=\"checkbox\" ><label for=\"sk-estimator-id-25\" class=\"sk-toggleable__label sk-toggleable__label-arrow\">RFE</label><div class=\"sk-toggleable__content\"><pre>RFE(estimator=LinearRegression(), n_features_to_select=5)</pre></div></div></div><div class=\"sk-parallel\"><div class=\"sk-parallel-item\"><div class=\"sk-item\"><div class=\"sk-label-container\"><div class=\"sk-label sk-toggleable\"><input class=\"sk-toggleable__control sk-hidden--visually\" id=\"sk-estimator-id-26\" type=\"checkbox\" ><label for=\"sk-estimator-id-26\" class=\"sk-toggleable__label sk-toggleable__label-arrow\">estimator: LinearRegression</label><div class=\"sk-toggleable__content\"><pre>LinearRegression()</pre></div></div></div><div class=\"sk-serial\"><div class=\"sk-item\"><div class=\"sk-estimator sk-toggleable\"><input class=\"sk-toggleable__control sk-hidden--visually\" id=\"sk-estimator-id-27\" type=\"checkbox\" ><label for=\"sk-estimator-id-27\" class=\"sk-toggleable__label sk-toggleable__label-arrow\">LinearRegression</label><div class=\"sk-toggleable__content\"><pre>LinearRegression()</pre></div></div></div></div></div></div></div></div></div></div>"
      ],
      "text/plain": [
       "RFE(estimator=LinearRegression(), n_features_to_select=5)"
      ]
     },
     "execution_count": 101,
     "metadata": {},
     "output_type": "execute_result"
    }
   ],
   "source": [
    "rfe = RFE(estimator = model, n_features_to_select=5)\n",
    "rfe"
   ]
  },
  {
   "cell_type": "markdown",
   "id": "4441eb08",
   "metadata": {},
   "source": [
    "### Let fit the model, RFE select most suitable 5 from dfx"
   ]
  },
  {
   "cell_type": "code",
   "execution_count": 102,
   "id": "f276fb2a",
   "metadata": {},
   "outputs": [
    {
     "data": {
      "text/html": [
       "<style>#sk-container-id-10 {color: black;background-color: white;}#sk-container-id-10 pre{padding: 0;}#sk-container-id-10 div.sk-toggleable {background-color: white;}#sk-container-id-10 label.sk-toggleable__label {cursor: pointer;display: block;width: 100%;margin-bottom: 0;padding: 0.3em;box-sizing: border-box;text-align: center;}#sk-container-id-10 label.sk-toggleable__label-arrow:before {content: \"▸\";float: left;margin-right: 0.25em;color: #696969;}#sk-container-id-10 label.sk-toggleable__label-arrow:hover:before {color: black;}#sk-container-id-10 div.sk-estimator:hover label.sk-toggleable__label-arrow:before {color: black;}#sk-container-id-10 div.sk-toggleable__content {max-height: 0;max-width: 0;overflow: hidden;text-align: left;background-color: #f0f8ff;}#sk-container-id-10 div.sk-toggleable__content pre {margin: 0.2em;color: black;border-radius: 0.25em;background-color: #f0f8ff;}#sk-container-id-10 input.sk-toggleable__control:checked~div.sk-toggleable__content {max-height: 200px;max-width: 100%;overflow: auto;}#sk-container-id-10 input.sk-toggleable__control:checked~label.sk-toggleable__label-arrow:before {content: \"▾\";}#sk-container-id-10 div.sk-estimator input.sk-toggleable__control:checked~label.sk-toggleable__label {background-color: #d4ebff;}#sk-container-id-10 div.sk-label input.sk-toggleable__control:checked~label.sk-toggleable__label {background-color: #d4ebff;}#sk-container-id-10 input.sk-hidden--visually {border: 0;clip: rect(1px 1px 1px 1px);clip: rect(1px, 1px, 1px, 1px);height: 1px;margin: -1px;overflow: hidden;padding: 0;position: absolute;width: 1px;}#sk-container-id-10 div.sk-estimator {font-family: monospace;background-color: #f0f8ff;border: 1px dotted black;border-radius: 0.25em;box-sizing: border-box;margin-bottom: 0.5em;}#sk-container-id-10 div.sk-estimator:hover {background-color: #d4ebff;}#sk-container-id-10 div.sk-parallel-item::after {content: \"\";width: 100%;border-bottom: 1px solid gray;flex-grow: 1;}#sk-container-id-10 div.sk-label:hover label.sk-toggleable__label {background-color: #d4ebff;}#sk-container-id-10 div.sk-serial::before {content: \"\";position: absolute;border-left: 1px solid gray;box-sizing: border-box;top: 0;bottom: 0;left: 50%;z-index: 0;}#sk-container-id-10 div.sk-serial {display: flex;flex-direction: column;align-items: center;background-color: white;padding-right: 0.2em;padding-left: 0.2em;position: relative;}#sk-container-id-10 div.sk-item {position: relative;z-index: 1;}#sk-container-id-10 div.sk-parallel {display: flex;align-items: stretch;justify-content: center;background-color: white;position: relative;}#sk-container-id-10 div.sk-item::before, #sk-container-id-10 div.sk-parallel-item::before {content: \"\";position: absolute;border-left: 1px solid gray;box-sizing: border-box;top: 0;bottom: 0;left: 50%;z-index: -1;}#sk-container-id-10 div.sk-parallel-item {display: flex;flex-direction: column;z-index: 1;position: relative;background-color: white;}#sk-container-id-10 div.sk-parallel-item:first-child::after {align-self: flex-end;width: 50%;}#sk-container-id-10 div.sk-parallel-item:last-child::after {align-self: flex-start;width: 50%;}#sk-container-id-10 div.sk-parallel-item:only-child::after {width: 0;}#sk-container-id-10 div.sk-dashed-wrapped {border: 1px dashed gray;margin: 0 0.4em 0.5em 0.4em;box-sizing: border-box;padding-bottom: 0.4em;background-color: white;}#sk-container-id-10 div.sk-label label {font-family: monospace;font-weight: bold;display: inline-block;line-height: 1.2em;}#sk-container-id-10 div.sk-label-container {text-align: center;}#sk-container-id-10 div.sk-container {/* jupyter's `normalize.less` sets `[hidden] { display: none; }` but bootstrap.min.css set `[hidden] { display: none !important; }` so we also need the `!important` here to be able to override the default hidden behavior on the sphinx rendered scikit-learn.org. See: https://github.com/scikit-learn/scikit-learn/issues/21755 */display: inline-block !important;position: relative;}#sk-container-id-10 div.sk-text-repr-fallback {display: none;}</style><div id=\"sk-container-id-10\" class=\"sk-top-container\"><div class=\"sk-text-repr-fallback\"><pre>RFE(estimator=LinearRegression(), n_features_to_select=5)</pre><b>In a Jupyter environment, please rerun this cell to show the HTML representation or trust the notebook. <br />On GitHub, the HTML representation is unable to render, please try loading this page with nbviewer.org.</b></div><div class=\"sk-container\" hidden><div class=\"sk-item sk-dashed-wrapped\"><div class=\"sk-label-container\"><div class=\"sk-label sk-toggleable\"><input class=\"sk-toggleable__control sk-hidden--visually\" id=\"sk-estimator-id-28\" type=\"checkbox\" ><label for=\"sk-estimator-id-28\" class=\"sk-toggleable__label sk-toggleable__label-arrow\">RFE</label><div class=\"sk-toggleable__content\"><pre>RFE(estimator=LinearRegression(), n_features_to_select=5)</pre></div></div></div><div class=\"sk-parallel\"><div class=\"sk-parallel-item\"><div class=\"sk-item\"><div class=\"sk-label-container\"><div class=\"sk-label sk-toggleable\"><input class=\"sk-toggleable__control sk-hidden--visually\" id=\"sk-estimator-id-29\" type=\"checkbox\" ><label for=\"sk-estimator-id-29\" class=\"sk-toggleable__label sk-toggleable__label-arrow\">estimator: LinearRegression</label><div class=\"sk-toggleable__content\"><pre>LinearRegression()</pre></div></div></div><div class=\"sk-serial\"><div class=\"sk-item\"><div class=\"sk-estimator sk-toggleable\"><input class=\"sk-toggleable__control sk-hidden--visually\" id=\"sk-estimator-id-30\" type=\"checkbox\" ><label for=\"sk-estimator-id-30\" class=\"sk-toggleable__label sk-toggleable__label-arrow\">LinearRegression</label><div class=\"sk-toggleable__content\"><pre>LinearRegression()</pre></div></div></div></div></div></div></div></div></div></div>"
      ],
      "text/plain": [
       "RFE(estimator=LinearRegression(), n_features_to_select=5)"
      ]
     },
     "execution_count": 102,
     "metadata": {},
     "output_type": "execute_result"
    }
   ],
   "source": [
    "recursive_elimination = rfe.fit(dfx,dfy)\n",
    "recursive_elimination"
   ]
  },
  {
   "cell_type": "markdown",
   "id": "844004e5",
   "metadata": {},
   "source": [
    "### Boolean Masking"
   ]
  },
  {
   "cell_type": "code",
   "execution_count": 103,
   "id": "e8506d98",
   "metadata": {},
   "outputs": [
    {
     "data": {
      "text/plain": [
       "array([10, 20, 50])"
      ]
     },
     "execution_count": 103,
     "metadata": {},
     "output_type": "execute_result"
    }
   ],
   "source": [
    "a = np.array([10,20,30,40,50])\n",
    "a[[True, True, False, False, True]] "
   ]
  },
  {
   "cell_type": "markdown",
   "id": "ee76fd5a",
   "metadata": {},
   "source": [
    "### Details of above fitted model"
   ]
  },
  {
   "cell_type": "code",
   "execution_count": 104,
   "id": "196b0c3f",
   "metadata": {},
   "outputs": [
    {
     "name": "stdout",
     "output_type": "stream",
     "text": [
      "5\n",
      "[False False False  True  True False  True False False  True False  True]\n",
      "[3 5 4 1 1 8 1 2 6 1 7 1]\n",
      "Index(['nox', 'rm', 'dis', 'ptratio', 'lstat'], dtype='object')\n"
     ]
    }
   ],
   "source": [
    "print(recursive_elimination.n_features_)\n",
    "print(recursive_elimination.support_)   # True for took columns as most suitable\n",
    "print(recursive_elimination.ranking_)   # 1 for availble in fitted model(selected by RFE), 2 for next valuble column\n",
    "print(dfx.columns[recursive_elimination.support_])   # True index will be selected"
   ]
  },
  {
   "cell_type": "markdown",
   "id": "cd68ee6f",
   "metadata": {},
   "source": [
    "### Most suitable columns"
   ]
  },
  {
   "cell_type": "code",
   "execution_count": 105,
   "id": "c751d0f1",
   "metadata": {},
   "outputs": [
    {
     "data": {
      "text/html": [
       "<div>\n",
       "<style scoped>\n",
       "    .dataframe tbody tr th:only-of-type {\n",
       "        vertical-align: middle;\n",
       "    }\n",
       "\n",
       "    .dataframe tbody tr th {\n",
       "        vertical-align: top;\n",
       "    }\n",
       "\n",
       "    .dataframe thead th {\n",
       "        text-align: right;\n",
       "    }\n",
       "</style>\n",
       "<table border=\"1\" class=\"dataframe\">\n",
       "  <thead>\n",
       "    <tr style=\"text-align: right;\">\n",
       "      <th></th>\n",
       "      <th>nox</th>\n",
       "      <th>rm</th>\n",
       "      <th>dis</th>\n",
       "      <th>ptratio</th>\n",
       "      <th>lstat</th>\n",
       "    </tr>\n",
       "  </thead>\n",
       "  <tbody>\n",
       "    <tr>\n",
       "      <th>0</th>\n",
       "      <td>0.538</td>\n",
       "      <td>6.575</td>\n",
       "      <td>4.0900</td>\n",
       "      <td>15.3</td>\n",
       "      <td>4.98</td>\n",
       "    </tr>\n",
       "    <tr>\n",
       "      <th>1</th>\n",
       "      <td>0.469</td>\n",
       "      <td>6.421</td>\n",
       "      <td>4.9671</td>\n",
       "      <td>17.8</td>\n",
       "      <td>9.14</td>\n",
       "    </tr>\n",
       "    <tr>\n",
       "      <th>2</th>\n",
       "      <td>0.469</td>\n",
       "      <td>7.185</td>\n",
       "      <td>4.9671</td>\n",
       "      <td>17.8</td>\n",
       "      <td>4.03</td>\n",
       "    </tr>\n",
       "    <tr>\n",
       "      <th>3</th>\n",
       "      <td>0.458</td>\n",
       "      <td>6.998</td>\n",
       "      <td>6.0622</td>\n",
       "      <td>18.7</td>\n",
       "      <td>2.94</td>\n",
       "    </tr>\n",
       "    <tr>\n",
       "      <th>4</th>\n",
       "      <td>0.458</td>\n",
       "      <td>7.147</td>\n",
       "      <td>6.0622</td>\n",
       "      <td>18.7</td>\n",
       "      <td>5.33</td>\n",
       "    </tr>\n",
       "    <tr>\n",
       "      <th>...</th>\n",
       "      <td>...</td>\n",
       "      <td>...</td>\n",
       "      <td>...</td>\n",
       "      <td>...</td>\n",
       "      <td>...</td>\n",
       "    </tr>\n",
       "    <tr>\n",
       "      <th>501</th>\n",
       "      <td>0.573</td>\n",
       "      <td>6.593</td>\n",
       "      <td>2.4786</td>\n",
       "      <td>21.0</td>\n",
       "      <td>9.67</td>\n",
       "    </tr>\n",
       "    <tr>\n",
       "      <th>502</th>\n",
       "      <td>0.573</td>\n",
       "      <td>6.120</td>\n",
       "      <td>2.2875</td>\n",
       "      <td>21.0</td>\n",
       "      <td>9.08</td>\n",
       "    </tr>\n",
       "    <tr>\n",
       "      <th>503</th>\n",
       "      <td>0.573</td>\n",
       "      <td>6.976</td>\n",
       "      <td>2.1675</td>\n",
       "      <td>21.0</td>\n",
       "      <td>5.64</td>\n",
       "    </tr>\n",
       "    <tr>\n",
       "      <th>504</th>\n",
       "      <td>0.573</td>\n",
       "      <td>6.794</td>\n",
       "      <td>2.3889</td>\n",
       "      <td>21.0</td>\n",
       "      <td>6.48</td>\n",
       "    </tr>\n",
       "    <tr>\n",
       "      <th>505</th>\n",
       "      <td>0.573</td>\n",
       "      <td>6.030</td>\n",
       "      <td>2.5050</td>\n",
       "      <td>21.0</td>\n",
       "      <td>7.88</td>\n",
       "    </tr>\n",
       "  </tbody>\n",
       "</table>\n",
       "<p>506 rows × 5 columns</p>\n",
       "</div>"
      ],
      "text/plain": [
       "       nox     rm     dis  ptratio  lstat\n",
       "0    0.538  6.575  4.0900     15.3   4.98\n",
       "1    0.469  6.421  4.9671     17.8   9.14\n",
       "2    0.469  7.185  4.9671     17.8   4.03\n",
       "3    0.458  6.998  6.0622     18.7   2.94\n",
       "4    0.458  7.147  6.0622     18.7   5.33\n",
       "..     ...    ...     ...      ...    ...\n",
       "501  0.573  6.593  2.4786     21.0   9.67\n",
       "502  0.573  6.120  2.2875     21.0   9.08\n",
       "503  0.573  6.976  2.1675     21.0   5.64\n",
       "504  0.573  6.794  2.3889     21.0   6.48\n",
       "505  0.573  6.030  2.5050     21.0   7.88\n",
       "\n",
       "[506 rows x 5 columns]"
      ]
     },
     "execution_count": 105,
     "metadata": {},
     "output_type": "execute_result"
    }
   ],
   "source": [
    "dfx[dfx.columns[recursive_elimination.support_]]   #True, False ---> columns---> True columns\n",
    "#dfx already have 12 column gettin subset from suitable colummns we give column neames to dfx"
   ]
  },
  {
   "cell_type": "markdown",
   "id": "35e5aa1d",
   "metadata": {},
   "source": [
    "## Recursive Feature Elimination Cross-Validation Technique(RFECV)\n",
    "* Select most suitable variables automatically\n",
    "\n",
    "* Recursive Feature Elimination with Cross-Validation (RFECV) is a feature(column) selection method used to identify the most important features of a dataset by recursively removing less significant features and evaluating the performance of the model. This process continues until the optimal number of features is achieved, as determined by cross-validation. RFECV is particularly useful for improving model performance, reducing overfitting, and simplifying the model.\n",
    "\n",
    "\n",
    "### Benefits of RFECV\n",
    "* Improved Model Performance: By selecting only the most relevant features, the model can perform better on unseen data.\n",
    "* Reduced Overfitting: Eliminating less important features can help reduce the complexity of the model and prevent overfitting.\n",
    "* Model Interpretability: A smaller set of features makes the model easier to interpret and understand"
   ]
  },
  {
   "cell_type": "markdown",
   "id": "fa11cf5e",
   "metadata": {},
   "source": [
    "##### Here we selected 5 feature we given but we don't know what is the best number of features, for that we use \n",
    "* Recursive Feature Elimination Cross-Validation techniques\n",
    "\n",
    "It will give the cross-validation, it split data into several parts and in each case it will run for an each combination.\n",
    "\n",
    "All posible combinations will be performing cross validation and find the best feature set which gives the minimum cross validation error"
   ]
  },
  {
   "cell_type": "code",
   "execution_count": 25,
   "id": "29f7955c",
   "metadata": {},
   "outputs": [],
   "source": [
    "data = pd.read_csv(\"Boston.csv\")\n",
    "dfx = data.iloc[:,:12]\n",
    "dfy = data.iloc[:,12]\n",
    "model = LinearRegression()"
   ]
  },
  {
   "cell_type": "code",
   "execution_count": 27,
   "id": "115d7cb5",
   "metadata": {},
   "outputs": [],
   "source": [
    "rfecv = RFECV (estimator = model, min_features_to_select = 1, cv = 10)\n",
    " # Don't give features amount but give minimum sholud be slected, and give CV "
   ]
  },
  {
   "cell_type": "code",
   "execution_count": 29,
   "id": "a55dfc7a",
   "metadata": {},
   "outputs": [],
   "source": [
    "rfecv_model = rfecv.fit(dfx, dfy)"
   ]
  },
  {
   "cell_type": "markdown",
   "id": "27d5df3f",
   "metadata": {},
   "source": [
    "### Details of fitted model"
   ]
  },
  {
   "cell_type": "markdown",
   "id": "034d32f3-c856-400e-a083-aeb223fb11b4",
   "metadata": {},
   "source": [
    "rfecv_model.n_features_"
   ]
  },
  {
   "cell_type": "code",
   "execution_count": 30,
   "id": "35873ee3",
   "metadata": {},
   "outputs": [
    {
     "data": {
      "text/plain": [
       "array([False, False, False,  True,  True, False,  True, False, False,\n",
       "        True, False,  True])"
      ]
     },
     "execution_count": 30,
     "metadata": {},
     "output_type": "execute_result"
    }
   ],
   "source": [
    "rfecv_model.support_"
   ]
  },
  {
   "cell_type": "code",
   "execution_count": 31,
   "id": "f5981bab",
   "metadata": {},
   "outputs": [
    {
     "data": {
      "text/plain": [
       "Index(['nox', 'rm', 'dis', 'ptratio', 'lstat'], dtype='object')"
      ]
     },
     "execution_count": 31,
     "metadata": {},
     "output_type": "execute_result"
    }
   ],
   "source": [
    "dfx.columns[rfecv_model.support_]"
   ]
  },
  {
   "cell_type": "code",
   "execution_count": 32,
   "id": "2357de52",
   "metadata": {},
   "outputs": [
    {
     "data": {
      "text/plain": [
       "array([3, 5, 4, 1, 1, 8, 1, 2, 6, 1, 7, 1])"
      ]
     },
     "execution_count": 32,
     "metadata": {},
     "output_type": "execute_result"
    }
   ],
   "source": [
    "rfecv_model.ranking_"
   ]
  },
  {
   "cell_type": "code",
   "execution_count": 34,
   "id": "ba136f7a",
   "metadata": {},
   "outputs": [],
   "source": [
    "selected = dfx.columns[rfecv_model.support_]"
   ]
  },
  {
   "cell_type": "code",
   "execution_count": 35,
   "id": "2a2d5aba",
   "metadata": {},
   "outputs": [
    {
     "data": {
      "text/html": [
       "<div>\n",
       "<style scoped>\n",
       "    .dataframe tbody tr th:only-of-type {\n",
       "        vertical-align: middle;\n",
       "    }\n",
       "\n",
       "    .dataframe tbody tr th {\n",
       "        vertical-align: top;\n",
       "    }\n",
       "\n",
       "    .dataframe thead th {\n",
       "        text-align: right;\n",
       "    }\n",
       "</style>\n",
       "<table border=\"1\" class=\"dataframe\">\n",
       "  <thead>\n",
       "    <tr style=\"text-align: right;\">\n",
       "      <th></th>\n",
       "      <th>nox</th>\n",
       "      <th>rm</th>\n",
       "      <th>dis</th>\n",
       "      <th>ptratio</th>\n",
       "      <th>lstat</th>\n",
       "    </tr>\n",
       "  </thead>\n",
       "  <tbody>\n",
       "    <tr>\n",
       "      <th>0</th>\n",
       "      <td>0.538</td>\n",
       "      <td>6.575</td>\n",
       "      <td>4.0900</td>\n",
       "      <td>15.3</td>\n",
       "      <td>4.98</td>\n",
       "    </tr>\n",
       "    <tr>\n",
       "      <th>1</th>\n",
       "      <td>0.469</td>\n",
       "      <td>6.421</td>\n",
       "      <td>4.9671</td>\n",
       "      <td>17.8</td>\n",
       "      <td>9.14</td>\n",
       "    </tr>\n",
       "    <tr>\n",
       "      <th>2</th>\n",
       "      <td>0.469</td>\n",
       "      <td>7.185</td>\n",
       "      <td>4.9671</td>\n",
       "      <td>17.8</td>\n",
       "      <td>4.03</td>\n",
       "    </tr>\n",
       "    <tr>\n",
       "      <th>3</th>\n",
       "      <td>0.458</td>\n",
       "      <td>6.998</td>\n",
       "      <td>6.0622</td>\n",
       "      <td>18.7</td>\n",
       "      <td>2.94</td>\n",
       "    </tr>\n",
       "    <tr>\n",
       "      <th>4</th>\n",
       "      <td>0.458</td>\n",
       "      <td>7.147</td>\n",
       "      <td>6.0622</td>\n",
       "      <td>18.7</td>\n",
       "      <td>5.33</td>\n",
       "    </tr>\n",
       "    <tr>\n",
       "      <th>...</th>\n",
       "      <td>...</td>\n",
       "      <td>...</td>\n",
       "      <td>...</td>\n",
       "      <td>...</td>\n",
       "      <td>...</td>\n",
       "    </tr>\n",
       "    <tr>\n",
       "      <th>501</th>\n",
       "      <td>0.573</td>\n",
       "      <td>6.593</td>\n",
       "      <td>2.4786</td>\n",
       "      <td>21.0</td>\n",
       "      <td>9.67</td>\n",
       "    </tr>\n",
       "    <tr>\n",
       "      <th>502</th>\n",
       "      <td>0.573</td>\n",
       "      <td>6.120</td>\n",
       "      <td>2.2875</td>\n",
       "      <td>21.0</td>\n",
       "      <td>9.08</td>\n",
       "    </tr>\n",
       "    <tr>\n",
       "      <th>503</th>\n",
       "      <td>0.573</td>\n",
       "      <td>6.976</td>\n",
       "      <td>2.1675</td>\n",
       "      <td>21.0</td>\n",
       "      <td>5.64</td>\n",
       "    </tr>\n",
       "    <tr>\n",
       "      <th>504</th>\n",
       "      <td>0.573</td>\n",
       "      <td>6.794</td>\n",
       "      <td>2.3889</td>\n",
       "      <td>21.0</td>\n",
       "      <td>6.48</td>\n",
       "    </tr>\n",
       "    <tr>\n",
       "      <th>505</th>\n",
       "      <td>0.573</td>\n",
       "      <td>6.030</td>\n",
       "      <td>2.5050</td>\n",
       "      <td>21.0</td>\n",
       "      <td>7.88</td>\n",
       "    </tr>\n",
       "  </tbody>\n",
       "</table>\n",
       "<p>506 rows × 5 columns</p>\n",
       "</div>"
      ],
      "text/plain": [
       "       nox     rm     dis  ptratio  lstat\n",
       "0    0.538  6.575  4.0900     15.3   4.98\n",
       "1    0.469  6.421  4.9671     17.8   9.14\n",
       "2    0.469  7.185  4.9671     17.8   4.03\n",
       "3    0.458  6.998  6.0622     18.7   2.94\n",
       "4    0.458  7.147  6.0622     18.7   5.33\n",
       "..     ...    ...     ...      ...    ...\n",
       "501  0.573  6.593  2.4786     21.0   9.67\n",
       "502  0.573  6.120  2.2875     21.0   9.08\n",
       "503  0.573  6.976  2.1675     21.0   5.64\n",
       "504  0.573  6.794  2.3889     21.0   6.48\n",
       "505  0.573  6.030  2.5050     21.0   7.88\n",
       "\n",
       "[506 rows x 5 columns]"
      ]
     },
     "execution_count": 35,
     "metadata": {},
     "output_type": "execute_result"
    }
   ],
   "source": [
    "dfx[selected]"
   ]
  },
  {
   "cell_type": "markdown",
   "id": "7d81808e",
   "metadata": {},
   "source": [
    "### Now let do prediction"
   ]
  },
  {
   "cell_type": "code",
   "execution_count": 36,
   "id": "1f5c61d3",
   "metadata": {},
   "outputs": [
    {
     "name": "stdout",
     "output_type": "stream",
     "text": [
      "Intercept =  41.34997736169525\n",
      "\n",
      "Coef =  [-18.89689931   3.98424856  -1.08470716  -1.1970072   -0.56289908]\n",
      "\n",
      "R Score value =  0.7471798491799624\n",
      "\n",
      "y predict \n",
      " [27.87223495 23.38001818 27.15874485 12.41107217 23.15282997 19.64298162\n",
      " 19.81601057 20.76736396 19.01094421 23.09697956 14.5113339  18.81051713\n",
      " 16.18935876  4.9670585  40.11212658 32.96959284 22.22717066 37.4418057\n",
      " 31.52524995 23.04166063 25.19736838 26.3860131  20.68419971 29.1233784\n",
      " 22.81659793 11.49563732 17.67527223 19.39197419 37.38255562 21.59490846\n",
      " 17.70688586 16.70285008 20.6972236  23.82301832 29.44610975 15.43352965\n",
      " 11.13638584 21.73093447 19.2705345  14.72685063 27.55291592 21.01313743\n",
      " 25.41931656 14.91054897 26.9191263  26.23071693 21.2370457  21.30561092\n",
      "  8.88232163 24.99257046 21.45776891 16.96075717 24.28752889 31.59466108\n",
      " 14.83057251 21.96095771 21.37967539 18.1685699  21.60270112 19.66439592\n",
      " 19.11891558 21.89424828 33.02125166 31.32531573 17.60096438 33.4979045\n",
      " 17.67721397 20.26544871 20.46527211 22.91795136 24.59174213 25.83666397\n",
      " 29.81783887 28.91624555 26.04020157  4.20968442 37.61472858 24.15062199\n",
      " 28.05620764 19.32287981 28.84893587 19.67691094 18.83900977 38.46183485\n",
      " 40.01478439 24.38454695 25.77510745 18.39200405 27.15692181 15.1398756\n",
      " 15.5340149  14.19497135 24.94769257 31.54361482 22.25708552 20.78435236\n",
      " -1.57246622 25.11169945 16.84667463 16.84264514 25.68504728 22.75440871]\n",
      "\n",
      "Mean Squared Error =  37.843769833652274\n",
      "\n",
      "Root Mean Squared Error =  6.151729011721199\n"
     ]
    }
   ],
   "source": [
    "x = dfx[selected]\n",
    "y = dfy\n",
    "model = LinearRegression()\n",
    "x_train, x_test, y_train, y_test = train_test_split(x, y, test_size=0.2, random_state=0)\n",
    "model.fit(x_train, y_train)\n",
    "y_predict = model.predict(x_test)\n",
    "MSE = mean_squared_error(y_predict, y_test)\n",
    "RMSE = np.sqrt(MSE)\n",
    "print(\"Intercept = \",model.intercept_)\n",
    "print(\"\\nCoef = \",model.coef_)\n",
    "print(\"\\nR Score value = \",model.score(x_train, y_train))\n",
    "print(\"\\ny predict \\n\",y_predict)\n",
    "print(\"\\nMean Squared Error = \",MSE)\n",
    "print(\"\\nRoot Mean Squared Error = \",RMSE)"
   ]
  },
  {
   "cell_type": "code",
   "execution_count": 37,
   "id": "77324604",
   "metadata": {},
   "outputs": [
    {
     "name": "stdout",
     "output_type": "stream",
     "text": [
      "     nox     rm    dis  ptratio  lstat\n",
      "0  0.538  6.575  4.186     15.4   4.53 \n",
      "\n",
      "Predicted \"medv\" value for x1 =  [31.85545194]\n"
     ]
    }
   ],
   "source": [
    "# Create the feature array with feature names\n",
    "x1 = np.array([[0.538, 6.575, 4.186, 15.4, 4.53]])\n",
    "feature_names = ['nox', 'rm', 'dis', 'ptratio', 'lstat']\n",
    "x1_named = pd.DataFrame(x1, columns=feature_names)\n",
    "print(x1_named,\"\\n\")\n",
    "\n",
    "# Perform the prediction\n",
    "x1_predict = model.predict(x1_named)\n",
    "print(\"Predicted \\\"medv\\\" value for x1 = \", x1_predict)"
   ]
  },
  {
   "cell_type": "markdown",
   "id": "2eba16ce",
   "metadata": {},
   "source": [
    "# Full code"
   ]
  },
  {
   "cell_type": "code",
   "execution_count": 39,
   "id": "9b5e95cd",
   "metadata": {},
   "outputs": [
    {
     "name": "stdout",
     "output_type": "stream",
     "text": [
      "Mean Cross-Validation Score:  0.23500888207210227 \n",
      "\n",
      "Supported columns according to RFECV :  Index(['nox', 'rm', 'dis', 'ptratio', 'lstat'], dtype='object')\n",
      "\n",
      "Intercept =  41.34997736169525\n",
      "\n",
      "Coef =  [-18.89689931   3.98424856  -1.08470716  -1.1970072   -0.56289908]\n",
      "\n",
      "R Score value =  0.7471798491799624\n",
      "\n",
      "y predict \n",
      " [27.87223495 23.38001818 27.15874485 12.41107217 23.15282997 19.64298162\n",
      " 19.81601057 20.76736396 19.01094421 23.09697956 14.5113339  18.81051713\n",
      " 16.18935876  4.9670585  40.11212658 32.96959284 22.22717066 37.4418057\n",
      " 31.52524995 23.04166063 25.19736838 26.3860131  20.68419971 29.1233784\n",
      " 22.81659793 11.49563732 17.67527223 19.39197419 37.38255562 21.59490846\n",
      " 17.70688586 16.70285008 20.6972236  23.82301832 29.44610975 15.43352965\n",
      " 11.13638584 21.73093447 19.2705345  14.72685063 27.55291592 21.01313743\n",
      " 25.41931656 14.91054897 26.9191263  26.23071693 21.2370457  21.30561092\n",
      "  8.88232163 24.99257046 21.45776891 16.96075717 24.28752889 31.59466108\n",
      " 14.83057251 21.96095771 21.37967539 18.1685699  21.60270112 19.66439592\n",
      " 19.11891558 21.89424828 33.02125166 31.32531573 17.60096438 33.4979045\n",
      " 17.67721397 20.26544871 20.46527211 22.91795136 24.59174213 25.83666397\n",
      " 29.81783887 28.91624555 26.04020157  4.20968442 37.61472858 24.15062199\n",
      " 28.05620764 19.32287981 28.84893587 19.67691094 18.83900977 38.46183485\n",
      " 40.01478439 24.38454695 25.77510745 18.39200405 27.15692181 15.1398756\n",
      " 15.5340149  14.19497135 24.94769257 31.54361482 22.25708552 20.78435236\n",
      " -1.57246622 25.11169945 16.84667463 16.84264514 25.68504728 22.75440871]\n",
      "\n",
      "Mean Squared Error =  37.843769833652274\n",
      "\n",
      "Root Mean Squared Error =  6.151729011721199\n",
      "\n",
      "Predicted \"medv\" value for x1 =  [31.85545194]\n"
     ]
    }
   ],
   "source": [
    "# Multiple Linear Regression with Recursive Featurre Elimination-Cross Validation with Train Test Split\n",
    "import numpy as np\n",
    "import pandas as pd\n",
    "from sklearn.linear_model import LinearRegression\n",
    "from sklearn.model_selection import train_test_split\n",
    "from sklearn.metrics import mean_squared_error\n",
    "from sklearn.model_selection import cross_val_score\n",
    "from sklearn.feature_selection import RFE\n",
    "from sklearn.feature_selection import RFECV\n",
    "\n",
    "data = pd.read_csv(\"Boston.csv\")\n",
    "dfx = data.iloc[:,:12]\n",
    "dfy = data.iloc[:,12]\n",
    "model = LinearRegression()\n",
    "\n",
    "rfe_new = RFECV(estimator = model, min_features_to_select = 1, cv = 10)\n",
    "elm = rfe_new.fit(dfx, dfy)\n",
    "\n",
    "selected = dfx.columns[elm.support_]\n",
    "dfx[selected]\n",
    "\n",
    "x = dfx[selected]\n",
    "y = dfy\n",
    "model = LinearRegression()\n",
    "x_train, x_test, y_train, y_test = train_test_split(x, y, test_size=0.2, random_state=0)\n",
    "model.fit(x_train, y_train)\n",
    "\n",
    "cv_scores = cross_val_score(model, x, y, cv=10)\n",
    "mean_cv_score = np.mean(cv_scores)\n",
    "print(\"Mean Cross-Validation Score: \", mean_cv_score,\"\\n\")\n",
    "\n",
    "y_predict = model.predict(x_test)\n",
    "MSE = mean_squared_error(y_predict, y_test)\n",
    "RMSE = np.sqrt(MSE)\n",
    "print(\"Supported columns according to RFECV : \",dfx.columns[elm.support_])\n",
    "print(\"\\nIntercept = \",model.intercept_)\n",
    "print(\"\\nCoef = \",model.coef_)\n",
    "print(\"\\nR Score value = \",model.score(x_train, y_train))\n",
    "print(\"\\ny predict \\n\",y_predict)\n",
    "print(\"\\nMean Squared Error = \",MSE)\n",
    "print(\"\\nRoot Mean Squared Error = \",RMSE)\n",
    "\n",
    "x1 = np.array([[0.538, 6.575, 4.186, 15.4, 4.53]])\n",
    "feature_names = ['nox', 'rm', 'dis', 'ptratio', 'lstat']\n",
    "x1_named = pd.DataFrame(x1, columns=feature_names)\n",
    "\n",
    "x1_predict = model.predict(x1_named)\n",
    "print(\"\\nPredicted \\\"medv\\\" value for x1 = \", x1_predict)"
   ]
  },
  {
   "cell_type": "code",
   "execution_count": null,
   "id": "ac6839a6",
   "metadata": {},
   "outputs": [],
   "source": []
  }
 ],
 "metadata": {
  "kernelspec": {
   "display_name": "Python 3 (ipykernel)",
   "language": "python",
   "name": "python3"
  },
  "language_info": {
   "codemirror_mode": {
    "name": "ipython",
    "version": 3
   },
   "file_extension": ".py",
   "mimetype": "text/x-python",
   "name": "python",
   "nbconvert_exporter": "python",
   "pygments_lexer": "ipython3",
   "version": "3.11.7"
  }
 },
 "nbformat": 4,
 "nbformat_minor": 5
}
