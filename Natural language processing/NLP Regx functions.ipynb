{
 "cells": [
  {
   "cell_type": "markdown",
   "id": "2d1aab03",
   "metadata": {},
   "source": [
    "# Regx Functions (Regular Expressions)"
   ]
  },
  {
   "cell_type": "code",
   "execution_count": 2,
   "id": "044dbc73",
   "metadata": {},
   "outputs": [],
   "source": [
    "import re # Library for Regx"
   ]
  },
  {
   "cell_type": "markdown",
   "id": "c451584a",
   "metadata": {},
   "source": [
    "## findall"
   ]
  },
  {
   "cell_type": "code",
   "execution_count": 3,
   "id": "b077a3e2",
   "metadata": {},
   "outputs": [
    {
     "name": "stdout",
     "output_type": "stream",
     "text": [
      "['ai', 'ai']\n"
     ]
    }
   ],
   "source": [
    "txt = \"The rain in spain\"\n",
    "x = re.findall(\"ai\", txt)\n",
    "print(x) # if have, will print the all words within a list"
   ]
  },
  {
   "cell_type": "code",
   "execution_count": 4,
   "id": "a64676dd",
   "metadata": {},
   "outputs": [
    {
     "name": "stdout",
     "output_type": "stream",
     "text": [
      "[]\n"
     ]
    }
   ],
   "source": [
    "txt = \"The rain in spain\"\n",
    "x = re.findall(\"portugal\", txt)\n",
    "print(x)   # if haven't, will print a empty list"
   ]
  },
  {
   "cell_type": "markdown",
   "id": "af10e6a7",
   "metadata": {},
   "source": [
    "## search"
   ]
  },
  {
   "cell_type": "code",
   "execution_count": 5,
   "id": "7e2d85d4",
   "metadata": {},
   "outputs": [
    {
     "name": "stdout",
     "output_type": "stream",
     "text": [
      "<re.Match object; span=(4, 8), match='rain'>\n",
      "Yes\n"
     ]
    }
   ],
   "source": [
    "txt = \"The rain in spain rain\"\n",
    "x = re.search(\"rain\", txt)\n",
    "\n",
    "print(x)   # Contains more options as well as true false\n",
    "\n",
    "if x:\n",
    "    print(\"Yes\")\n",
    "else:\n",
    "    print(\"No\")"
   ]
  },
  {
   "cell_type": "code",
   "execution_count": 6,
   "id": "e83dc13a",
   "metadata": {},
   "outputs": [
    {
     "data": {
      "text/plain": [
       "4"
      ]
     },
     "execution_count": 6,
     "metadata": {},
     "output_type": "execute_result"
    }
   ],
   "source": [
    "x.start()   # print the starting index of the searching word of first one"
   ]
  },
  {
   "cell_type": "code",
   "execution_count": 7,
   "id": "9dd5fce6",
   "metadata": {},
   "outputs": [
    {
     "data": {
      "text/plain": [
       "8"
      ]
     },
     "execution_count": 7,
     "metadata": {},
     "output_type": "execute_result"
    }
   ],
   "source": [
    "x.end()   # print end index of the searched index first one"
   ]
  },
  {
   "cell_type": "code",
   "execution_count": 8,
   "id": "6cb7538a",
   "metadata": {},
   "outputs": [
    {
     "name": "stdout",
     "output_type": "stream",
     "text": [
      "None\n",
      "No\n"
     ]
    }
   ],
   "source": [
    "txt = \"The rain in spain rain\"\n",
    "x = re.search(\"portugal\", txt)\n",
    "\n",
    "print(x)   # Contains more options as well as true false,if x is not assigned a value obj is nul\n",
    "\n",
    "if x:\n",
    "    print(\"Yes\")\n",
    "else:\n",
    "    print(\"No\")"
   ]
  },
  {
   "cell_type": "markdown",
   "id": "2537638a",
   "metadata": {},
   "source": [
    "## Split"
   ]
  },
  {
   "cell_type": "code",
   "execution_count": 9,
   "id": "1b802532",
   "metadata": {},
   "outputs": [
    {
     "name": "stdout",
     "output_type": "stream",
     "text": [
      "['The', 'rain', 'in', 'spain', 'rain']\n"
     ]
    }
   ],
   "source": [
    "txt = \"The rain in spain rain\"\n",
    "x = re.split(\" \", txt)\n",
    "print(x)   # Split by space and remove it"
   ]
  },
  {
   "cell_type": "code",
   "execution_count": 10,
   "id": "b2f21f51",
   "metadata": {},
   "outputs": [
    {
     "name": "stdout",
     "output_type": "stream",
     "text": [
      "['The r', 'in in sp', 'in r', 'in']\n"
     ]
    }
   ],
   "source": [
    "txt = \"The rain in spain rain\"\n",
    "x = re.split(\"a\", txt)\n",
    "print(x)   # Split by every 'a' and remove it"
   ]
  },
  {
   "cell_type": "code",
   "execution_count": 11,
   "id": "9f0a59a4",
   "metadata": {},
   "outputs": [
    {
     "name": "stdout",
     "output_type": "stream",
     "text": [
      "['The r', 'in in spain rain']\n"
     ]
    }
   ],
   "source": [
    "txt = \"The rain in spain rain\"\n",
    "x = re.split(\"a\", txt, 1)\n",
    "print(x)   # Split by first 'a' only and remove it only"
   ]
  },
  {
   "cell_type": "code",
   "execution_count": 12,
   "id": "be05b54d",
   "metadata": {},
   "outputs": [
    {
     "name": "stdout",
     "output_type": "stream",
     "text": [
      "['The r', 'in in sp', 'in rain']\n"
     ]
    }
   ],
   "source": [
    "txt = \"The rain in spain rain\"\n",
    "x = re.split(\"a\", txt, 2)\n",
    "print(x)   # Split by first 2 'a' and remove them"
   ]
  },
  {
   "cell_type": "code",
   "execution_count": 13,
   "id": "972bb87e",
   "metadata": {},
   "outputs": [
    {
     "name": "stdout",
     "output_type": "stream",
     "text": [
      "The r9in in sp9in r9in\n"
     ]
    }
   ],
   "source": [
    "txt = \"The rain in spain rain\"\n",
    "x = re.sub(\"a\", \"9\", txt)\n",
    "print(x)   # Replace every 'a' by '9'"
   ]
  },
  {
   "cell_type": "code",
   "execution_count": 14,
   "id": "06b8f24b",
   "metadata": {},
   "outputs": [
    {
     "name": "stdout",
     "output_type": "stream",
     "text": [
      "The r9in in spain rain\n"
     ]
    }
   ],
   "source": [
    "txt = \"The rain in spain rain\"\n",
    "x = re.sub(\"a\", \"9\", txt, 1)\n",
    "print(x)   # Replace first 'a' by '9'"
   ]
  },
  {
   "cell_type": "code",
   "execution_count": 15,
   "id": "da0c4608",
   "metadata": {},
   "outputs": [
    {
     "name": "stdout",
     "output_type": "stream",
     "text": [
      "The r9in in sp9in rain\n"
     ]
    }
   ],
   "source": [
    "txt = \"The rain in spain rain\"\n",
    "x = re.sub(\"a\", \"9\", txt, 2)\n",
    "print(x)   # Replace first and second 'a' by '9'"
   ]
  },
  {
   "cell_type": "markdown",
   "id": "7918dafa",
   "metadata": {},
   "source": [
    "# MetaCharacters"
   ]
  },
  {
   "cell_type": "markdown",
   "id": "83253c00",
   "metadata": {},
   "source": [
    "### [ ] ( All characters btween a - m from the begining of the txt to end )"
   ]
  },
  {
   "cell_type": "code",
   "execution_count": 16,
   "id": "8a9aca4a",
   "metadata": {},
   "outputs": [
    {
     "name": "stdout",
     "output_type": "stream",
     "text": [
      "['h', 'e', 'a', 'i', 'i', 'a', 'i', 'a', 'i']\n"
     ]
    }
   ],
   "source": [
    "txt = \"The rain in spain rain\"\n",
    "\n",
    "# Find every lower case characters alphabetically between 'a' and 'm'\n",
    "\n",
    "x = re.findall(\"[a-m]\", txt)\n",
    "print(x)"
   ]
  },
  {
   "cell_type": "markdown",
   "id": "cabfe1df",
   "metadata": {},
   "source": [
    "### ' \\ ' , (D, f, n, r, s, S, t,v, w) find some special characters"
   ]
  },
  {
   "cell_type": "code",
   "execution_count": 17,
   "id": "4930756f",
   "metadata": {},
   "outputs": [
    {
     "name": "stdout",
     "output_type": "stream",
     "text": [
      "['5', '9']\n"
     ]
    }
   ],
   "source": [
    "txt = \"This will be 59 dollors\"\n",
    "\n",
    "# Find every digits available in txt with 'd'\n",
    "\n",
    "x = re.findall(\"\\d\", txt)\n",
    "print(x)"
   ]
  },
  {
   "cell_type": "code",
   "execution_count": 18,
   "id": "dc1c6957",
   "metadata": {},
   "outputs": [
    {
     "name": "stdout",
     "output_type": "stream",
     "text": [
      "[' ', ' ', ' ', ' ']\n"
     ]
    }
   ],
   "source": [
    "txt = \"This will be 59 dollors\"\n",
    "\n",
    "# Find every spaces available in txt with 's'\n",
    "\n",
    "x = re.findall(\"\\s\", txt)\n",
    "print(x)"
   ]
  },
  {
   "cell_type": "markdown",
   "id": "4bfed1ab",
   "metadata": {},
   "source": [
    "### X X . . X ( start with XX and other two characers end with X )"
   ]
  },
  {
   "cell_type": "code",
   "execution_count": 35,
   "id": "d155244e",
   "metadata": {},
   "outputs": [
    {
     "name": "stdout",
     "output_type": "stream",
     "text": [
      "['hello', 'hekko']\n"
     ]
    }
   ],
   "source": [
    "txt = \"hello planet phekkow\"\n",
    "\n",
    "# search for a sequeance that starts with  \"he\", followed by two (any) chcaracters and an \"o\"\n",
    "\n",
    "x = re.findall(\"he..o\", txt) # Start with 'he' more teo characters(. . ) and end with 'o'\n",
    "# eg : h...o\n",
    "\n",
    "print(x)"
   ]
  },
  {
   "cell_type": "markdown",
   "id": "c7ec2a21",
   "metadata": {},
   "source": [
    "### ' ^ ' Start with"
   ]
  },
  {
   "cell_type": "code",
   "execution_count": 36,
   "id": "2b975fc0",
   "metadata": {},
   "outputs": [
    {
     "name": "stdout",
     "output_type": "stream",
     "text": [
      "['hello']\n",
      "yes\n"
     ]
    }
   ],
   "source": [
    "txt = \"hello planet\"\n",
    "\n",
    "# Check if the starting start with 'hello'\n",
    "\n",
    "x = re.findall(\"^hello\", txt) # for 'he' ---> yes\n",
    "\n",
    "print(x)\n",
    "\n",
    "if x:\n",
    "    print(\"yes\")\n",
    "else:\n",
    "    print(\"no\")"
   ]
  },
  {
   "cell_type": "code",
   "execution_count": 37,
   "id": "549b006e",
   "metadata": {},
   "outputs": [
    {
     "name": "stdout",
     "output_type": "stream",
     "text": [
      "[]\n",
      "no\n"
     ]
    }
   ],
   "source": [
    "txt = \"hello planet\"\n",
    "\n",
    "# Check if the string (txt) start with \"planet\"\n",
    "\n",
    "x = re.findall(\"^planet\", txt)\n",
    "\n",
    "print(x)\n",
    "\n",
    "if x:\n",
    "    print(\"yes\")\n",
    "else:\n",
    "    print(\"no\")"
   ]
  },
  {
   "cell_type": "markdown",
   "id": "005e8e86",
   "metadata": {},
   "source": [
    "###  ' $ ' ends with"
   ]
  },
  {
   "cell_type": "code",
   "execution_count": 38,
   "id": "9d74b1d5",
   "metadata": {},
   "outputs": [
    {
     "name": "stdout",
     "output_type": "stream",
     "text": [
      "['planet']\n",
      "yes\n"
     ]
    }
   ],
   "source": [
    "txt = \"hello planet\"\n",
    "\n",
    "# Check if the string (txt) ends with \"planet\"\n",
    "\n",
    "x = re.findall(\"planet$\", txt)\n",
    "\n",
    "print(x)\n",
    "\n",
    "if x:\n",
    "    print(\"yes\")\n",
    "else:\n",
    "    print(\"no\")"
   ]
  },
  {
   "cell_type": "code",
   "execution_count": 40,
   "id": "9420dc6d",
   "metadata": {},
   "outputs": [
    {
     "name": "stdout",
     "output_type": "stream",
     "text": [
      "[]\n",
      "no\n"
     ]
    }
   ],
   "source": [
    "txt = \"hello planet\"\n",
    "\n",
    "# Check if the string (txt) ends with \"hello\"\n",
    "\n",
    "x = re.findall(\"hello$\", txt)\n",
    "\n",
    "print(x)\n",
    "\n",
    "if x:\n",
    "    print(\"yes\")\n",
    "else:\n",
    "    print(\"no\")"
   ]
  },
  {
   "cell_type": "markdown",
   "id": "4a46a6ab",
   "metadata": {},
   "source": [
    "### X X . * Y ( after XX Any and any number of characters )"
   ]
  },
  {
   "cell_type": "code",
   "execution_count": 49,
   "id": "b4f1173e",
   "metadata": {},
   "outputs": [
    {
     "name": "stdout",
     "output_type": "stream",
     "text": [
      "['hello']\n"
     ]
    }
   ],
   "source": [
    "txt = \"hello planet\"\n",
    "\n",
    "x = re.findall(\"he.*o\", txt)\n",
    "\n",
    "print(x)"
   ]
  },
  {
   "cell_type": "code",
   "execution_count": 53,
   "id": "350d92b8",
   "metadata": {},
   "outputs": [
    {
     "name": "stdout",
     "output_type": "stream",
     "text": [
      "['hello planet hekkkooowww heo']\n"
     ]
    }
   ],
   "source": [
    "txt = \"hello planet hekkkooowww heo\" # this will think as first two from first word 'he' and all others and last 'o'\n",
    "\n",
    "x = re.findall(\"he.*o\", txt)\n",
    "\n",
    "print(x)"
   ]
  },
  {
   "cell_type": "markdown",
   "id": "f5642952",
   "metadata": {},
   "source": [
    "### X X Y * Z   ( Accept only XXYYYYYYYYY...ZZZ ---> XXYYY...Z ) "
   ]
  },
  {
   "cell_type": "code",
   "execution_count": 64,
   "id": "e02e8ee2",
   "metadata": {},
   "outputs": [
    {
     "name": "stdout",
     "output_type": "stream",
     "text": [
      "['helllllo']\n"
     ]
    }
   ],
   "source": [
    "txt = \"helllllooo planet\" # this will check word 'he' and all others 'k' and last 'o'\n",
    "\n",
    "x = re.findall(\"hel*o\", txt)\n",
    "\n",
    "print(x)"
   ]
  },
  {
   "cell_type": "code",
   "execution_count": null,
   "id": "4ff1fb4b",
   "metadata": {},
   "outputs": [],
   "source": [
    "X X . + Y "
   ]
  },
  {
   "cell_type": "code",
   "execution_count": 69,
   "id": "6c320f52",
   "metadata": {},
   "outputs": [
    {
     "name": "stdout",
     "output_type": "stream",
     "text": [
      "['hello']\n"
     ]
    }
   ],
   "source": [
    "txt = \"hello planet\" # this will check word 'he' and any others character after he (at least one) and last 'o'\n",
    "\n",
    "# Search for a sequence that start with 'he' followed by 1 or more (any) characters , and end 'o'\n",
    "\n",
    "x = re.findall(\"he.+o\", txt)\n",
    "\n",
    "print(x)"
   ]
  },
  {
   "cell_type": "code",
   "execution_count": 68,
   "id": "c0cec8c4",
   "metadata": {},
   "outputs": [
    {
     "name": "stdout",
     "output_type": "stream",
     "text": [
      "[]\n"
     ]
    }
   ],
   "source": [
    "txt = \"heo planet\" # this will check word 'he' and all others 'k' and last 'o'\n",
    "\n",
    "# Search for a sequence that start with 'he' followed by 1 or more (any) characters , and end 'o'\n",
    "\n",
    "x = re.findall(\"he.+o\", txt)\n",
    "\n",
    "print(x)"
   ]
  },
  {
   "cell_type": "markdown",
   "id": "110fa6c8",
   "metadata": {},
   "source": [
    "### X X . ? Y ( after X zero or one character only )"
   ]
  },
  {
   "cell_type": "code",
   "execution_count": 71,
   "id": "3d426823",
   "metadata": {},
   "outputs": [
    {
     "name": "stdout",
     "output_type": "stream",
     "text": [
      "['hello']\n"
     ]
    }
   ],
   "source": [
    "txt = \"hello planet\" # this will check word 'h' and zero or one character and last 'llo'\n",
    "\n",
    "# Search for a sequence that start with 'h' followed by 0 or 1 (any) characters , and end 'llo'\n",
    "\n",
    "x = re.findall(\"h.?llo\", txt)\n",
    "\n",
    "print(x)"
   ]
  },
  {
   "cell_type": "code",
   "execution_count": 75,
   "id": "8a090b1b",
   "metadata": {},
   "outputs": [
    {
     "name": "stdout",
     "output_type": "stream",
     "text": [
      "[]\n"
     ]
    }
   ],
   "source": [
    "txt = \"heo planet\" # this will check word 'he' and 0 or 1 character and last 'o'\n",
    "\n",
    "# Search for a sequence that start with 'h' followed by 0 or 1 (any) characters , and end 'llo'\n",
    "\n",
    "x = re.findall(\"he.?o\", txt) # we have two 'll', helo is ok and heo\n",
    "\n",
    "print(x)"
   ]
  },
  {
   "cell_type": "markdown",
   "id": "92dc4c3a",
   "metadata": {},
   "source": [
    "### { } ( Exactly thespecified number of occurences )"
   ]
  },
  {
   "cell_type": "code",
   "execution_count": 76,
   "id": "e7f193dc",
   "metadata": {},
   "outputs": [
    {
     "name": "stdout",
     "output_type": "stream",
     "text": [
      "['hello']\n"
     ]
    }
   ],
   "source": [
    "txt = \"hello planet\" # this will check word 'he' and specified no of characters and last 'o'\n",
    "\n",
    "# Search for a sequence that start with 'he' followed by exactly 2 (any) characters , and end 'o'\n",
    "\n",
    "x = re.findall(\"he.{2}o\", txt)\n",
    "\n",
    "print(x)"
   ]
  },
  {
   "cell_type": "code",
   "execution_count": 83,
   "id": "9adf68a9",
   "metadata": {},
   "outputs": [
    {
     "name": "stdout",
     "output_type": "stream",
     "text": [
      "[]\n"
     ]
    }
   ],
   "source": [
    "txt = \"helllo planet\" # this will check word 'he' and specified no of characters and last 'o'\n",
    "\n",
    "# Search for a sequence that start with 'he' followed by exactly 2 (any) characters , and end 'o'\n",
    "\n",
    "x = re.findall(\"he.{2}o\", txt)\n",
    "\n",
    "print(x)"
   ]
  },
  {
   "cell_type": "markdown",
   "id": "326faf20",
   "metadata": {},
   "source": [
    "### ' | ' ( OR either or not)"
   ]
  },
  {
   "cell_type": "code",
   "execution_count": 82,
   "id": "0dc3986b",
   "metadata": {},
   "outputs": [
    {
     "name": "stdout",
     "output_type": "stream",
     "text": [
      "['falls']\n",
      "yes\n"
     ]
    }
   ],
   "source": [
    "txt = \"the rain in spain falls mainly in the plain!\"\n",
    "\n",
    "# Check if the string contains either 'falls' or 'stays'\n",
    "\n",
    "x = re.findall(\"falls|stays\", txt)\n",
    "\n",
    "print(x)\n",
    "\n",
    "if x:\n",
    "    print(\"yes\")\n",
    "else:\n",
    "    print(\"no\")"
   ]
  },
  {
   "cell_type": "markdown",
   "id": "994ddbbf",
   "metadata": {},
   "source": [
    "# Special Sequences\n",
    "All outputs are called as match outputs"
   ]
  },
  {
   "cell_type": "markdown",
   "id": "b40e5c3d",
   "metadata": {},
   "source": [
    "### \\A   ( Check at begining )"
   ]
  },
  {
   "cell_type": "code",
   "execution_count": 99,
   "id": "a8b68eab",
   "metadata": {},
   "outputs": [
    {
     "name": "stdout",
     "output_type": "stream",
     "text": [
      "['The']\n",
      "Yes\n"
     ]
    }
   ],
   "source": [
    "txt = \"The rain in spain\"\n",
    "\n",
    "# Check if the string starts with \"The\"\n",
    "\n",
    "x = re.findall(\"\\AThe\", txt)\n",
    "\n",
    "print(x)\n",
    "\n",
    "if x :\n",
    "    print(\"Yes\")\n",
    "else :\n",
    "    print(\"No\")"
   ]
  },
  {
   "cell_type": "markdown",
   "id": "c3e72d87",
   "metadata": {},
   "source": [
    "### \\b   ( Check at start or end in a word of txt )"
   ]
  },
  {
   "cell_type": "code",
   "execution_count": 98,
   "id": "9496ad8a",
   "metadata": {},
   "outputs": [
    {
     "name": "stdout",
     "output_type": "stream",
     "text": [
      "['rai']\n",
      "Yes\n"
     ]
    }
   ],
   "source": [
    "txt = \"The rain in spain\"\n",
    "\n",
    "# Check if 'ain' is present at the begining of a word\n",
    "\n",
    "x = re.findall(r\"\\brai\", txt)\n",
    "\n",
    "print(x)\n",
    "\n",
    "if x :\n",
    "    print(\"Yes\")\n",
    "else :\n",
    "    print(\"No\")\n",
    "    \n",
    "# r\"\" indicates a raw string, which tells Python not to handle backslashes (\\) as escape characters. \n",
    "# In regular expressions, backslashes are common, and using raw strings (r\"\") makes writing regular \n",
    "# expressions more readable and less error-prone."
   ]
  },
  {
   "cell_type": "code",
   "execution_count": 103,
   "id": "93b93ab1",
   "metadata": {},
   "outputs": [
    {
     "name": "stdout",
     "output_type": "stream",
     "text": [
      "['ain', 'ain']\n",
      "Yes\n"
     ]
    }
   ],
   "source": [
    "txt = \"The rain in spain\"\n",
    "\n",
    "# Check if 'ain' is present at the end of a word\n",
    "\n",
    "x = re.findall(r\"ain\\b\", txt)\n",
    "\n",
    "print(x)\n",
    "\n",
    "if x :\n",
    "    print(\"Yes\")\n",
    "else :\n",
    "    print(\"No\")"
   ]
  },
  {
   "cell_type": "markdown",
   "id": "ff4cda4e",
   "metadata": {},
   "source": [
    "### \\B"
   ]
  },
  {
   "cell_type": "code",
   "execution_count": 118,
   "id": "254c1fbc",
   "metadata": {},
   "outputs": [
    {
     "name": "stdout",
     "output_type": "stream",
     "text": [
      "['ain', 'ain']\n",
      "Yes\n"
     ]
    }
   ],
   "source": [
    "txt = \"The rain in spain\"\n",
    "\n",
    "# Check if 'ain' is present, but not at the begining of a word\n",
    "\n",
    "x = re.findall(r\"\\Bain\", txt)\n",
    "\n",
    "print(x)\n",
    "\n",
    "# The pattern ain is matched only when it does not appear at the beginning of a word.\n",
    "# Word ekk mulata nethi nisa namuth wenth akarawalin ethi nisa match krai\n",
    "\n",
    "if x :\n",
    "    print(\"Yes\")\n",
    "else :\n",
    "    print(\"No\")"
   ]
  },
  {
   "cell_type": "code",
   "execution_count": 119,
   "id": "7ea8980c",
   "metadata": {},
   "outputs": [
    {
     "name": "stdout",
     "output_type": "stream",
     "text": [
      "[]\n",
      "No\n"
     ]
    }
   ],
   "source": [
    "txt = \"The rain in spain\"\n",
    "\n",
    "# Check if 'ain' is present, but not at the end of a word\n",
    "\n",
    "x = re.findall(r\"ain\\B\", txt)\n",
    "\n",
    "print(x)\n",
    "\n",
    "# The pattern ain is matched only when it does not appear at the end of a word\n",
    "# Aga ethi nisa match nokarai(print no)\n",
    "\n",
    "if x :\n",
    "    print(\"Yes\") # Not at the begining\n",
    "else :\n",
    "    print(\"No\")"
   ]
  },
  {
   "cell_type": "markdown",
   "id": "a7f7bee6",
   "metadata": {},
   "source": [
    "### \\d"
   ]
  },
  {
   "cell_type": "code",
   "execution_count": 130,
   "id": "2600cd4f",
   "metadata": {},
   "outputs": [
    {
     "name": "stdout",
     "output_type": "stream",
     "text": [
      "['3', '0']\n",
      "Yes\n"
     ]
    }
   ],
   "source": [
    "txt = \"The rain in spain 30$\"\n",
    "\n",
    "# Check the string contains any digit\n",
    "\n",
    "x = re.findall(\"\\d\", txt)\n",
    "\n",
    "# This will print a list of all non-digit characters found in the string.\n",
    "\n",
    "print(x)\n",
    "\n",
    "if x :\n",
    "    print(\"Yes\")\n",
    "else :\n",
    "    print(\"No\")"
   ]
  },
  {
   "cell_type": "markdown",
   "id": "35a6cfc6",
   "metadata": {},
   "source": [
    "### \\D"
   ]
  },
  {
   "cell_type": "code",
   "execution_count": 131,
   "id": "d78a147d",
   "metadata": {
    "scrolled": true
   },
   "outputs": [
    {
     "name": "stdout",
     "output_type": "stream",
     "text": [
      "['T', 'h', 'e', ' ', 'r', 'a', 'i', 'n', ' ', 'i', 'n', ' ', 's', 'p', 'a', 'i', 'n', ' ', '$']\n",
      "Yes\n"
     ]
    }
   ],
   "source": [
    "txt = \"The rain in spain 30$\"\n",
    "\n",
    "# Return a match at every no-digit character\n",
    "\n",
    "x = re.findall(\"\\D\", txt)\n",
    "\n",
    "# This will print a list of all non-digit characters found in the string.\n",
    "\n",
    "print(x)\n",
    "\n",
    "if x :\n",
    "    print(\"Yes\")\n",
    "else :\n",
    "    print(\"No\")"
   ]
  },
  {
   "cell_type": "markdown",
   "id": "0720e499",
   "metadata": {},
   "source": [
    "### \\s"
   ]
  },
  {
   "cell_type": "code",
   "execution_count": 120,
   "id": "e969c7f7",
   "metadata": {},
   "outputs": [
    {
     "name": "stdout",
     "output_type": "stream",
     "text": [
      "[' ', ' ', ' ', ' ']\n",
      "Yes\n"
     ]
    }
   ],
   "source": [
    "txt = \"The rain in spain 30$\"\n",
    "\n",
    "# Return a match at every white space character\n",
    "\n",
    "x = re.findall(\"\\s\", txt)\n",
    "\n",
    "# Match every is a whitespace.\n",
    "\n",
    "print(x)\n",
    "\n",
    "if x :\n",
    "    print(\"Yes\") # there spaces\n",
    "else :\n",
    "    print(\"No\")"
   ]
  },
  {
   "cell_type": "markdown",
   "id": "db048a4b",
   "metadata": {},
   "source": [
    "### \\S"
   ]
  },
  {
   "cell_type": "code",
   "execution_count": 116,
   "id": "a9da612b",
   "metadata": {},
   "outputs": [
    {
     "name": "stdout",
     "output_type": "stream",
     "text": [
      "['T', 'h', 'e', 'r', 'a', 'i', 'n', 'i', 'n', 's', 'p', 'a', 'i', 'n', '3', '0', '$']\n",
      "Yes\n"
     ]
    }
   ],
   "source": [
    "txt = \"The rain in spain 30$\"\n",
    "\n",
    "# Return a match at every Non white space character\n",
    "\n",
    "x = re.findall(\"\\S\", txt)\n",
    "\n",
    "# Match every character that is not a whitespace.\n",
    "\n",
    "print(x)\n",
    "\n",
    "if x :\n",
    "    print(\"Yes\") # there other characters except spaces\n",
    "else :\n",
    "    print(\"No\")"
   ]
  },
  {
   "cell_type": "markdown",
   "id": "1dc483f0",
   "metadata": {},
   "source": [
    "### \\w"
   ]
  },
  {
   "cell_type": "code",
   "execution_count": 125,
   "id": "748c3a17",
   "metadata": {},
   "outputs": [
    {
     "name": "stdout",
     "output_type": "stream",
     "text": [
      "['T', 'h', 'e', 'r', 'a', 'i', 'n', 'i', 'n', 's', 'p', 'a', 'i', 'n', '_', '3', '0']\n",
      "Yes\n"
     ]
    }
   ],
   "source": [
    "txt = \"The rain in spain _30$\"\n",
    "\n",
    "# Return a match at every word character (a-z, 1-9, _ underscore )\n",
    "\n",
    "x = re.findall(\"\\w\", txt)\n",
    "\n",
    "print(x)\n",
    "\n",
    "if x :\n",
    "    print(\"Yes\") # there other characters except spaces\n",
    "else :\n",
    "    print(\"No\")"
   ]
  },
  {
   "cell_type": "markdown",
   "id": "f76e1f8f",
   "metadata": {},
   "source": [
    "### \\W"
   ]
  },
  {
   "cell_type": "code",
   "execution_count": 129,
   "id": "e680127b",
   "metadata": {},
   "outputs": [
    {
     "name": "stdout",
     "output_type": "stream",
     "text": [
      "[' ', ' ', ' ', ' ', '$', '!', '?']\n",
      "Yes\n"
     ]
    }
   ],
   "source": [
    "txt = \"The rain in spain _30$!?\"\n",
    "\n",
    "# Return a match at every Non word character (not btween a-z, 1-9, _ underscore but !, ?, spaces etc.)\n",
    "\n",
    "x = re.findall(\"\\W\", txt)\n",
    "\n",
    "print(x)\n",
    "\n",
    "if x :\n",
    "    print(\"Yes\") # there other characters a-z, 1-9, -\n",
    "else :\n",
    "    print(\"No\")"
   ]
  },
  {
   "cell_type": "markdown",
   "id": "2ae92c86",
   "metadata": {},
   "source": [
    "### \\Z"
   ]
  },
  {
   "cell_type": "code",
   "execution_count": 141,
   "id": "1f313276",
   "metadata": {},
   "outputs": [
    {
     "name": "stdout",
     "output_type": "stream",
     "text": [
      "['spain']\n",
      "Yes\n"
     ]
    }
   ],
   "source": [
    "txt = \"The rain in spain\"\n",
    "\n",
    "# Check if the string(txt) ends with \"spain\"\n",
    "\n",
    "x = re.findall(\"spain\\Z\", txt)\n",
    "\n",
    "print(x)\n",
    "\n",
    "if x :\n",
    "    print(\"Yes\")\n",
    "else :\n",
    "    print(\"No\")"
   ]
  },
  {
   "cell_type": "markdown",
   "id": "9ac68c77",
   "metadata": {},
   "source": [
    "# Sets"
   ]
  },
  {
   "cell_type": "markdown",
   "id": "21d1858d",
   "metadata": {},
   "source": [
    "### [ xyz ] (check x or y or z are there)"
   ]
  },
  {
   "cell_type": "code",
   "execution_count": 143,
   "id": "8d76c3cf",
   "metadata": {},
   "outputs": [
    {
     "name": "stdout",
     "output_type": "stream",
     "text": [
      "['r', 'a', 'n', 'n', 'a', 'n']\n",
      "Yes\n"
     ]
    }
   ],
   "source": [
    "txt = \"The rain in spain\"\n",
    "\n",
    "# Check if the string has any a, r, or n characters at least one\n",
    "\n",
    "x = re.findall(\"[arn]\", txt)\n",
    "\n",
    "print(x)\n",
    "\n",
    "if x :\n",
    "    print(\"Yes\")\n",
    "else :\n",
    "    print(\"No\")"
   ]
  },
  {
   "cell_type": "markdown",
   "id": "a8c947b5",
   "metadata": {},
   "source": [
    "### [x-y] (from x - y)"
   ]
  },
  {
   "cell_type": "code",
   "execution_count": 144,
   "id": "3125d609",
   "metadata": {},
   "outputs": [
    {
     "name": "stdout",
     "output_type": "stream",
     "text": [
      "['h', 'e', 'a', 'i', 'n', 'i', 'n', 'a', 'i', 'n']\n",
      "Yes\n"
     ]
    }
   ],
   "source": [
    "txt = \"The rain in spain\"\n",
    "\n",
    "# Check if the string has any characters a-n at least one\n",
    "\n",
    "x = re.findall(\"[a-n]\", txt)\n",
    "\n",
    "print(x)\n",
    "\n",
    "if x :\n",
    "    print(\"Yes\")\n",
    "else :\n",
    "    print(\"No\")"
   ]
  },
  {
   "cell_type": "markdown",
   "id": "175243a9",
   "metadata": {},
   "source": [
    "### [^XYZ]   ( Without x & y & z )"
   ]
  },
  {
   "cell_type": "code",
   "execution_count": 148,
   "id": "c80dc125",
   "metadata": {},
   "outputs": [
    {
     "name": "stdout",
     "output_type": "stream",
     "text": [
      "['T', 'h', 'e', ' ', 'i', ' ', 'i', ' ', 's', 'p', 'i']\n",
      "Yes\n"
     ]
    }
   ],
   "source": [
    "txt = \"The rain in spain\"\n",
    "\n",
    "# Check if the string has other characters than a, r, n\n",
    "\n",
    "x = re.findall(\"[^arn]\", txt)   # Me thuna hera wena ewa tynwd\n",
    "\n",
    "print(x)\n",
    "\n",
    "if x :\n",
    "    print(\"Yes\")\n",
    "else :\n",
    "    print(\"No\")"
   ]
  },
  {
   "cell_type": "markdown",
   "id": "07246ea3",
   "metadata": {},
   "source": [
    "### [1-9]"
   ]
  },
  {
   "cell_type": "code",
   "execution_count": 152,
   "id": "89157c0e",
   "metadata": {},
   "outputs": [
    {
     "name": "stdout",
     "output_type": "stream",
     "text": [
      "['1', '1', '4', '5']\n",
      "Yes\n"
     ]
    }
   ],
   "source": [
    "txt = \"The rain in spain at 11:45 AM\"\n",
    "\n",
    "# Check if the string has any digits\n",
    "\n",
    "x = re.findall(\"[0-9]\", txt)\n",
    "\n",
    "print(x)\n",
    "\n",
    "if x :\n",
    "    print(\"Yes\")\n",
    "else :\n",
    "    print(\"No\")"
   ]
  },
  {
   "cell_type": "markdown",
   "id": "3ab1e929",
   "metadata": {},
   "source": [
    "### [o0-9][0-9]   ( 00 - 99 )"
   ]
  },
  {
   "cell_type": "code",
   "execution_count": 153,
   "id": "da33666c",
   "metadata": {},
   "outputs": [
    {
     "name": "stdout",
     "output_type": "stream",
     "text": [
      "['11', '45']\n",
      "Yes\n"
     ]
    }
   ],
   "source": [
    "txt = \"The rain in spain at 11:45 AM\"\n",
    "\n",
    "# Check if the string has any two digits number between 10 - 49\n",
    "\n",
    "x = re.findall(\"[1-4][0-9]\", txt)   # 10 - 49\n",
    "\n",
    "print(x)\n",
    "\n",
    "if x :\n",
    "    print(\"Yes\")\n",
    "else :\n",
    "    print(\"No\")"
   ]
  },
  {
   "cell_type": "code",
   "execution_count": 157,
   "id": "eb153d3d",
   "metadata": {},
   "outputs": [
    {
     "name": "stdout",
     "output_type": "stream",
     "text": [
      "['T', 'h', 'e', 'r', 'a', 'i', 'n', 'i', 'n', 's', 'p', 'a', 'i', 'n', 'a', 't', 'A', 'M']\n",
      "Yes\n"
     ]
    }
   ],
   "source": [
    "txt = \"The rain in spain at 11:45 AM\"\n",
    "\n",
    "# Check if the string has any characters from a-z & A-Z\n",
    "\n",
    "x = re.findall(\"[a-zA-Z]\", txt)\n",
    "\n",
    "print(x)\n",
    "  \n",
    "if x :\n",
    "    print(\"Yes\")\n",
    "else :\n",
    "    print(\"No\")"
   ]
  },
  {
   "cell_type": "code",
   "execution_count": 165,
   "id": "f6e6417d",
   "metadata": {},
   "outputs": [
    {
     "name": "stdout",
     "output_type": "stream",
     "text": [
      "['+']\n",
      "Yes\n"
     ]
    }
   ],
   "source": [
    "txt = \"The rain in spain at +11:45 AM\"\n",
    "\n",
    "# Check if the string has + character\n",
    "\n",
    "x = re.findall(\"[+]\", txt)   # 10 - 49\n",
    "\n",
    "print(x)\n",
    "\n",
    "if x :\n",
    "    print(\"Yes\")\n",
    "else :\n",
    "    print(\"No\")"
   ]
  },
  {
   "cell_type": "code",
   "execution_count": 166,
   "id": "7c26a696",
   "metadata": {},
   "outputs": [
    {
     "name": "stdout",
     "output_type": "stream",
     "text": [
      "[':']\n",
      "Yes\n"
     ]
    }
   ],
   "source": [
    "txt = \"The rain in spain at +11:45 AM\"\n",
    "\n",
    "# Check if the string has + character\n",
    "\n",
    "x = re.findall(\"[:]\", txt)   # 10 - 49\n",
    "\n",
    "print(x)\n",
    "\n",
    "if x :\n",
    "    print(\"Yes\")\n",
    "else :\n",
    "    print(\"No\")"
   ]
  },
  {
   "cell_type": "code",
   "execution_count": null,
   "id": "7e121f79",
   "metadata": {},
   "outputs": [],
   "source": []
  }
 ],
 "metadata": {
  "kernelspec": {
   "display_name": "Python 3 (ipykernel)",
   "language": "python",
   "name": "python3"
  },
  "language_info": {
   "codemirror_mode": {
    "name": "ipython",
    "version": 3
   },
   "file_extension": ".py",
   "mimetype": "text/x-python",
   "name": "python",
   "nbconvert_exporter": "python",
   "pygments_lexer": "ipython3",
   "version": "3.9.13"
  }
 },
 "nbformat": 4,
 "nbformat_minor": 5
}
