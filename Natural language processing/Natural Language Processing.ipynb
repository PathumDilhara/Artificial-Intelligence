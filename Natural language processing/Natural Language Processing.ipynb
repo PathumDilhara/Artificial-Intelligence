{
 "cells": [
  {
   "cell_type": "markdown",
   "id": "f2a85873",
   "metadata": {},
   "source": [
    "# Natural Language Processing"
   ]
  },
  {
   "cell_type": "markdown",
   "id": "2af90329",
   "metadata": {},
   "source": [
    "* Focuses on making natural human usable by computer programs.\n",
    "* we use a library called NLTK (Natural Language Toolkit)"
   ]
  },
  {
   "cell_type": "markdown",
   "id": "655c998c",
   "metadata": {},
   "source": [
    "## Tokenizing\n",
    "\n",
    "*  divide text into words or sentences.\n",
    "*  This will enable you to deal with shorter passages of text that, even when read separately from the rest of the text, are still largely cohesive and intelligible.\n",
    "* It's the initial stage in structuring unstructured data so that it may be analyzed more easily.\n",
    "* Whenyou’re analyzing text, you’ll be tokenizing by word and tokenizing by sentence.\n",
    "* Here’s what both types of tokenization bring to the table.\n",
    "    *  Tokenizing by word\n",
    "        * This allows you to identify words that come up particularly often\n",
    "    * Tokenizing by sentence\n",
    "        * When you tokenize by sentence, you can analyze how those words relate to one another and see more context"
   ]
  },
  {
   "cell_type": "code",
   "execution_count": 1,
   "id": "405cc49c",
   "metadata": {},
   "outputs": [
    {
     "name": "stderr",
     "output_type": "stream",
     "text": [
      "WARNING: pip is being invoked by an old script wrapper. This will fail in a future version of pip.\n",
      "Please see https://github.com/pypa/pip/issues/5599 for advice on fixing the underlying issue.\n",
      "To avoid this problem you can invoke Python with '-m pip' instead of running pip directly.\n"
     ]
    },
    {
     "data": {
      "text/html": [
       "<pre style=\"white-space:pre;overflow-x:auto;line-height:normal;font-family:Menlo,'DejaVu Sans Mono',consolas,'Courier New',monospace\">Defaulting to user installation because normal site-packages is not writeable\n",
       "</pre>\n"
      ],
      "text/plain": [
       "Defaulting to user installation because normal site-packages is not writeable\n"
      ]
     },
     "metadata": {},
     "output_type": "display_data"
    },
    {
     "data": {
      "text/html": [
       "<pre style=\"white-space:pre;overflow-x:auto;line-height:normal;font-family:Menlo,'DejaVu Sans Mono',consolas,'Courier New',monospace\">Requirement already satisfied: nltk in c:\\programdata\\anaconda3\\lib\\site-packages (3.7)\n",
       "</pre>\n"
      ],
      "text/plain": [
       "Requirement already satisfied: nltk in c:\\programdata\\anaconda3\\lib\\site-packages (3.7)\n"
      ]
     },
     "metadata": {},
     "output_type": "display_data"
    },
    {
     "data": {
      "text/html": [
       "<pre style=\"white-space:pre;overflow-x:auto;line-height:normal;font-family:Menlo,'DejaVu Sans Mono',consolas,'Courier New',monospace\">Requirement already satisfied: regex&gt;=2021.8.3 in c:\\programdata\\anaconda3\\lib\\site-packages (from nltk) (2022.7.9)\n",
       "</pre>\n"
      ],
      "text/plain": [
       "Requirement already satisfied: regex>=2021.8.3 in c:\\programdata\\anaconda3\\lib\\site-packages (from nltk) (2022.7.9)\n"
      ]
     },
     "metadata": {},
     "output_type": "display_data"
    },
    {
     "data": {
      "text/html": [
       "<pre style=\"white-space:pre;overflow-x:auto;line-height:normal;font-family:Menlo,'DejaVu Sans Mono',consolas,'Courier New',monospace\">Requirement already satisfied: click in c:\\programdata\\anaconda3\\lib\\site-packages (from nltk) (8.0.4)\n",
       "</pre>\n"
      ],
      "text/plain": [
       "Requirement already satisfied: click in c:\\programdata\\anaconda3\\lib\\site-packages (from nltk) (8.0.4)\n"
      ]
     },
     "metadata": {},
     "output_type": "display_data"
    },
    {
     "data": {
      "text/html": [
       "<pre style=\"white-space:pre;overflow-x:auto;line-height:normal;font-family:Menlo,'DejaVu Sans Mono',consolas,'Courier New',monospace\">Requirement already satisfied: joblib in c:\\programdata\\anaconda3\\lib\\site-packages (from nltk) (1.1.0)\n",
       "</pre>\n"
      ],
      "text/plain": [
       "Requirement already satisfied: joblib in c:\\programdata\\anaconda3\\lib\\site-packages (from nltk) (1.1.0)\n"
      ]
     },
     "metadata": {},
     "output_type": "display_data"
    },
    {
     "data": {
      "text/html": [
       "<pre style=\"white-space:pre;overflow-x:auto;line-height:normal;font-family:Menlo,'DejaVu Sans Mono',consolas,'Courier New',monospace\">Requirement already satisfied: tqdm in c:\\programdata\\anaconda3\\lib\\site-packages (from nltk) (4.64.1)\n",
       "</pre>\n"
      ],
      "text/plain": [
       "Requirement already satisfied: tqdm in c:\\programdata\\anaconda3\\lib\\site-packages (from nltk) (4.64.1)\n"
      ]
     },
     "metadata": {},
     "output_type": "display_data"
    },
    {
     "data": {
      "text/html": [
       "<pre style=\"white-space:pre;overflow-x:auto;line-height:normal;font-family:Menlo,'DejaVu Sans Mono',consolas,'Courier New',monospace\">Requirement already satisfied: colorama in c:\\programdata\\anaconda3\\lib\\site-packages (from click-&gt;nltk) (0.4.5)\n",
       "</pre>\n"
      ],
      "text/plain": [
       "Requirement already satisfied: colorama in c:\\programdata\\anaconda3\\lib\\site-packages (from click->nltk) (0.4.5)\n"
      ]
     },
     "metadata": {},
     "output_type": "display_data"
    },
    {
     "data": {
      "text/plain": [
       "0"
      ]
     },
     "execution_count": 1,
     "metadata": {},
     "output_type": "execute_result"
    }
   ],
   "source": [
    "# import pip\n",
    "# pip.main([\"install\", \"nltk\"])"
   ]
  },
  {
   "cell_type": "code",
   "execution_count": 2,
   "id": "565599ed",
   "metadata": {},
   "outputs": [
    {
     "name": "stderr",
     "output_type": "stream",
     "text": [
      "C:\\ProgramData\\Anaconda3\\lib\\site-packages\\scipy\\__init__.py:155: UserWarning: A NumPy version >=1.18.5 and <1.25.0 is required for this version of SciPy (detected version 1.26.4\n",
      "  warnings.warn(f\"A NumPy version >={np_minversion} and <{np_maxversion}\"\n"
     ]
    }
   ],
   "source": [
    "from nltk.tokenize import sent_tokenize, word_tokenize"
   ]
  },
  {
   "cell_type": "code",
   "execution_count": 3,
   "id": "6c4d1a49",
   "metadata": {},
   "outputs": [],
   "source": [
    "sample = \"Muad'Dib learned rapidly because his first training was in how to learn. And the first lesson of all was the basic trust that he could learn. It's shocking to find how many people do not believe they can learn, and how many more belive learning to be difficult.\""
   ]
  },
  {
   "cell_type": "code",
   "execution_count": 4,
   "id": "9eb352a1",
   "metadata": {},
   "outputs": [
    {
     "name": "stdout",
     "output_type": "stream",
     "text": [
      "Muad'Dib learned rapidly because his first training was in how to learn. And the first lesson of all was the basic trust that he could learn. It's shocking to find how many people do not believe they can learn, and how many more belive learning to be difficult.\n"
     ]
    }
   ],
   "source": [
    "print(sample)"
   ]
  },
  {
   "cell_type": "code",
   "execution_count": 5,
   "id": "8bd125a3",
   "metadata": {},
   "outputs": [],
   "source": [
    "# import nltk\n",
    "# nltk.download('punkt')"
   ]
  },
  {
   "cell_type": "code",
   "execution_count": 6,
   "id": "8c83a110",
   "metadata": {},
   "outputs": [
    {
     "data": {
      "text/plain": [
       "[\"Muad'Dib learned rapidly because his first training was in how to learn.\",\n",
       " 'And the first lesson of all was the basic trust that he could learn.',\n",
       " \"It's shocking to find how many people do not believe they can learn, and how many more belive learning to be difficult.\"]"
      ]
     },
     "execution_count": 6,
     "metadata": {},
     "output_type": "execute_result"
    }
   ],
   "source": [
    "sent_tokenize(sample) # divide into sentences, using . and space after it, (.(space))"
   ]
  },
  {
   "cell_type": "code",
   "execution_count": 8,
   "id": "bed927b0",
   "metadata": {},
   "outputs": [
    {
     "name": "stdout",
     "output_type": "stream",
     "text": [
      "[\"Muad'Dib\", 'learned', 'rapidly', 'because', 'his', 'first', 'training', 'was', 'in', 'how', 'to', 'learn', '.', 'And', 'the', 'first', 'lesson', 'of', 'all', 'was', 'the', 'basic', 'trust', 'that', 'he', 'could', 'learn', '.', 'It', \"'s\", 'shocking', 'to', 'find', 'how', 'many', 'people', 'do', 'not', 'believe', 'they', 'can', 'learn', ',', 'and', 'how', 'many', 'more', 'belive', 'learning', 'to', 'be', 'difficult', '.']\n"
     ]
    }
   ],
   "source": [
    "print(word_tokenize(sample))"
   ]
  },
  {
   "cell_type": "markdown",
   "id": "1a31a622",
   "metadata": {},
   "source": [
    "# Stop Words\n",
    "\n",
    "* Unwanted words that can be removed from text(in a sentence or pera)"
   ]
  },
  {
   "cell_type": "code",
   "execution_count": 9,
   "id": "f8555b99",
   "metadata": {
    "scrolled": true
   },
   "outputs": [
    {
     "name": "stderr",
     "output_type": "stream",
     "text": [
      "[nltk_data] Downloading package stopwords to\n",
      "[nltk_data]     C:\\Users\\Lapmart\\AppData\\Roaming\\nltk_data...\n",
      "[nltk_data]   Package stopwords is already up-to-date!\n"
     ]
    },
    {
     "data": {
      "text/plain": [
       "True"
      ]
     },
     "execution_count": 9,
     "metadata": {},
     "output_type": "execute_result"
    }
   ],
   "source": [
    "# import nltk\n",
    "# nltk.download(\"stopwords\")"
   ]
  },
  {
   "cell_type": "code",
   "execution_count": 10,
   "id": "1e3edbc5",
   "metadata": {},
   "outputs": [],
   "source": [
    "from nltk.corpus import stopwords\n",
    "from nltk.tokenize import word_tokenize"
   ]
  },
  {
   "cell_type": "code",
   "execution_count": 11,
   "id": "92cf15e9",
   "metadata": {
    "scrolled": true
   },
   "outputs": [
    {
     "name": "stdout",
     "output_type": "stream",
     "text": [
      "['Sir', ',', 'I', 'protest', '.', 'I', 'am', 'not', 'merry', 'man', '!']\n"
     ]
    }
   ],
   "source": [
    "sample = \"Sir, I protest. I am not merry man!\"\n",
    "words = word_tokenize(sample)\n",
    "print(words)   # Words in the sample"
   ]
  },
  {
   "cell_type": "code",
   "execution_count": 12,
   "id": "22d571d2",
   "metadata": {},
   "outputs": [],
   "source": [
    "stop_words = set(stopwords.words(\"english\")) # Convert into set to remove duplicated if have, ( uniaue set )"
   ]
  },
  {
   "cell_type": "markdown",
   "id": "e928e55c",
   "metadata": {},
   "source": [
    "Stop words we concern"
   ]
  },
  {
   "cell_type": "code",
   "execution_count": 13,
   "id": "4aa80189",
   "metadata": {
    "scrolled": true
   },
   "outputs": [
    {
     "name": "stdout",
     "output_type": "stream",
     "text": [
      "['i', 'me', 'my', 'myself', 'we', 'our', 'ours', 'ourselves', 'you', \"you're\", \"you've\", \"you'll\", \"you'd\", 'your', 'yours', 'yourself', 'yourselves', 'he', 'him', 'his', 'himself', 'she', \"she's\", 'her', 'hers', 'herself', 'it', \"it's\", 'its', 'itself', 'they', 'them', 'their', 'theirs', 'themselves', 'what', 'which', 'who', 'whom', 'this', 'that', \"that'll\", 'these', 'those', 'am', 'is', 'are', 'was', 'were', 'be', 'been', 'being', 'have', 'has', 'had', 'having', 'do', 'does', 'did', 'doing', 'a', 'an', 'the', 'and', 'but', 'if', 'or', 'because', 'as', 'until', 'while', 'of', 'at', 'by', 'for', 'with', 'about', 'against', 'between', 'into', 'through', 'during', 'before', 'after', 'above', 'below', 'to', 'from', 'up', 'down', 'in', 'out', 'on', 'off', 'over', 'under', 'again', 'further', 'then', 'once', 'here', 'there', 'when', 'where', 'why', 'how', 'all', 'any', 'both', 'each', 'few', 'more', 'most', 'other', 'some', 'such', 'no', 'nor', 'not', 'only', 'own', 'same', 'so', 'than', 'too', 'very', 's', 't', 'can', 'will', 'just', 'don', \"don't\", 'should', \"should've\", 'now', 'd', 'll', 'm', 'o', 're', 've', 'y', 'ain', 'aren', \"aren't\", 'couldn', \"couldn't\", 'didn', \"didn't\", 'doesn', \"doesn't\", 'hadn', \"hadn't\", 'hasn', \"hasn't\", 'haven', \"haven't\", 'isn', \"isn't\", 'ma', 'mightn', \"mightn't\", 'mustn', \"mustn't\", 'needn', \"needn't\", 'shan', \"shan't\", 'shouldn', \"shouldn't\", 'wasn', \"wasn't\", 'weren', \"weren't\", 'won', \"won't\", 'wouldn', \"wouldn't\"]\n"
     ]
    }
   ],
   "source": [
    "print(stopwords.words(\"english\")) # Raw stop words list may be coontained duplicates"
   ]
  },
  {
   "cell_type": "code",
   "execution_count": 14,
   "id": "867fff63",
   "metadata": {},
   "outputs": [
    {
     "name": "stdout",
     "output_type": "stream",
     "text": [
      "{'what', 'doesn', 'against', 'yourself', 'off', 'them', 'ourselves', 'other', 'himself', \"she's\", 'did', 'not', 'having', 'yourselves', 'can', 'o', 'this', 'some', 'be', 'i', 're', 'weren', 'will', 'but', 'ain', 'wouldn', \"isn't\", \"you'd\", 'her', 'is', 'we', 'theirs', 'isn', 'during', 'shouldn', 'she', 'through', 'didn', \"shan't\", 'wasn', \"hasn't\", \"you'll\", \"weren't\", 'y', 'while', 'there', 'being', 't', 'which', \"you're\", 'its', 'where', 'above', 'herself', 'ours', 'doing', 'or', 'my', 'to', 'only', 'our', \"won't\", 'by', 'why', 'they', 'too', \"should've\", 'their', 'do', \"you've\", 'had', 'just', 'an', 'further', 've', 'themselves', 'hadn', 'needn', 'whom', 'over', 'couldn', 'the', 'itself', 'of', 'yours', 'were', 'how', \"that'll\", 'very', 'those', 'both', 'mustn', 'was', 'these', 'been', 'mightn', 'his', 'after', 'does', 'few', 'have', 'same', 'as', \"aren't\", 'myself', 's', 'are', 'because', 'below', 'ma', 'on', 'shan', \"don't\", 'hers', 'with', \"mustn't\", 'aren', 'so', \"doesn't\", 'him', 'hasn', 'd', 'has', 'for', 'if', 'most', \"didn't\", 'out', 'from', 'until', 'between', 'you', 'once', 'won', \"haven't\", 'any', 'when', 'don', 'your', 'and', 'before', 'own', 'into', 'll', 'a', 'here', 'about', 'under', 'that', 'up', 'in', 'who', 'more', 'nor', 'me', \"shouldn't\", 'it', \"wasn't\", \"couldn't\", 'no', 'down', 'such', 'should', 'm', 'at', \"hadn't\", 'each', \"needn't\", 'all', 'again', 'now', 'haven', \"mightn't\", 'then', 'he', \"it's\", 'am', 'than', \"wouldn't\"}\n"
     ]
    }
   ],
   "source": [
    " print(stop_words) # now this is a unique set"
   ]
  },
  {
   "cell_type": "code",
   "execution_count": 15,
   "id": "b49823bb",
   "metadata": {},
   "outputs": [],
   "source": [
    "filtered_list = []"
   ]
  },
  {
   "cell_type": "code",
   "execution_count": 16,
   "id": "f290ec48",
   "metadata": {},
   "outputs": [],
   "source": [
    "for word in words:\n",
    "    if word.casefold() not in stop_words:   # casefold() = lower() before checking convert into lowercase\n",
    "        filtered_list.append(word)   # Append only words that is not in  stop_words"
   ]
  },
  {
   "cell_type": "code",
   "execution_count": 17,
   "id": "4a477a94",
   "metadata": {},
   "outputs": [
    {
     "data": {
      "text/plain": [
       "['Sir', ',', 'protest', '.', 'merry', 'man', '!']"
      ]
     },
     "execution_count": 17,
     "metadata": {},
     "output_type": "execute_result"
    }
   ],
   "source": [
    "filtered_list"
   ]
  },
  {
   "cell_type": "markdown",
   "id": "e2e38c2c",
   "metadata": {},
   "source": [
    "# Stemming\n",
    "\n",
    "* Stemming is a text processing task in which you reduce words to their root, which is the core part of a word.\n",
    "* For example, the words “helping” and “helper” share the root “help.”\n",
    "* Stemming allows you to zero in on the basic meaning of a word rather than all the details of how it’s being used.\n",
    "* NLTK has more than one stemmer, but the most popular one is the Porter stemmer.\n",
    "* There are two ways, the stemming can go wrong.\n",
    "    * **Understemming**\n",
    "        * happens when two related words should be reduced to the same stem but aren’t. This is a false negative.\n",
    "    * **Overstemming**\n",
    "        * happens when two unrelated words are reduced to the same stem even though they shouldn’t be. This is a false positive"
   ]
  },
  {
   "cell_type": "code",
   "execution_count": 18,
   "id": "2c771608",
   "metadata": {},
   "outputs": [],
   "source": [
    "from nltk.stem import PorterStemmer, SnowballStemmer"
   ]
  },
  {
   "cell_type": "code",
   "execution_count": 19,
   "id": "ce3f1505",
   "metadata": {},
   "outputs": [],
   "source": [
    "stemmer_porterstemmer = PorterStemmer() # obj"
   ]
  },
  {
   "cell_type": "code",
   "execution_count": 20,
   "id": "f8c41987",
   "metadata": {},
   "outputs": [],
   "source": [
    "sample = \"The crew of the USS Discovery discovered many discoveries. Discovering is what explorers do.\""
   ]
  },
  {
   "cell_type": "code",
   "execution_count": 21,
   "id": "589d22fc",
   "metadata": {},
   "outputs": [
    {
     "name": "stdout",
     "output_type": "stream",
     "text": [
      "['The', 'crew', 'of', 'the', 'USS', 'Discovery', 'discovered', 'many', 'discoveries', '.', 'Discovering', 'is', 'what', 'explorers', 'do', '.']\n"
     ]
    }
   ],
   "source": [
    "words = word_tokenize(sample)\n",
    "print(words)"
   ]
  },
  {
   "cell_type": "code",
   "execution_count": 22,
   "id": "84eb1215",
   "metadata": {},
   "outputs": [
    {
     "name": "stdout",
     "output_type": "stream",
     "text": [
      "['the', 'crew', 'of', 'the', 'uss', 'discoveri', 'discov', 'mani', 'discoveri', '.', 'discov', 'is', 'what', 'explor', 'do', '.']\n"
     ]
    }
   ],
   "source": [
    "stemmed_words1 = [stemmer_porterstemmer.stem(word) for word in words]\n",
    "print(stemmed_words1)   # Understemming arter there but good"
   ]
  },
  {
   "cell_type": "code",
   "execution_count": 23,
   "id": "1d7fae71",
   "metadata": {},
   "outputs": [],
   "source": [
    "stemmer_snowball = SnowballStemmer(\"english\")"
   ]
  },
  {
   "cell_type": "code",
   "execution_count": 24,
   "id": "10814ee3",
   "metadata": {},
   "outputs": [
    {
     "name": "stdout",
     "output_type": "stream",
     "text": [
      "['the', 'crew', 'of', 'the', 'uss', 'discoveri', 'discov', 'mani', 'discoveri', '.', 'discov', 'is', 'what', 'explor', 'do', '.']\n"
     ]
    }
   ],
   "source": [
    "stemmed_words2 = [stemmer_snowball.stem(word) for word in words]\n",
    "print(stemmed_words2)"
   ]
  },
  {
   "cell_type": "markdown",
   "id": "7d14caf8",
   "metadata": {},
   "source": [
    "# POS Tagging\n",
    "\n",
    "* give the correct word by removing 's' so on.\n",
    "* Part Of Speech is a grammatical term that deals with the roles words play when you use them together in sentences.\n",
    "* Tagging Parts Of Speech, or POS tagging, is the task of labeling the words in your text according to their part of speech.\n",
    "* In English, there are eight parts of speech."
   ]
  },
  {
   "cell_type": "code",
   "execution_count": 25,
   "id": "7a79d8db",
   "metadata": {},
   "outputs": [],
   "source": [
    "sample = \"If you wish to make an apple pie from scratch, you must first invent the universe.\""
   ]
  },
  {
   "cell_type": "code",
   "execution_count": 26,
   "id": "989f542c",
   "metadata": {},
   "outputs": [],
   "source": [
    "from nltk import pos_tag"
   ]
  },
  {
   "cell_type": "markdown",
   "id": "55075875",
   "metadata": {},
   "source": [
    "tokenizing"
   ]
  },
  {
   "cell_type": "code",
   "execution_count": 27,
   "id": "2a804142",
   "metadata": {},
   "outputs": [
    {
     "name": "stdout",
     "output_type": "stream",
     "text": [
      "['If', 'you', 'wish', 'to', 'make', 'an', 'apple', 'pie', 'from', 'scratch', ',', 'you', 'must', 'first', 'invent', 'the', 'universe', '.']\n"
     ]
    }
   ],
   "source": [
    "words = word_tokenize(sample)\n",
    "print(words)"
   ]
  },
  {
   "cell_type": "code",
   "execution_count": 30,
   "id": "e874463f",
   "metadata": {},
   "outputs": [],
   "source": [
    "# import nltk\n",
    "# nltk.download('averaged_perceptron_tagger')"
   ]
  },
  {
   "cell_type": "markdown",
   "id": "45f720d5",
   "metadata": {},
   "source": [
    "* each tuple contains a word and its corresponding POS tag."
   ]
  },
  {
   "cell_type": "code",
   "execution_count": 31,
   "id": "85084241",
   "metadata": {
    "scrolled": true
   },
   "outputs": [
    {
     "data": {
      "text/plain": [
       "[('If', 'IN'),\n",
       " ('you', 'PRP'),\n",
       " ('wish', 'VBP'),\n",
       " ('to', 'TO'),\n",
       " ('make', 'VB'),\n",
       " ('an', 'DT'),\n",
       " ('apple', 'NN'),\n",
       " ('pie', 'NN'),\n",
       " ('from', 'IN'),\n",
       " ('scratch', 'NN'),\n",
       " (',', ','),\n",
       " ('you', 'PRP'),\n",
       " ('must', 'MD'),\n",
       " ('first', 'VB'),\n",
       " ('invent', 'VB'),\n",
       " ('the', 'DT'),\n",
       " ('universe', 'NN'),\n",
       " ('.', '.')]"
      ]
     },
     "execution_count": 31,
     "metadata": {},
     "output_type": "execute_result"
    }
   ],
   "source": [
    "pos_tag(words) # 'if' is belongs to IN(preposition or conjunction)"
   ]
  },
  {
   "cell_type": "code",
   "execution_count": 32,
   "id": "851c84a7",
   "metadata": {},
   "outputs": [],
   "source": [
    "# import nltk\n",
    "# nltk.download('tagsets')"
   ]
  },
  {
   "cell_type": "code",
   "execution_count": 33,
   "id": "6540753b",
   "metadata": {
    "scrolled": false
   },
   "outputs": [
    {
     "name": "stdout",
     "output_type": "stream",
     "text": [
      "$: dollar\n",
      "    $ -$ --$ A$ C$ HK$ M$ NZ$ S$ U.S.$ US$\n",
      "'': closing quotation mark\n",
      "    ' ''\n",
      "(: opening parenthesis\n",
      "    ( [ {\n",
      "): closing parenthesis\n",
      "    ) ] }\n",
      ",: comma\n",
      "    ,\n",
      "--: dash\n",
      "    --\n",
      ".: sentence terminator\n",
      "    . ! ?\n",
      ":: colon or ellipsis\n",
      "    : ; ...\n",
      "CC: conjunction, coordinating\n",
      "    & 'n and both but either et for less minus neither nor or plus so\n",
      "    therefore times v. versus vs. whether yet\n",
      "CD: numeral, cardinal\n",
      "    mid-1890 nine-thirty forty-two one-tenth ten million 0.5 one forty-\n",
      "    seven 1987 twenty '79 zero two 78-degrees eighty-four IX '60s .025\n",
      "    fifteen 271,124 dozen quintillion DM2,000 ...\n",
      "DT: determiner\n",
      "    all an another any both del each either every half la many much nary\n",
      "    neither no some such that the them these this those\n",
      "EX: existential there\n",
      "    there\n",
      "FW: foreign word\n",
      "    gemeinschaft hund ich jeux habeas Haementeria Herr K'ang-si vous\n",
      "    lutihaw alai je jour objets salutaris fille quibusdam pas trop Monte\n",
      "    terram fiche oui corporis ...\n",
      "IN: preposition or conjunction, subordinating\n",
      "    astride among uppon whether out inside pro despite on by throughout\n",
      "    below within for towards near behind atop around if like until below\n",
      "    next into if beside ...\n",
      "JJ: adjective or numeral, ordinal\n",
      "    third ill-mannered pre-war regrettable oiled calamitous first separable\n",
      "    ectoplasmic battery-powered participatory fourth still-to-be-named\n",
      "    multilingual multi-disciplinary ...\n",
      "JJR: adjective, comparative\n",
      "    bleaker braver breezier briefer brighter brisker broader bumper busier\n",
      "    calmer cheaper choosier cleaner clearer closer colder commoner costlier\n",
      "    cozier creamier crunchier cuter ...\n",
      "JJS: adjective, superlative\n",
      "    calmest cheapest choicest classiest cleanest clearest closest commonest\n",
      "    corniest costliest crassest creepiest crudest cutest darkest deadliest\n",
      "    dearest deepest densest dinkiest ...\n",
      "LS: list item marker\n",
      "    A A. B B. C C. D E F First G H I J K One SP-44001 SP-44002 SP-44005\n",
      "    SP-44007 Second Third Three Two * a b c d first five four one six three\n",
      "    two\n",
      "MD: modal auxiliary\n",
      "    can cannot could couldn't dare may might must need ought shall should\n",
      "    shouldn't will would\n",
      "NN: noun, common, singular or mass\n",
      "    common-carrier cabbage knuckle-duster Casino afghan shed thermostat\n",
      "    investment slide humour falloff slick wind hyena override subhumanity\n",
      "    machinist ...\n",
      "NNP: noun, proper, singular\n",
      "    Motown Venneboerger Czestochwa Ranzer Conchita Trumplane Christos\n",
      "    Oceanside Escobar Kreisler Sawyer Cougar Yvette Ervin ODI Darryl CTCA\n",
      "    Shannon A.K.C. Meltex Liverpool ...\n",
      "NNPS: noun, proper, plural\n",
      "    Americans Americas Amharas Amityvilles Amusements Anarcho-Syndicalists\n",
      "    Andalusians Andes Andruses Angels Animals Anthony Antilles Antiques\n",
      "    Apache Apaches Apocrypha ...\n",
      "NNS: noun, common, plural\n",
      "    undergraduates scotches bric-a-brac products bodyguards facets coasts\n",
      "    divestitures storehouses designs clubs fragrances averages\n",
      "    subjectivists apprehensions muses factory-jobs ...\n",
      "PDT: pre-determiner\n",
      "    all both half many quite such sure this\n",
      "POS: genitive marker\n",
      "    ' 's\n",
      "PRP: pronoun, personal\n",
      "    hers herself him himself hisself it itself me myself one oneself ours\n",
      "    ourselves ownself self she thee theirs them themselves they thou thy us\n",
      "PRP$: pronoun, possessive\n",
      "    her his mine my our ours their thy your\n",
      "RB: adverb\n",
      "    occasionally unabatingly maddeningly adventurously professedly\n",
      "    stirringly prominently technologically magisterially predominately\n",
      "    swiftly fiscally pitilessly ...\n",
      "RBR: adverb, comparative\n",
      "    further gloomier grander graver greater grimmer harder harsher\n",
      "    healthier heavier higher however larger later leaner lengthier less-\n",
      "    perfectly lesser lonelier longer louder lower more ...\n",
      "RBS: adverb, superlative\n",
      "    best biggest bluntest earliest farthest first furthest hardest\n",
      "    heartiest highest largest least less most nearest second tightest worst\n",
      "RP: particle\n",
      "    aboard about across along apart around aside at away back before behind\n",
      "    by crop down ever fast for forth from go high i.e. in into just later\n",
      "    low more off on open out over per pie raising start teeth that through\n",
      "    under unto up up-pp upon whole with you\n",
      "SYM: symbol\n",
      "    % & ' '' ''. ) ). * + ,. < = > @ A[fj] U.S U.S.S.R * ** ***\n",
      "TO: \"to\" as preposition or infinitive marker\n",
      "    to\n",
      "UH: interjection\n",
      "    Goodbye Goody Gosh Wow Jeepers Jee-sus Hubba Hey Kee-reist Oops amen\n",
      "    huh howdy uh dammit whammo shucks heck anyways whodunnit honey golly\n",
      "    man baby diddle hush sonuvabitch ...\n",
      "VB: verb, base form\n",
      "    ask assemble assess assign assume atone attention avoid bake balkanize\n",
      "    bank begin behold believe bend benefit bevel beware bless boil bomb\n",
      "    boost brace break bring broil brush build ...\n",
      "VBD: verb, past tense\n",
      "    dipped pleaded swiped regummed soaked tidied convened halted registered\n",
      "    cushioned exacted snubbed strode aimed adopted belied figgered\n",
      "    speculated wore appreciated contemplated ...\n",
      "VBG: verb, present participle or gerund\n",
      "    telegraphing stirring focusing angering judging stalling lactating\n",
      "    hankerin' alleging veering capping approaching traveling besieging\n",
      "    encrypting interrupting erasing wincing ...\n",
      "VBN: verb, past participle\n",
      "    multihulled dilapidated aerosolized chaired languished panelized used\n",
      "    experimented flourished imitated reunifed factored condensed sheared\n",
      "    unsettled primed dubbed desired ...\n",
      "VBP: verb, present tense, not 3rd person singular\n",
      "    predominate wrap resort sue twist spill cure lengthen brush terminate\n",
      "    appear tend stray glisten obtain comprise detest tease attract\n",
      "    emphasize mold postpone sever return wag ...\n",
      "VBZ: verb, present tense, 3rd person singular\n",
      "    bases reconstructs marks mixes displeases seals carps weaves snatches\n",
      "    slumps stretches authorizes smolders pictures emerges stockpiles\n",
      "    seduces fizzes uses bolsters slaps speaks pleads ...\n",
      "WDT: WH-determiner\n",
      "    that what whatever which whichever\n",
      "WP: WH-pronoun\n",
      "    that what whatever whatsoever which who whom whosoever\n",
      "WP$: WH-pronoun, possessive\n",
      "    whose\n",
      "WRB: Wh-adverb\n",
      "    how however whence whenever where whereby whereever wherein whereof why\n",
      "``: opening quotation mark\n",
      "    ` ``\n"
     ]
    }
   ],
   "source": [
    "nltk.help.upenn_tagset()"
   ]
  },
  {
   "cell_type": "markdown",
   "id": "a792490e",
   "metadata": {},
   "source": [
    "# Lemmatizing\n",
    "\n",
    "*  Like stemming, lemmatizing reduces words to their core meaning, but it will give you a complete English word that makes sense on its own instead of just a fragment of a word like 'discoveri'.\n"
   ]
  },
  {
   "cell_type": "code",
   "execution_count": 34,
   "id": "705ee8ac",
   "metadata": {},
   "outputs": [],
   "source": [
    "from nltk.stem import WordNetLemmatizer"
   ]
  },
  {
   "cell_type": "code",
   "execution_count": 35,
   "id": "53c68730",
   "metadata": {},
   "outputs": [],
   "source": [
    "lemmatizer = WordNetLemmatizer()"
   ]
  },
  {
   "cell_type": "code",
   "execution_count": 36,
   "id": "9e78bea3",
   "metadata": {},
   "outputs": [],
   "source": [
    "sample = \"The friends of Desoto love scarves.\""
   ]
  },
  {
   "cell_type": "code",
   "execution_count": 37,
   "id": "00bdb6ed",
   "metadata": {},
   "outputs": [
    {
     "name": "stdout",
     "output_type": "stream",
     "text": [
      "['The', 'friends', 'of', 'Desoto', 'love', 'scarves', '.']\n"
     ]
    }
   ],
   "source": [
    "words = word_tokenize(sample)\n",
    "print(words)"
   ]
  },
  {
   "cell_type": "code",
   "execution_count": 38,
   "id": "8820d997",
   "metadata": {},
   "outputs": [
    {
     "name": "stderr",
     "output_type": "stream",
     "text": [
      "[nltk_data] Downloading package wordnet to\n",
      "[nltk_data]     C:\\Users\\Lapmart\\AppData\\Roaming\\nltk_data...\n",
      "[nltk_data]   Package wordnet is already up-to-date!\n"
     ]
    },
    {
     "data": {
      "text/plain": [
       "True"
      ]
     },
     "execution_count": 38,
     "metadata": {},
     "output_type": "execute_result"
    }
   ],
   "source": [
    "# import nltk\n",
    "# nltk.download('wordnet')"
   ]
  },
  {
   "cell_type": "code",
   "execution_count": 39,
   "id": "0d9811ea",
   "metadata": {
    "scrolled": true
   },
   "outputs": [
    {
     "name": "stderr",
     "output_type": "stream",
     "text": [
      "[nltk_data] Downloading package omw-1.4 to\n",
      "[nltk_data]     C:\\Users\\Lapmart\\AppData\\Roaming\\nltk_data...\n",
      "[nltk_data]   Package omw-1.4 is already up-to-date!\n"
     ]
    },
    {
     "data": {
      "text/plain": [
       "True"
      ]
     },
     "execution_count": 39,
     "metadata": {},
     "output_type": "execute_result"
    }
   ],
   "source": [
    "# import nltk\n",
    "# nltk.download('omw-1.4')"
   ]
  },
  {
   "cell_type": "code",
   "execution_count": 40,
   "id": "37af39d7",
   "metadata": {
    "scrolled": true
   },
   "outputs": [
    {
     "name": "stdout",
     "output_type": "stream",
     "text": [
      "['The', 'friend', 'of', 'Desoto', 'love', 'scarf', '.']\n"
     ]
    }
   ],
   "source": [
    "lemmatized_words = [lemmatizer.lemmatize(word) for word in words]\n",
    "print(lemmatized_words)"
   ]
  },
  {
   "cell_type": "markdown",
   "id": "954b8522",
   "metadata": {},
   "source": [
    "# Chunking\n",
    "\n",
    "* While tokenizing allows you to identify words and sentences, chunking allows you to identify phrases.\n",
    "* Chunking makes use of POS tags to group words and apply chunk tags to those groups.\n",
    "* Chunks don’t overlap, so one instance of a word can be in only one chunk at a time."
   ]
  },
  {
   "cell_type": "code",
   "execution_count": 57,
   "id": "f0638344",
   "metadata": {},
   "outputs": [],
   "source": [
    "from nltk.tokenize import word_tokenize\n",
    "from nltk import pos_tag"
   ]
  },
  {
   "cell_type": "code",
   "execution_count": 44,
   "id": "de78b339",
   "metadata": {},
   "outputs": [],
   "source": [
    "sample = \"It's a dangerous business, Frodo, going out your door.\""
   ]
  },
  {
   "cell_type": "code",
   "execution_count": 47,
   "id": "25a9cf3e",
   "metadata": {},
   "outputs": [
    {
     "name": "stdout",
     "output_type": "stream",
     "text": [
      "['It', \"'s\", 'a', 'dangerous', 'business', ',', 'Frodo', ',', 'going', 'out', 'your', 'door', '.']\n"
     ]
    }
   ],
   "source": [
    "words = word_tokenize(sample)\n",
    "print(words)"
   ]
  },
  {
   "cell_type": "code",
   "execution_count": 58,
   "id": "6d882132",
   "metadata": {},
   "outputs": [
    {
     "data": {
      "text/plain": [
       "[('It', 'PRP'),\n",
       " (\"'s\", 'VBZ'),\n",
       " ('a', 'DT'),\n",
       " ('dangerous', 'JJ'),\n",
       " ('business', 'NN'),\n",
       " (',', ','),\n",
       " ('Frodo', 'NNP'),\n",
       " (',', ','),\n",
       " ('going', 'VBG'),\n",
       " ('out', 'RP'),\n",
       " ('your', 'PRP$'),\n",
       " ('door', 'NN'),\n",
       " ('.', '.')]"
      ]
     },
     "execution_count": 58,
     "metadata": {},
     "output_type": "execute_result"
    }
   ],
   "source": [
    "tagpos = pos_tag(words)\n",
    "tagpos"
   ]
  },
  {
   "cell_type": "code",
   "execution_count": 59,
   "id": "be7bc8ff",
   "metadata": {},
   "outputs": [],
   "source": [
    "grammer = \"NP: {<DT>?<JJ>*<NN>}\" # Check meaning of DT, JJ, NN, ... using ---> nltk.help.upenn_tagset()\n",
    "# NP stands for noun phrase\n",
    "# Start with an optional (?) determiner('DT'), DT 0 or 1 occurrence\n",
    "# Can have any number (*) of adjectives (JJ), JJ 0 or more occurrence\n",
    "# End with a noun ('NN'), must occur at least one"
   ]
  },
  {
   "cell_type": "code",
   "execution_count": 53,
   "id": "6dc40aee",
   "metadata": {},
   "outputs": [],
   "source": [
    "chunk_parser = nltk.RegexpParser(grammer)"
   ]
  },
  {
   "cell_type": "code",
   "execution_count": 54,
   "id": "2a37c6cf",
   "metadata": {},
   "outputs": [],
   "source": [
    "tree = chunk_parser.parse(tagpos) # The parse method is used to parse the POS-tagged words into a chunk tree."
   ]
  },
  {
   "cell_type": "code",
   "execution_count": 55,
   "id": "02cd0bd3",
   "metadata": {},
   "outputs": [],
   "source": [
    "tree.draw()"
   ]
  },
  {
   "cell_type": "markdown",
   "id": "719d1fda",
   "metadata": {},
   "source": [
    "# Chinking\n",
    "\n",
    "*  Chinking is used together with chunking, but while chunking is used to include a pattern, chinking is used to exclude a pattern.\n"
   ]
  },
  {
   "cell_type": "code",
   "execution_count": 71,
   "id": "dea11602",
   "metadata": {},
   "outputs": [],
   "source": [
    "from nltk.tokenize import word_tokenize\n",
    "from nltk import pos_tag"
   ]
  },
  {
   "cell_type": "code",
   "execution_count": 73,
   "id": "2dd3f4f7",
   "metadata": {},
   "outputs": [
    {
     "data": {
      "text/plain": [
       "[('It', 'PRP'),\n",
       " (\"'s\", 'VBZ'),\n",
       " ('a', 'DT'),\n",
       " ('dangerous', 'JJ'),\n",
       " ('business', 'NN'),\n",
       " (',', ','),\n",
       " ('Frodo', 'NNP'),\n",
       " (',', ','),\n",
       " ('going', 'VBG'),\n",
       " ('out', 'RP'),\n",
       " ('your', 'PRP$'),\n",
       " ('door', 'NN'),\n",
       " ('.', '.')]"
      ]
     },
     "execution_count": 73,
     "metadata": {},
     "output_type": "execute_result"
    }
   ],
   "source": [
    "sample = \"It's a dangerous business, Frodo, going out your door.\"\n",
    "words = word_tokenize(sample)\n",
    "tagpos = pos_tag(words)\n",
    "tagpos"
   ]
  },
  {
   "cell_type": "code",
   "execution_count": 61,
   "id": "1b76173c",
   "metadata": {},
   "outputs": [],
   "source": [
    "grammer = \"\"\"\n",
    "chunk: {<.*>+}\n",
    "}<JJ>{\n",
    "\"\"\"\n",
    "\n",
    "# ' chunk: {<.*>+} ' : This rule matches any sequence of one or more (+) POS tags (<.*> matches any tag). \n",
    "# Essentially, this rule creates a chunk for every sequence of tags.\n",
    "\n",
    "# ' }<JJ>{ ' : This rule is a chinking rule, which removes adjectives (<JJ>) from the chunks created by the previous rule."
   ]
  },
  {
   "cell_type": "code",
   "execution_count": 62,
   "id": "ec14717b",
   "metadata": {},
   "outputs": [],
   "source": [
    "chunk_parser = nltk.RegexpParser(grammer)"
   ]
  },
  {
   "cell_type": "code",
   "execution_count": 65,
   "id": "940ec115",
   "metadata": {},
   "outputs": [],
   "source": [
    "tree = chunk_parser.parse(tagpos) # The parse method is used to parse the POS-tagged words into a chunk tree."
   ]
  },
  {
   "cell_type": "code",
   "execution_count": 69,
   "id": "0841f25b",
   "metadata": {},
   "outputs": [],
   "source": [
    "tree.draw()   # there are chunks and JJ( adjective - dangerous ) will remove"
   ]
  },
  {
   "cell_type": "markdown",
   "id": "d0979e29",
   "metadata": {},
   "source": [
    "# Named Entity Recognition (NER)\n",
    "\n",
    "* Named entities are noun phrases that refer to specific locations, people, organizations, and so on.\n",
    "* With named entity recognition, you can find the named entities in your texts and also determine what kind of named entity they are.\n"
   ]
  },
  {
   "cell_type": "code",
   "execution_count": 77,
   "id": "7c09164a",
   "metadata": {
    "scrolled": true
   },
   "outputs": [
    {
     "name": "stderr",
     "output_type": "stream",
     "text": [
      "[nltk_data] Downloading package maxent_ne_chunker to\n",
      "[nltk_data]     C:\\Users\\Lapmart\\AppData\\Roaming\\nltk_data...\n",
      "[nltk_data]   Package maxent_ne_chunker is already up-to-date!\n",
      "[nltk_data] Downloading package words to\n",
      "[nltk_data]     C:\\Users\\Lapmart\\AppData\\Roaming\\nltk_data...\n",
      "[nltk_data]   Unzipping corpora\\words.zip.\n"
     ]
    },
    {
     "data": {
      "text/plain": [
       "True"
      ]
     },
     "execution_count": 77,
     "metadata": {},
     "output_type": "execute_result"
    }
   ],
   "source": [
    "import nltk\n",
    "nltk.download('maxent_ne_chunker')\n",
    "from nltk.tokenize import word_tokenize\n",
    "from nltk import pos_tagnltk.download('words')"
   ]
  },
  {
   "cell_type": "code",
   "execution_count": 85,
   "id": "1c96d9a1",
   "metadata": {},
   "outputs": [],
   "source": [
    "from nltk.tokenize import word_tokenize\n",
    "from nltk import pos_tag\n",
    "\n",
    "sample = \"It's a dangerous business, Frodo, going out your door.\"\n",
    "words = word_tokenize(sample)\n",
    "tagpos = pos_tag(words)"
   ]
  },
  {
   "cell_type": "code",
   "execution_count": 86,
   "id": "12179f16",
   "metadata": {},
   "outputs": [],
   "source": [
    "tree = nltk.ne_chunk(tagpos)"
   ]
  },
  {
   "cell_type": "code",
   "execution_count": 87,
   "id": "8042bfe2",
   "metadata": {},
   "outputs": [],
   "source": [
    "tree.draw() # Person---> Frodo"
   ]
  },
  {
   "cell_type": "code",
   "execution_count": 89,
   "id": "63ce2cd1",
   "metadata": {},
   "outputs": [],
   "source": [
    "msg = \"Obama was the president of the America\"\n",
    "words = word_tokenize(msg)\n",
    "tagpos = nltk.pos_tag(words)"
   ]
  },
  {
   "cell_type": "code",
   "execution_count": 90,
   "id": "7cbdaa06",
   "metadata": {},
   "outputs": [],
   "source": [
    "tree = nltk.ne_chunk(tagpos)"
   ]
  },
  {
   "cell_type": "code",
   "execution_count": 94,
   "id": "aba1b7d6",
   "metadata": {},
   "outputs": [],
   "source": [
    "tree.draw() # Obama - Person, America - GPE"
   ]
  },
  {
   "cell_type": "code",
   "execution_count": null,
   "id": "a8844fdd",
   "metadata": {},
   "outputs": [],
   "source": []
  }
 ],
 "metadata": {
  "kernelspec": {
   "display_name": "Python 3 (ipykernel)",
   "language": "python",
   "name": "python3"
  },
  "language_info": {
   "codemirror_mode": {
    "name": "ipython",
    "version": 3
   },
   "file_extension": ".py",
   "mimetype": "text/x-python",
   "name": "python",
   "nbconvert_exporter": "python",
   "pygments_lexer": "ipython3",
   "version": "3.9.13"
  }
 },
 "nbformat": 4,
 "nbformat_minor": 5
}
